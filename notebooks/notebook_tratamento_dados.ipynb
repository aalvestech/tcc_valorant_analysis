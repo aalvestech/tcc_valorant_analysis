{
 "cells": [
  {
   "cell_type": "code",
   "execution_count": 3,
   "metadata": {},
   "outputs": [],
   "source": [
    "import pandas as pd\n",
    "from datetime import datetime\n",
    "import seaborn as sns\n",
    "import matplotlib.pyplot as plt\n",
    "import plotly.express as px\n",
    "import warnings\n",
    "warnings.filterwarnings(\"ignore\")"
   ]
  },
  {
   "cell_type": "markdown",
   "metadata": {},
   "source": [
    "Top 500 All Servers"
   ]
  },
  {
   "cell_type": "code",
   "execution_count": 4,
   "metadata": {},
   "outputs": [
    {
     "data": {
      "text/html": [
       "<div>\n",
       "<style scoped>\n",
       "    .dataframe tbody tr th:only-of-type {\n",
       "        vertical-align: middle;\n",
       "    }\n",
       "\n",
       "    .dataframe tbody tr th {\n",
       "        vertical-align: top;\n",
       "    }\n",
       "\n",
       "    .dataframe thead th {\n",
       "        text-align: right;\n",
       "    }\n",
       "</style>\n",
       "<table border=\"1\" class=\"dataframe\">\n",
       "  <thead>\n",
       "    <tr style=\"text-align: right;\">\n",
       "      <th></th>\n",
       "      <th>Unnamed: 0</th>\n",
       "      <th>meta.shard</th>\n",
       "      <th>meta.season</th>\n",
       "      <th>meta.page</th>\n",
       "      <th>meta.perPage</th>\n",
       "      <th>meta.totalCount</th>\n",
       "      <th>meta.updatedAt</th>\n",
       "      <th>leaderboards.puuid</th>\n",
       "      <th>leaderboards.gameName</th>\n",
       "      <th>leaderboards.tagLine</th>\n",
       "      <th>leaderboards.leaderboardRank</th>\n",
       "      <th>leaderboards.rankedRating</th>\n",
       "      <th>leaderboards.numberOfWins</th>\n",
       "      <th>leaderboards.competitiveTier</th>\n",
       "      <th>leaderboards.stat.winRatio</th>\n",
       "      <th>leaderboards.stat.avgScore</th>\n",
       "      <th>leaderboards.stat.headshotRatio</th>\n",
       "      <th>leaderboards.stat.mostCharacters</th>\n",
       "      <th>leaderboards.full_nickname</th>\n",
       "    </tr>\n",
       "  </thead>\n",
       "  <tbody>\n",
       "    <tr>\n",
       "      <th>0</th>\n",
       "      <td>0</td>\n",
       "      <td>br</td>\n",
       "      <td>aca29595-40e4-01f5-3f35-b1b3d304c96e</td>\n",
       "      <td>1</td>\n",
       "      <td>100</td>\n",
       "      <td>500</td>\n",
       "      <td>2022-10-29T00:10:34.000Z</td>\n",
       "      <td>H54BruRabl10rwGbWHq_QCCLETxlgkxTECYxdgBSjr3nsF...</td>\n",
       "      <td>znjder</td>\n",
       "      <td>dgzin</td>\n",
       "      <td>1</td>\n",
       "      <td>979</td>\n",
       "      <td>92</td>\n",
       "      <td>27</td>\n",
       "      <td>0.633</td>\n",
       "      <td>250.0</td>\n",
       "      <td>0.314</td>\n",
       "      <td>[{'characterId': 'add6443a-41bd-e414-f6ad-e58d...</td>\n",
       "      <td>znjder%23dgzin</td>\n",
       "    </tr>\n",
       "    <tr>\n",
       "      <th>1</th>\n",
       "      <td>1</td>\n",
       "      <td>br</td>\n",
       "      <td>aca29595-40e4-01f5-3f35-b1b3d304c96e</td>\n",
       "      <td>1</td>\n",
       "      <td>100</td>\n",
       "      <td>500</td>\n",
       "      <td>2022-10-29T00:10:34.000Z</td>\n",
       "      <td>1q93nnIL_LTjr-30olVrL1T5PBFkTEe-UFL90_Nv__3L1h...</td>\n",
       "      <td>NIP cauanzin</td>\n",
       "      <td>2233</td>\n",
       "      <td>2</td>\n",
       "      <td>902</td>\n",
       "      <td>64</td>\n",
       "      <td>27</td>\n",
       "      <td>0.670</td>\n",
       "      <td>233.0</td>\n",
       "      <td>0.258</td>\n",
       "      <td>[{'characterId': 'dade69b4-4f5a-8528-247b-219e...</td>\n",
       "      <td>NIP cauanzin%232233</td>\n",
       "    </tr>\n",
       "    <tr>\n",
       "      <th>2</th>\n",
       "      <td>2</td>\n",
       "      <td>br</td>\n",
       "      <td>aca29595-40e4-01f5-3f35-b1b3d304c96e</td>\n",
       "      <td>1</td>\n",
       "      <td>100</td>\n",
       "      <td>500</td>\n",
       "      <td>2022-10-29T00:10:34.000Z</td>\n",
       "      <td>VAYOzZsNw-wGTnit3SrMAcay5VpfXGQrD1ycHVqjOkee5E...</td>\n",
       "      <td>FUR mwzera</td>\n",
       "      <td>2323</td>\n",
       "      <td>3</td>\n",
       "      <td>845</td>\n",
       "      <td>44</td>\n",
       "      <td>27</td>\n",
       "      <td>0.677</td>\n",
       "      <td>278.0</td>\n",
       "      <td>0.237</td>\n",
       "      <td>[{'characterId': '22697a3d-45bf-8dd7-4fec-84a9...</td>\n",
       "      <td>FUR mwzera%232323</td>\n",
       "    </tr>\n",
       "    <tr>\n",
       "      <th>3</th>\n",
       "      <td>3</td>\n",
       "      <td>br</td>\n",
       "      <td>aca29595-40e4-01f5-3f35-b1b3d304c96e</td>\n",
       "      <td>1</td>\n",
       "      <td>100</td>\n",
       "      <td>500</td>\n",
       "      <td>2022-10-29T00:10:34.000Z</td>\n",
       "      <td>ZuovuYNrb_WWpF2dupCgBNrGHjQFemFUEoLpXQipwW5ULs...</td>\n",
       "      <td>lula molusco</td>\n",
       "      <td>nariz</td>\n",
       "      <td>4</td>\n",
       "      <td>788</td>\n",
       "      <td>61</td>\n",
       "      <td>27</td>\n",
       "      <td>0.544</td>\n",
       "      <td>233.0</td>\n",
       "      <td>0.256</td>\n",
       "      <td>[{'characterId': '22697a3d-45bf-8dd7-4fec-84a9...</td>\n",
       "      <td>lula molusco%23nariz</td>\n",
       "    </tr>\n",
       "    <tr>\n",
       "      <th>4</th>\n",
       "      <td>4</td>\n",
       "      <td>br</td>\n",
       "      <td>aca29595-40e4-01f5-3f35-b1b3d304c96e</td>\n",
       "      <td>1</td>\n",
       "      <td>100</td>\n",
       "      <td>500</td>\n",
       "      <td>2022-10-29T00:10:34.000Z</td>\n",
       "      <td>NaN</td>\n",
       "      <td>NaN</td>\n",
       "      <td>NaN</td>\n",
       "      <td>5</td>\n",
       "      <td>766</td>\n",
       "      <td>54</td>\n",
       "      <td>27</td>\n",
       "      <td>NaN</td>\n",
       "      <td>NaN</td>\n",
       "      <td>NaN</td>\n",
       "      <td>NaN</td>\n",
       "      <td>nan%23nan</td>\n",
       "    </tr>\n",
       "  </tbody>\n",
       "</table>\n",
       "</div>"
      ],
      "text/plain": [
       "   Unnamed: 0 meta.shard                           meta.season  meta.page  \\\n",
       "0           0         br  aca29595-40e4-01f5-3f35-b1b3d304c96e          1   \n",
       "1           1         br  aca29595-40e4-01f5-3f35-b1b3d304c96e          1   \n",
       "2           2         br  aca29595-40e4-01f5-3f35-b1b3d304c96e          1   \n",
       "3           3         br  aca29595-40e4-01f5-3f35-b1b3d304c96e          1   \n",
       "4           4         br  aca29595-40e4-01f5-3f35-b1b3d304c96e          1   \n",
       "\n",
       "   meta.perPage  meta.totalCount            meta.updatedAt  \\\n",
       "0           100              500  2022-10-29T00:10:34.000Z   \n",
       "1           100              500  2022-10-29T00:10:34.000Z   \n",
       "2           100              500  2022-10-29T00:10:34.000Z   \n",
       "3           100              500  2022-10-29T00:10:34.000Z   \n",
       "4           100              500  2022-10-29T00:10:34.000Z   \n",
       "\n",
       "                                  leaderboards.puuid leaderboards.gameName  \\\n",
       "0  H54BruRabl10rwGbWHq_QCCLETxlgkxTECYxdgBSjr3nsF...                znjder   \n",
       "1  1q93nnIL_LTjr-30olVrL1T5PBFkTEe-UFL90_Nv__3L1h...          NIP cauanzin   \n",
       "2  VAYOzZsNw-wGTnit3SrMAcay5VpfXGQrD1ycHVqjOkee5E...            FUR mwzera   \n",
       "3  ZuovuYNrb_WWpF2dupCgBNrGHjQFemFUEoLpXQipwW5ULs...          lula molusco   \n",
       "4                                                NaN                   NaN   \n",
       "\n",
       "  leaderboards.tagLine  leaderboards.leaderboardRank  \\\n",
       "0                dgzin                             1   \n",
       "1                 2233                             2   \n",
       "2                 2323                             3   \n",
       "3                nariz                             4   \n",
       "4                  NaN                             5   \n",
       "\n",
       "   leaderboards.rankedRating  leaderboards.numberOfWins  \\\n",
       "0                        979                         92   \n",
       "1                        902                         64   \n",
       "2                        845                         44   \n",
       "3                        788                         61   \n",
       "4                        766                         54   \n",
       "\n",
       "   leaderboards.competitiveTier  leaderboards.stat.winRatio  \\\n",
       "0                            27                       0.633   \n",
       "1                            27                       0.670   \n",
       "2                            27                       0.677   \n",
       "3                            27                       0.544   \n",
       "4                            27                         NaN   \n",
       "\n",
       "   leaderboards.stat.avgScore  leaderboards.stat.headshotRatio  \\\n",
       "0                       250.0                            0.314   \n",
       "1                       233.0                            0.258   \n",
       "2                       278.0                            0.237   \n",
       "3                       233.0                            0.256   \n",
       "4                         NaN                              NaN   \n",
       "\n",
       "                    leaderboards.stat.mostCharacters  \\\n",
       "0  [{'characterId': 'add6443a-41bd-e414-f6ad-e58d...   \n",
       "1  [{'characterId': 'dade69b4-4f5a-8528-247b-219e...   \n",
       "2  [{'characterId': '22697a3d-45bf-8dd7-4fec-84a9...   \n",
       "3  [{'characterId': '22697a3d-45bf-8dd7-4fec-84a9...   \n",
       "4                                                NaN   \n",
       "\n",
       "  leaderboards.full_nickname  \n",
       "0             znjder%23dgzin  \n",
       "1        NIP cauanzin%232233  \n",
       "2          FUR mwzera%232323  \n",
       "3       lula molusco%23nariz  \n",
       "4                  nan%23nan  "
      ]
     },
     "execution_count": 4,
     "metadata": {},
     "output_type": "execute_result"
    }
   ],
   "source": [
    "df_top500_all_servers_raw = pd.read_csv('C:\\\\repos\\\\tcc_valorant_analysis\\\\data\\\\top_500\\\\top500_all_servers_17_11_2022_20_26.csv')\n",
    "df_top500_all_servers_raw.head(5)"
   ]
  },
  {
   "cell_type": "code",
   "execution_count": 5,
   "metadata": {},
   "outputs": [
    {
     "name": "stdout",
     "output_type": "stream",
     "text": [
      "Rows: 2400 Columns: 19\n"
     ]
    }
   ],
   "source": [
    "qt_rows = df_top500_all_servers_raw.shape[0]\n",
    "qt_columns = df_top500_all_servers_raw.shape[1]\n",
    "print('Rows: {} Columns: {}'.format(qt_rows, qt_columns))"
   ]
  },
  {
   "cell_type": "code",
   "execution_count": 6,
   "metadata": {},
   "outputs": [
    {
     "data": {
      "text/html": [
       "<div>\n",
       "<style scoped>\n",
       "    .dataframe tbody tr th:only-of-type {\n",
       "        vertical-align: middle;\n",
       "    }\n",
       "\n",
       "    .dataframe tbody tr th {\n",
       "        vertical-align: top;\n",
       "    }\n",
       "\n",
       "    .dataframe thead th {\n",
       "        text-align: right;\n",
       "    }\n",
       "</style>\n",
       "<table border=\"1\" class=\"dataframe\">\n",
       "  <thead>\n",
       "    <tr style=\"text-align: right;\">\n",
       "      <th></th>\n",
       "      <th>meta.shard</th>\n",
       "      <th>meta.updatedAt</th>\n",
       "      <th>leaderboards.gameName</th>\n",
       "      <th>leaderboards.tagLine</th>\n",
       "      <th>leaderboards.full_nickname</th>\n",
       "      <th>leaderboards.leaderboardRank</th>\n",
       "      <th>leaderboards.rankedRating</th>\n",
       "      <th>leaderboards.numberOfWins</th>\n",
       "      <th>leaderboards.competitiveTier</th>\n",
       "      <th>leaderboards.stat.winRatio</th>\n",
       "      <th>leaderboards.stat.avgScore</th>\n",
       "      <th>leaderboards.stat.headshotRatio</th>\n",
       "    </tr>\n",
       "  </thead>\n",
       "  <tbody>\n",
       "    <tr>\n",
       "      <th>0</th>\n",
       "      <td>br</td>\n",
       "      <td>2022-10-29T00:10:34.000Z</td>\n",
       "      <td>znjder</td>\n",
       "      <td>dgzin</td>\n",
       "      <td>znjder%23dgzin</td>\n",
       "      <td>1</td>\n",
       "      <td>979</td>\n",
       "      <td>92</td>\n",
       "      <td>27</td>\n",
       "      <td>0.633</td>\n",
       "      <td>250.0</td>\n",
       "      <td>0.314</td>\n",
       "    </tr>\n",
       "    <tr>\n",
       "      <th>1</th>\n",
       "      <td>br</td>\n",
       "      <td>2022-10-29T00:10:34.000Z</td>\n",
       "      <td>NIP cauanzin</td>\n",
       "      <td>2233</td>\n",
       "      <td>NIP cauanzin%232233</td>\n",
       "      <td>2</td>\n",
       "      <td>902</td>\n",
       "      <td>64</td>\n",
       "      <td>27</td>\n",
       "      <td>0.670</td>\n",
       "      <td>233.0</td>\n",
       "      <td>0.258</td>\n",
       "    </tr>\n",
       "    <tr>\n",
       "      <th>2</th>\n",
       "      <td>br</td>\n",
       "      <td>2022-10-29T00:10:34.000Z</td>\n",
       "      <td>FUR mwzera</td>\n",
       "      <td>2323</td>\n",
       "      <td>FUR mwzera%232323</td>\n",
       "      <td>3</td>\n",
       "      <td>845</td>\n",
       "      <td>44</td>\n",
       "      <td>27</td>\n",
       "      <td>0.677</td>\n",
       "      <td>278.0</td>\n",
       "      <td>0.237</td>\n",
       "    </tr>\n",
       "    <tr>\n",
       "      <th>3</th>\n",
       "      <td>br</td>\n",
       "      <td>2022-10-29T00:10:34.000Z</td>\n",
       "      <td>lula molusco</td>\n",
       "      <td>nariz</td>\n",
       "      <td>lula molusco%23nariz</td>\n",
       "      <td>4</td>\n",
       "      <td>788</td>\n",
       "      <td>61</td>\n",
       "      <td>27</td>\n",
       "      <td>0.544</td>\n",
       "      <td>233.0</td>\n",
       "      <td>0.256</td>\n",
       "    </tr>\n",
       "    <tr>\n",
       "      <th>4</th>\n",
       "      <td>br</td>\n",
       "      <td>2022-10-29T00:10:34.000Z</td>\n",
       "      <td>NaN</td>\n",
       "      <td>NaN</td>\n",
       "      <td>nan%23nan</td>\n",
       "      <td>5</td>\n",
       "      <td>766</td>\n",
       "      <td>54</td>\n",
       "      <td>27</td>\n",
       "      <td>NaN</td>\n",
       "      <td>NaN</td>\n",
       "      <td>NaN</td>\n",
       "    </tr>\n",
       "  </tbody>\n",
       "</table>\n",
       "</div>"
      ],
      "text/plain": [
       "  meta.shard            meta.updatedAt leaderboards.gameName  \\\n",
       "0         br  2022-10-29T00:10:34.000Z                znjder   \n",
       "1         br  2022-10-29T00:10:34.000Z          NIP cauanzin   \n",
       "2         br  2022-10-29T00:10:34.000Z            FUR mwzera   \n",
       "3         br  2022-10-29T00:10:34.000Z          lula molusco   \n",
       "4         br  2022-10-29T00:10:34.000Z                   NaN   \n",
       "\n",
       "  leaderboards.tagLine leaderboards.full_nickname  \\\n",
       "0                dgzin             znjder%23dgzin   \n",
       "1                 2233        NIP cauanzin%232233   \n",
       "2                 2323          FUR mwzera%232323   \n",
       "3                nariz       lula molusco%23nariz   \n",
       "4                  NaN                  nan%23nan   \n",
       "\n",
       "   leaderboards.leaderboardRank  leaderboards.rankedRating  \\\n",
       "0                             1                        979   \n",
       "1                             2                        902   \n",
       "2                             3                        845   \n",
       "3                             4                        788   \n",
       "4                             5                        766   \n",
       "\n",
       "   leaderboards.numberOfWins  leaderboards.competitiveTier  \\\n",
       "0                         92                            27   \n",
       "1                         64                            27   \n",
       "2                         44                            27   \n",
       "3                         61                            27   \n",
       "4                         54                            27   \n",
       "\n",
       "   leaderboards.stat.winRatio  leaderboards.stat.avgScore  \\\n",
       "0                       0.633                       250.0   \n",
       "1                       0.670                       233.0   \n",
       "2                       0.677                       278.0   \n",
       "3                       0.544                       233.0   \n",
       "4                         NaN                         NaN   \n",
       "\n",
       "   leaderboards.stat.headshotRatio  \n",
       "0                            0.314  \n",
       "1                            0.258  \n",
       "2                            0.237  \n",
       "3                            0.256  \n",
       "4                              NaN  "
      ]
     },
     "execution_count": 6,
     "metadata": {},
     "output_type": "execute_result"
    }
   ],
   "source": [
    "df_top500_all_servers = df_top500_all_servers_raw[['meta.shard', 'meta.updatedAt', 'leaderboards.gameName','leaderboards.tagLine',\n",
    "                                                  'leaderboards.full_nickname','leaderboards.leaderboardRank','leaderboards.rankedRating',\n",
    "                                                  'leaderboards.numberOfWins', 'leaderboards.competitiveTier','leaderboards.stat.winRatio',\n",
    "                                                  'leaderboards.stat.avgScore', 'leaderboards.stat.headshotRatio',]]\n",
    "\n",
    "df_top500_all_servers.head(5)"
   ]
  },
  {
   "cell_type": "code",
   "execution_count": 7,
   "metadata": {},
   "outputs": [
    {
     "data": {
      "text/html": [
       "<div>\n",
       "<style scoped>\n",
       "    .dataframe tbody tr th:only-of-type {\n",
       "        vertical-align: middle;\n",
       "    }\n",
       "\n",
       "    .dataframe tbody tr th {\n",
       "        vertical-align: top;\n",
       "    }\n",
       "\n",
       "    .dataframe thead th {\n",
       "        text-align: right;\n",
       "    }\n",
       "</style>\n",
       "<table border=\"1\" class=\"dataframe\">\n",
       "  <thead>\n",
       "    <tr style=\"text-align: right;\">\n",
       "      <th></th>\n",
       "      <th>server</th>\n",
       "      <th>updatedAt</th>\n",
       "      <th>gameName</th>\n",
       "      <th>tagLine</th>\n",
       "      <th>nickNameFull</th>\n",
       "      <th>leaderboardRank</th>\n",
       "      <th>rankedRating</th>\n",
       "      <th>numberOfWins</th>\n",
       "      <th>competitiveTier</th>\n",
       "      <th>winRatio</th>\n",
       "      <th>avgScore</th>\n",
       "      <th>headshotRatio</th>\n",
       "    </tr>\n",
       "  </thead>\n",
       "  <tbody>\n",
       "    <tr>\n",
       "      <th>0</th>\n",
       "      <td>br</td>\n",
       "      <td>2022-10-29T00:10:34.000Z</td>\n",
       "      <td>znjder</td>\n",
       "      <td>dgzin</td>\n",
       "      <td>znjder%23dgzin</td>\n",
       "      <td>1</td>\n",
       "      <td>979</td>\n",
       "      <td>92</td>\n",
       "      <td>27</td>\n",
       "      <td>0.633</td>\n",
       "      <td>250.0</td>\n",
       "      <td>0.314</td>\n",
       "    </tr>\n",
       "    <tr>\n",
       "      <th>1</th>\n",
       "      <td>br</td>\n",
       "      <td>2022-10-29T00:10:34.000Z</td>\n",
       "      <td>NIP cauanzin</td>\n",
       "      <td>2233</td>\n",
       "      <td>NIP cauanzin%232233</td>\n",
       "      <td>2</td>\n",
       "      <td>902</td>\n",
       "      <td>64</td>\n",
       "      <td>27</td>\n",
       "      <td>0.670</td>\n",
       "      <td>233.0</td>\n",
       "      <td>0.258</td>\n",
       "    </tr>\n",
       "    <tr>\n",
       "      <th>2</th>\n",
       "      <td>br</td>\n",
       "      <td>2022-10-29T00:10:34.000Z</td>\n",
       "      <td>FUR mwzera</td>\n",
       "      <td>2323</td>\n",
       "      <td>FUR mwzera%232323</td>\n",
       "      <td>3</td>\n",
       "      <td>845</td>\n",
       "      <td>44</td>\n",
       "      <td>27</td>\n",
       "      <td>0.677</td>\n",
       "      <td>278.0</td>\n",
       "      <td>0.237</td>\n",
       "    </tr>\n",
       "    <tr>\n",
       "      <th>3</th>\n",
       "      <td>br</td>\n",
       "      <td>2022-10-29T00:10:34.000Z</td>\n",
       "      <td>lula molusco</td>\n",
       "      <td>nariz</td>\n",
       "      <td>lula molusco%23nariz</td>\n",
       "      <td>4</td>\n",
       "      <td>788</td>\n",
       "      <td>61</td>\n",
       "      <td>27</td>\n",
       "      <td>0.544</td>\n",
       "      <td>233.0</td>\n",
       "      <td>0.256</td>\n",
       "    </tr>\n",
       "    <tr>\n",
       "      <th>4</th>\n",
       "      <td>br</td>\n",
       "      <td>2022-10-29T00:10:34.000Z</td>\n",
       "      <td>NaN</td>\n",
       "      <td>NaN</td>\n",
       "      <td>nan%23nan</td>\n",
       "      <td>5</td>\n",
       "      <td>766</td>\n",
       "      <td>54</td>\n",
       "      <td>27</td>\n",
       "      <td>NaN</td>\n",
       "      <td>NaN</td>\n",
       "      <td>NaN</td>\n",
       "    </tr>\n",
       "  </tbody>\n",
       "</table>\n",
       "</div>"
      ],
      "text/plain": [
       "  server                 updatedAt      gameName tagLine  \\\n",
       "0     br  2022-10-29T00:10:34.000Z        znjder   dgzin   \n",
       "1     br  2022-10-29T00:10:34.000Z  NIP cauanzin    2233   \n",
       "2     br  2022-10-29T00:10:34.000Z    FUR mwzera    2323   \n",
       "3     br  2022-10-29T00:10:34.000Z  lula molusco   nariz   \n",
       "4     br  2022-10-29T00:10:34.000Z           NaN     NaN   \n",
       "\n",
       "           nickNameFull  leaderboardRank  rankedRating  numberOfWins  \\\n",
       "0        znjder%23dgzin                1           979            92   \n",
       "1   NIP cauanzin%232233                2           902            64   \n",
       "2     FUR mwzera%232323                3           845            44   \n",
       "3  lula molusco%23nariz                4           788            61   \n",
       "4             nan%23nan                5           766            54   \n",
       "\n",
       "   competitiveTier  winRatio  avgScore  headshotRatio  \n",
       "0               27     0.633     250.0          0.314  \n",
       "1               27     0.670     233.0          0.258  \n",
       "2               27     0.677     278.0          0.237  \n",
       "3               27     0.544     233.0          0.256  \n",
       "4               27       NaN       NaN            NaN  "
      ]
     },
     "execution_count": 7,
     "metadata": {},
     "output_type": "execute_result"
    }
   ],
   "source": [
    "df_top500_all_servers = df_top500_all_servers.rename(columns={'meta.shard': 'server', 'meta.updatedAt': 'updatedAt',\n",
    "                                      'leaderboards.gameName': 'gameName', 'leaderboards.tagLine': 'tagLine',\n",
    "                                      'leaderboards.full_nickname': 'nickNameFull', 'leaderboards.leaderboardRank': 'leaderboardRank',\n",
    "                                      'leaderboards.rankedRating': 'rankedRating', 'leaderboards.numberOfWins': 'numberOfWins',\n",
    "                                      'leaderboards.competitiveTier': 'competitiveTier', 'leaderboards.stat.winRatio': 'winRatio',\n",
    "                                      'leaderboards.stat.avgScore': 'avgScore', 'leaderboards.stat.headshotRatio': 'headshotRatio',})\n",
    "\n",
    "df_top500_all_servers.head(5)"
   ]
  },
  {
   "cell_type": "code",
   "execution_count": 8,
   "metadata": {},
   "outputs": [
    {
     "name": "stdout",
     "output_type": "stream",
     "text": [
      "Rows: 2158 Columns: 12\n"
     ]
    }
   ],
   "source": [
    "df_top500_all_servers = df_top500_all_servers.dropna().reset_index(drop=True)\n",
    "\n",
    "qt_rows = df_top500_all_servers.shape[0]\n",
    "qt_columns = df_top500_all_servers.shape[1]\n",
    "print('Rows: {} Columns: {}'.format(qt_rows, qt_columns))"
   ]
  },
  {
   "cell_type": "code",
   "execution_count": 9,
   "metadata": {},
   "outputs": [
    {
     "data": {
      "text/html": [
       "<div>\n",
       "<style scoped>\n",
       "    .dataframe tbody tr th:only-of-type {\n",
       "        vertical-align: middle;\n",
       "    }\n",
       "\n",
       "    .dataframe tbody tr th {\n",
       "        vertical-align: top;\n",
       "    }\n",
       "\n",
       "    .dataframe thead th {\n",
       "        text-align: right;\n",
       "    }\n",
       "</style>\n",
       "<table border=\"1\" class=\"dataframe\">\n",
       "  <thead>\n",
       "    <tr style=\"text-align: right;\">\n",
       "      <th></th>\n",
       "      <th>server</th>\n",
       "      <th>updatedAt</th>\n",
       "      <th>gameName</th>\n",
       "      <th>tagLine</th>\n",
       "      <th>nickNameFull</th>\n",
       "      <th>leaderboardRank</th>\n",
       "      <th>rankedRating</th>\n",
       "      <th>numberOfWins</th>\n",
       "      <th>competitiveTier</th>\n",
       "      <th>winRatio</th>\n",
       "      <th>avgScore</th>\n",
       "      <th>headshotRatio</th>\n",
       "    </tr>\n",
       "  </thead>\n",
       "  <tbody>\n",
       "    <tr>\n",
       "      <th>0</th>\n",
       "      <td>br</td>\n",
       "      <td>2022-10-29T00:10:34.000Z</td>\n",
       "      <td>znjder</td>\n",
       "      <td>dgzin</td>\n",
       "      <td>znjder%23dgzin</td>\n",
       "      <td>1</td>\n",
       "      <td>979</td>\n",
       "      <td>92</td>\n",
       "      <td>27</td>\n",
       "      <td>0.633</td>\n",
       "      <td>250.0</td>\n",
       "      <td>0.314</td>\n",
       "    </tr>\n",
       "    <tr>\n",
       "      <th>1</th>\n",
       "      <td>br</td>\n",
       "      <td>2022-10-29T00:10:34.000Z</td>\n",
       "      <td>NIP cauanzin</td>\n",
       "      <td>2233</td>\n",
       "      <td>NIP cauanzin%232233</td>\n",
       "      <td>2</td>\n",
       "      <td>902</td>\n",
       "      <td>64</td>\n",
       "      <td>27</td>\n",
       "      <td>0.670</td>\n",
       "      <td>233.0</td>\n",
       "      <td>0.258</td>\n",
       "    </tr>\n",
       "    <tr>\n",
       "      <th>2</th>\n",
       "      <td>br</td>\n",
       "      <td>2022-10-29T00:10:34.000Z</td>\n",
       "      <td>FUR mwzera</td>\n",
       "      <td>2323</td>\n",
       "      <td>FUR mwzera%232323</td>\n",
       "      <td>3</td>\n",
       "      <td>845</td>\n",
       "      <td>44</td>\n",
       "      <td>27</td>\n",
       "      <td>0.677</td>\n",
       "      <td>278.0</td>\n",
       "      <td>0.237</td>\n",
       "    </tr>\n",
       "    <tr>\n",
       "      <th>3</th>\n",
       "      <td>br</td>\n",
       "      <td>2022-10-29T00:10:34.000Z</td>\n",
       "      <td>lula molusco</td>\n",
       "      <td>nariz</td>\n",
       "      <td>lula molusco%23nariz</td>\n",
       "      <td>4</td>\n",
       "      <td>788</td>\n",
       "      <td>61</td>\n",
       "      <td>27</td>\n",
       "      <td>0.544</td>\n",
       "      <td>233.0</td>\n",
       "      <td>0.256</td>\n",
       "    </tr>\n",
       "    <tr>\n",
       "      <th>4</th>\n",
       "      <td>br</td>\n",
       "      <td>2022-10-29T00:10:34.000Z</td>\n",
       "      <td>tisora</td>\n",
       "      <td>zzz</td>\n",
       "      <td>tisora%23zzz</td>\n",
       "      <td>6</td>\n",
       "      <td>756</td>\n",
       "      <td>32</td>\n",
       "      <td>27</td>\n",
       "      <td>0.733</td>\n",
       "      <td>293.0</td>\n",
       "      <td>0.256</td>\n",
       "    </tr>\n",
       "    <tr>\n",
       "      <th>...</th>\n",
       "      <td>...</td>\n",
       "      <td>...</td>\n",
       "      <td>...</td>\n",
       "      <td>...</td>\n",
       "      <td>...</td>\n",
       "      <td>...</td>\n",
       "      <td>...</td>\n",
       "      <td>...</td>\n",
       "      <td>...</td>\n",
       "      <td>...</td>\n",
       "      <td>...</td>\n",
       "      <td>...</td>\n",
       "    </tr>\n",
       "    <tr>\n",
       "      <th>2153</th>\n",
       "      <td>ap</td>\n",
       "      <td>2022-10-29T00:11:29.000Z</td>\n",
       "      <td>ENGM karam1l</td>\n",
       "      <td>118</td>\n",
       "      <td>ENGM karam1l%23118</td>\n",
       "      <td>396</td>\n",
       "      <td>400</td>\n",
       "      <td>46</td>\n",
       "      <td>27</td>\n",
       "      <td>0.506</td>\n",
       "      <td>243.0</td>\n",
       "      <td>0.307</td>\n",
       "    </tr>\n",
       "    <tr>\n",
       "      <th>2154</th>\n",
       "      <td>ap</td>\n",
       "      <td>2022-10-29T00:11:29.000Z</td>\n",
       "      <td>CaesarGG</td>\n",
       "      <td>0217</td>\n",
       "      <td>CaesarGG%230217</td>\n",
       "      <td>397</td>\n",
       "      <td>400</td>\n",
       "      <td>40</td>\n",
       "      <td>27</td>\n",
       "      <td>0.651</td>\n",
       "      <td>249.0</td>\n",
       "      <td>0.334</td>\n",
       "    </tr>\n",
       "    <tr>\n",
       "      <th>2155</th>\n",
       "      <td>ap</td>\n",
       "      <td>2022-10-29T00:11:29.000Z</td>\n",
       "      <td>Nanoi7</td>\n",
       "      <td>7777</td>\n",
       "      <td>Nanoi7%237777</td>\n",
       "      <td>398</td>\n",
       "      <td>400</td>\n",
       "      <td>67</td>\n",
       "      <td>27</td>\n",
       "      <td>0.642</td>\n",
       "      <td>243.0</td>\n",
       "      <td>0.237</td>\n",
       "    </tr>\n",
       "    <tr>\n",
       "      <th>2156</th>\n",
       "      <td>ap</td>\n",
       "      <td>2022-10-29T00:11:29.000Z</td>\n",
       "      <td>machoke</td>\n",
       "      <td>mepls</td>\n",
       "      <td>machoke%23mepls</td>\n",
       "      <td>399</td>\n",
       "      <td>400</td>\n",
       "      <td>40</td>\n",
       "      <td>27</td>\n",
       "      <td>0.732</td>\n",
       "      <td>267.0</td>\n",
       "      <td>0.285</td>\n",
       "    </tr>\n",
       "    <tr>\n",
       "      <th>2157</th>\n",
       "      <td>ap</td>\n",
       "      <td>2022-10-29T00:11:29.000Z</td>\n",
       "      <td>Either W or L</td>\n",
       "      <td>Wonly</td>\n",
       "      <td>Either W or L%23Wonly</td>\n",
       "      <td>400</td>\n",
       "      <td>400</td>\n",
       "      <td>69</td>\n",
       "      <td>27</td>\n",
       "      <td>0.636</td>\n",
       "      <td>228.0</td>\n",
       "      <td>0.289</td>\n",
       "    </tr>\n",
       "  </tbody>\n",
       "</table>\n",
       "<p>2158 rows × 12 columns</p>\n",
       "</div>"
      ],
      "text/plain": [
       "     server                 updatedAt       gameName tagLine  \\\n",
       "0        br  2022-10-29T00:10:34.000Z         znjder   dgzin   \n",
       "1        br  2022-10-29T00:10:34.000Z   NIP cauanzin    2233   \n",
       "2        br  2022-10-29T00:10:34.000Z     FUR mwzera    2323   \n",
       "3        br  2022-10-29T00:10:34.000Z   lula molusco   nariz   \n",
       "4        br  2022-10-29T00:10:34.000Z         tisora     zzz   \n",
       "...     ...                       ...            ...     ...   \n",
       "2153     ap  2022-10-29T00:11:29.000Z   ENGM karam1l     118   \n",
       "2154     ap  2022-10-29T00:11:29.000Z       CaesarGG    0217   \n",
       "2155     ap  2022-10-29T00:11:29.000Z         Nanoi7    7777   \n",
       "2156     ap  2022-10-29T00:11:29.000Z        machoke   mepls   \n",
       "2157     ap  2022-10-29T00:11:29.000Z  Either W or L   Wonly   \n",
       "\n",
       "               nickNameFull  leaderboardRank  rankedRating  numberOfWins  \\\n",
       "0            znjder%23dgzin                1           979            92   \n",
       "1       NIP cauanzin%232233                2           902            64   \n",
       "2         FUR mwzera%232323                3           845            44   \n",
       "3      lula molusco%23nariz                4           788            61   \n",
       "4              tisora%23zzz                6           756            32   \n",
       "...                     ...              ...           ...           ...   \n",
       "2153     ENGM karam1l%23118              396           400            46   \n",
       "2154        CaesarGG%230217              397           400            40   \n",
       "2155          Nanoi7%237777              398           400            67   \n",
       "2156        machoke%23mepls              399           400            40   \n",
       "2157  Either W or L%23Wonly              400           400            69   \n",
       "\n",
       "      competitiveTier  winRatio  avgScore  headshotRatio  \n",
       "0                  27     0.633     250.0          0.314  \n",
       "1                  27     0.670     233.0          0.258  \n",
       "2                  27     0.677     278.0          0.237  \n",
       "3                  27     0.544     233.0          0.256  \n",
       "4                  27     0.733     293.0          0.256  \n",
       "...               ...       ...       ...            ...  \n",
       "2153               27     0.506     243.0          0.307  \n",
       "2154               27     0.651     249.0          0.334  \n",
       "2155               27     0.642     243.0          0.237  \n",
       "2156               27     0.732     267.0          0.285  \n",
       "2157               27     0.636     228.0          0.289  \n",
       "\n",
       "[2158 rows x 12 columns]"
      ]
     },
     "execution_count": 9,
     "metadata": {},
     "output_type": "execute_result"
    }
   ],
   "source": [
    "df_top500_all_servers"
   ]
  },
  {
   "cell_type": "code",
   "execution_count": 10,
   "metadata": {},
   "outputs": [],
   "source": [
    "df_top500_all_servers.to_csv('C:\\\\repos\\\\tcc_valorant_analysis\\\\data\\\\top_500\\\\top500_abt.csv')"
   ]
  },
  {
   "cell_type": "markdown",
   "metadata": {},
   "source": [
    "Matches"
   ]
  },
  {
   "cell_type": "code",
   "execution_count": 11,
   "metadata": {},
   "outputs": [
    {
     "data": {
      "text/html": [
       "<div>\n",
       "<style scoped>\n",
       "    .dataframe tbody tr th:only-of-type {\n",
       "        vertical-align: middle;\n",
       "    }\n",
       "\n",
       "    .dataframe tbody tr th {\n",
       "        vertical-align: top;\n",
       "    }\n",
       "\n",
       "    .dataframe thead th {\n",
       "        text-align: right;\n",
       "    }\n",
       "</style>\n",
       "<table border=\"1\" class=\"dataframe\">\n",
       "  <thead>\n",
       "    <tr style=\"text-align: right;\">\n",
       "      <th></th>\n",
       "      <th>player</th>\n",
       "      <th>matchId</th>\n",
       "      <th>mapId</th>\n",
       "      <th>modeId</th>\n",
       "      <th>modeKey</th>\n",
       "      <th>modeName</th>\n",
       "      <th>modeImageUrl</th>\n",
       "      <th>modeMaxRounds</th>\n",
       "      <th>isAvailable</th>\n",
       "      <th>timestamp</th>\n",
       "      <th>...</th>\n",
       "      <th>scorePerRoundDisplayType</th>\n",
       "      <th>damagePerRoundValue</th>\n",
       "      <th>damagePerRoundDisplayValue</th>\n",
       "      <th>damagePerRoundDisplayType</th>\n",
       "      <th>headshotsPercentageValue</th>\n",
       "      <th>headshotsPercentageDisplayValue</th>\n",
       "      <th>headshotsPercentageDisplayType</th>\n",
       "      <th>rankValue</th>\n",
       "      <th>rankDisplayValue</th>\n",
       "      <th>rankDisplayType</th>\n",
       "    </tr>\n",
       "  </thead>\n",
       "  <tbody>\n",
       "    <tr>\n",
       "      <th>0</th>\n",
       "      <td>NIP cauanzin%232233</td>\n",
       "      <td>7a6df5ad-6c30-4cf7-a999-3816c38980f7</td>\n",
       "      <td>/Game/Maps/Triad/Triad</td>\n",
       "      <td>/Game/GameModes/Bomb/BombGameMode.BombGameMode_C</td>\n",
       "      <td>bomb</td>\n",
       "      <td>Competitive</td>\n",
       "      <td>https://trackercdn.com/cdn/tracker.gg/valorant...</td>\n",
       "      <td>25</td>\n",
       "      <td>True</td>\n",
       "      <td>2022-11-08T18:10:05.755+00:00</td>\n",
       "      <td>...</td>\n",
       "      <td>NumberPrecision1</td>\n",
       "      <td>182.428571</td>\n",
       "      <td>182.4</td>\n",
       "      <td>NumberPrecision1</td>\n",
       "      <td>28.125000</td>\n",
       "      <td>28</td>\n",
       "      <td>Number</td>\n",
       "      <td>NaN</td>\n",
       "      <td>NaN</td>\n",
       "      <td>String</td>\n",
       "    </tr>\n",
       "    <tr>\n",
       "      <th>1</th>\n",
       "      <td>NIP cauanzin%232233</td>\n",
       "      <td>f98c7a4b-9892-4395-995f-bd6fcc261dc9</td>\n",
       "      <td>/Game/Maps/Triad/Triad</td>\n",
       "      <td>/Game/GameModes/Bomb/BombGameMode.BombGameMode_C</td>\n",
       "      <td>bomb</td>\n",
       "      <td>Competitive</td>\n",
       "      <td>https://trackercdn.com/cdn/tracker.gg/valorant...</td>\n",
       "      <td>25</td>\n",
       "      <td>True</td>\n",
       "      <td>2022-11-08T17:23:58.171+00:00</td>\n",
       "      <td>...</td>\n",
       "      <td>NumberPrecision1</td>\n",
       "      <td>121.263158</td>\n",
       "      <td>121.3</td>\n",
       "      <td>NumberPrecision1</td>\n",
       "      <td>25.000000</td>\n",
       "      <td>25</td>\n",
       "      <td>Number</td>\n",
       "      <td>NaN</td>\n",
       "      <td>NaN</td>\n",
       "      <td>String</td>\n",
       "    </tr>\n",
       "    <tr>\n",
       "      <th>2</th>\n",
       "      <td>NIP cauanzin%232233</td>\n",
       "      <td>57ab0df2-5309-4809-93dd-b1a6d24adad1</td>\n",
       "      <td>/Game/Maps/Duality/Duality</td>\n",
       "      <td>/Game/GameModes/Bomb/BombGameMode.BombGameMode_C</td>\n",
       "      <td>bomb</td>\n",
       "      <td>Competitive</td>\n",
       "      <td>https://trackercdn.com/cdn/tracker.gg/valorant...</td>\n",
       "      <td>25</td>\n",
       "      <td>True</td>\n",
       "      <td>2022-11-08T16:48:52.583+00:00</td>\n",
       "      <td>...</td>\n",
       "      <td>NumberPrecision1</td>\n",
       "      <td>167.947368</td>\n",
       "      <td>167.9</td>\n",
       "      <td>NumberPrecision1</td>\n",
       "      <td>26.530612</td>\n",
       "      <td>27</td>\n",
       "      <td>Number</td>\n",
       "      <td>NaN</td>\n",
       "      <td>NaN</td>\n",
       "      <td>String</td>\n",
       "    </tr>\n",
       "    <tr>\n",
       "      <th>3</th>\n",
       "      <td>NIP cauanzin%232233</td>\n",
       "      <td>2b03d90d-24e2-4139-a518-93c9917ad57b</td>\n",
       "      <td>/Game/Maps/Pitt/Pitt</td>\n",
       "      <td>/Game/GameModes/Bomb/BombGameMode.BombGameMode_C</td>\n",
       "      <td>bomb</td>\n",
       "      <td>Competitive</td>\n",
       "      <td>https://trackercdn.com/cdn/tracker.gg/valorant...</td>\n",
       "      <td>25</td>\n",
       "      <td>True</td>\n",
       "      <td>2022-11-08T15:59:51.22+00:00</td>\n",
       "      <td>...</td>\n",
       "      <td>NumberPrecision1</td>\n",
       "      <td>159.208333</td>\n",
       "      <td>159.2</td>\n",
       "      <td>NumberPrecision1</td>\n",
       "      <td>16.000000</td>\n",
       "      <td>16</td>\n",
       "      <td>Number</td>\n",
       "      <td>NaN</td>\n",
       "      <td>NaN</td>\n",
       "      <td>String</td>\n",
       "    </tr>\n",
       "    <tr>\n",
       "      <th>4</th>\n",
       "      <td>NIP cauanzin%232233</td>\n",
       "      <td>ffc2bcc5-b041-4932-8150-c6cf0df2bad8</td>\n",
       "      <td>/Game/Maps/Foxtrot/Foxtrot</td>\n",
       "      <td>/Game/GameModes/Bomb/BombGameMode.BombGameMode_C</td>\n",
       "      <td>bomb</td>\n",
       "      <td>Competitive</td>\n",
       "      <td>https://trackercdn.com/cdn/tracker.gg/valorant...</td>\n",
       "      <td>25</td>\n",
       "      <td>True</td>\n",
       "      <td>2022-11-05T22:17:04.347+00:00</td>\n",
       "      <td>...</td>\n",
       "      <td>NumberPrecision1</td>\n",
       "      <td>136.300000</td>\n",
       "      <td>136.3</td>\n",
       "      <td>NumberPrecision1</td>\n",
       "      <td>32.075472</td>\n",
       "      <td>32</td>\n",
       "      <td>Number</td>\n",
       "      <td>NaN</td>\n",
       "      <td>NaN</td>\n",
       "      <td>String</td>\n",
       "    </tr>\n",
       "  </tbody>\n",
       "</table>\n",
       "<p>5 rows × 148 columns</p>\n",
       "</div>"
      ],
      "text/plain": [
       "                player                               matchId  \\\n",
       "0  NIP cauanzin%232233  7a6df5ad-6c30-4cf7-a999-3816c38980f7   \n",
       "1  NIP cauanzin%232233  f98c7a4b-9892-4395-995f-bd6fcc261dc9   \n",
       "2  NIP cauanzin%232233  57ab0df2-5309-4809-93dd-b1a6d24adad1   \n",
       "3  NIP cauanzin%232233  2b03d90d-24e2-4139-a518-93c9917ad57b   \n",
       "4  NIP cauanzin%232233  ffc2bcc5-b041-4932-8150-c6cf0df2bad8   \n",
       "\n",
       "                        mapId  \\\n",
       "0      /Game/Maps/Triad/Triad   \n",
       "1      /Game/Maps/Triad/Triad   \n",
       "2  /Game/Maps/Duality/Duality   \n",
       "3        /Game/Maps/Pitt/Pitt   \n",
       "4  /Game/Maps/Foxtrot/Foxtrot   \n",
       "\n",
       "                                             modeId modeKey     modeName  \\\n",
       "0  /Game/GameModes/Bomb/BombGameMode.BombGameMode_C    bomb  Competitive   \n",
       "1  /Game/GameModes/Bomb/BombGameMode.BombGameMode_C    bomb  Competitive   \n",
       "2  /Game/GameModes/Bomb/BombGameMode.BombGameMode_C    bomb  Competitive   \n",
       "3  /Game/GameModes/Bomb/BombGameMode.BombGameMode_C    bomb  Competitive   \n",
       "4  /Game/GameModes/Bomb/BombGameMode.BombGameMode_C    bomb  Competitive   \n",
       "\n",
       "                                        modeImageUrl  modeMaxRounds  \\\n",
       "0  https://trackercdn.com/cdn/tracker.gg/valorant...             25   \n",
       "1  https://trackercdn.com/cdn/tracker.gg/valorant...             25   \n",
       "2  https://trackercdn.com/cdn/tracker.gg/valorant...             25   \n",
       "3  https://trackercdn.com/cdn/tracker.gg/valorant...             25   \n",
       "4  https://trackercdn.com/cdn/tracker.gg/valorant...             25   \n",
       "\n",
       "   isAvailable                      timestamp  ... scorePerRoundDisplayType  \\\n",
       "0         True  2022-11-08T18:10:05.755+00:00  ...         NumberPrecision1   \n",
       "1         True  2022-11-08T17:23:58.171+00:00  ...         NumberPrecision1   \n",
       "2         True  2022-11-08T16:48:52.583+00:00  ...         NumberPrecision1   \n",
       "3         True   2022-11-08T15:59:51.22+00:00  ...         NumberPrecision1   \n",
       "4         True  2022-11-05T22:17:04.347+00:00  ...         NumberPrecision1   \n",
       "\n",
       "  damagePerRoundValue damagePerRoundDisplayValue damagePerRoundDisplayType  \\\n",
       "0          182.428571                      182.4          NumberPrecision1   \n",
       "1          121.263158                      121.3          NumberPrecision1   \n",
       "2          167.947368                      167.9          NumberPrecision1   \n",
       "3          159.208333                      159.2          NumberPrecision1   \n",
       "4          136.300000                      136.3          NumberPrecision1   \n",
       "\n",
       "  headshotsPercentageValue headshotsPercentageDisplayValue  \\\n",
       "0                28.125000                              28   \n",
       "1                25.000000                              25   \n",
       "2                26.530612                              27   \n",
       "3                16.000000                              16   \n",
       "4                32.075472                              32   \n",
       "\n",
       "   headshotsPercentageDisplayType rankValue rankDisplayValue  rankDisplayType  \n",
       "0                          Number       NaN              NaN           String  \n",
       "1                          Number       NaN              NaN           String  \n",
       "2                          Number       NaN              NaN           String  \n",
       "3                          Number       NaN              NaN           String  \n",
       "4                          Number       NaN              NaN           String  \n",
       "\n",
       "[5 rows x 148 columns]"
      ]
     },
     "execution_count": 11,
     "metadata": {},
     "output_type": "execute_result"
    }
   ],
   "source": [
    "df_matches_raw = pd.read_csv('C:\\\\repos\\\\tcc_valorant_analysis\\\\data\\\\matches\\\\matches_summarized_202211111333.csv')\n",
    "df_matches_raw.head(5)"
   ]
  },
  {
   "cell_type": "code",
   "execution_count": 12,
   "metadata": {},
   "outputs": [
    {
     "name": "stdout",
     "output_type": "stream",
     "text": [
      "Rows: 333835 Columns: 148\n"
     ]
    }
   ],
   "source": [
    "qt_rows = df_matches_raw.shape[0]\n",
    "qt_columns = df_matches_raw.shape[1]\n",
    "print('Rows: {} Columns: {}'.format(qt_rows, qt_columns))"
   ]
  },
  {
   "cell_type": "code",
   "execution_count": 13,
   "metadata": {},
   "outputs": [
    {
     "data": {
      "text/html": [
       "<div>\n",
       "<style scoped>\n",
       "    .dataframe tbody tr th:only-of-type {\n",
       "        vertical-align: middle;\n",
       "    }\n",
       "\n",
       "    .dataframe tbody tr th {\n",
       "        vertical-align: top;\n",
       "    }\n",
       "\n",
       "    .dataframe thead th {\n",
       "        text-align: right;\n",
       "    }\n",
       "</style>\n",
       "<table border=\"1\" class=\"dataframe\">\n",
       "  <thead>\n",
       "    <tr style=\"text-align: right;\">\n",
       "      <th></th>\n",
       "      <th>player</th>\n",
       "      <th>matchId</th>\n",
       "      <th>mapId</th>\n",
       "      <th>modeId</th>\n",
       "      <th>modeKey</th>\n",
       "      <th>modeName</th>\n",
       "      <th>modeImageUrl</th>\n",
       "      <th>modeMaxRounds</th>\n",
       "      <th>isAvailable</th>\n",
       "      <th>timestamp</th>\n",
       "      <th>...</th>\n",
       "      <th>kdRatioDisplayValue</th>\n",
       "      <th>kdRatioDisplayType</th>\n",
       "      <th>scorePerRoundValue</th>\n",
       "      <th>scorePerRoundDisplayValue</th>\n",
       "      <th>scorePerRoundDisplayType</th>\n",
       "      <th>damagePerRoundValue</th>\n",
       "      <th>damagePerRoundDisplayValue</th>\n",
       "      <th>damagePerRoundDisplayType</th>\n",
       "      <th>headshotsPercentageValue</th>\n",
       "      <th>headshotsPercentageDisplayValue</th>\n",
       "    </tr>\n",
       "  </thead>\n",
       "  <tbody>\n",
       "    <tr>\n",
       "      <th>0</th>\n",
       "      <td>NIP cauanzin%232233</td>\n",
       "      <td>7a6df5ad-6c30-4cf7-a999-3816c38980f7</td>\n",
       "      <td>/Game/Maps/Triad/Triad</td>\n",
       "      <td>/Game/GameModes/Bomb/BombGameMode.BombGameMode_C</td>\n",
       "      <td>bomb</td>\n",
       "      <td>Competitive</td>\n",
       "      <td>https://trackercdn.com/cdn/tracker.gg/valorant...</td>\n",
       "      <td>25</td>\n",
       "      <td>True</td>\n",
       "      <td>2022-11-08T18:10:05.755+00:00</td>\n",
       "      <td>...</td>\n",
       "      <td>1.1</td>\n",
       "      <td>NumberPrecision1</td>\n",
       "      <td>265.619048</td>\n",
       "      <td>265.6</td>\n",
       "      <td>NumberPrecision1</td>\n",
       "      <td>182.428571</td>\n",
       "      <td>182.4</td>\n",
       "      <td>NumberPrecision1</td>\n",
       "      <td>28.125000</td>\n",
       "      <td>28</td>\n",
       "    </tr>\n",
       "    <tr>\n",
       "      <th>1</th>\n",
       "      <td>NIP cauanzin%232233</td>\n",
       "      <td>f98c7a4b-9892-4395-995f-bd6fcc261dc9</td>\n",
       "      <td>/Game/Maps/Triad/Triad</td>\n",
       "      <td>/Game/GameModes/Bomb/BombGameMode.BombGameMode_C</td>\n",
       "      <td>bomb</td>\n",
       "      <td>Competitive</td>\n",
       "      <td>https://trackercdn.com/cdn/tracker.gg/valorant...</td>\n",
       "      <td>25</td>\n",
       "      <td>True</td>\n",
       "      <td>2022-11-08T17:23:58.171+00:00</td>\n",
       "      <td>...</td>\n",
       "      <td>1.0</td>\n",
       "      <td>NumberPrecision1</td>\n",
       "      <td>192.315789</td>\n",
       "      <td>192.3</td>\n",
       "      <td>NumberPrecision1</td>\n",
       "      <td>121.263158</td>\n",
       "      <td>121.3</td>\n",
       "      <td>NumberPrecision1</td>\n",
       "      <td>25.000000</td>\n",
       "      <td>25</td>\n",
       "    </tr>\n",
       "    <tr>\n",
       "      <th>2</th>\n",
       "      <td>NIP cauanzin%232233</td>\n",
       "      <td>57ab0df2-5309-4809-93dd-b1a6d24adad1</td>\n",
       "      <td>/Game/Maps/Duality/Duality</td>\n",
       "      <td>/Game/GameModes/Bomb/BombGameMode.BombGameMode_C</td>\n",
       "      <td>bomb</td>\n",
       "      <td>Competitive</td>\n",
       "      <td>https://trackercdn.com/cdn/tracker.gg/valorant...</td>\n",
       "      <td>25</td>\n",
       "      <td>True</td>\n",
       "      <td>2022-11-08T16:48:52.583+00:00</td>\n",
       "      <td>...</td>\n",
       "      <td>1.4</td>\n",
       "      <td>NumberPrecision1</td>\n",
       "      <td>268.000000</td>\n",
       "      <td>268.0</td>\n",
       "      <td>NumberPrecision1</td>\n",
       "      <td>167.947368</td>\n",
       "      <td>167.9</td>\n",
       "      <td>NumberPrecision1</td>\n",
       "      <td>26.530612</td>\n",
       "      <td>27</td>\n",
       "    </tr>\n",
       "    <tr>\n",
       "      <th>3</th>\n",
       "      <td>NIP cauanzin%232233</td>\n",
       "      <td>2b03d90d-24e2-4139-a518-93c9917ad57b</td>\n",
       "      <td>/Game/Maps/Pitt/Pitt</td>\n",
       "      <td>/Game/GameModes/Bomb/BombGameMode.BombGameMode_C</td>\n",
       "      <td>bomb</td>\n",
       "      <td>Competitive</td>\n",
       "      <td>https://trackercdn.com/cdn/tracker.gg/valorant...</td>\n",
       "      <td>25</td>\n",
       "      <td>True</td>\n",
       "      <td>2022-11-08T15:59:51.22+00:00</td>\n",
       "      <td>...</td>\n",
       "      <td>1.1</td>\n",
       "      <td>NumberPrecision1</td>\n",
       "      <td>227.416667</td>\n",
       "      <td>227.4</td>\n",
       "      <td>NumberPrecision1</td>\n",
       "      <td>159.208333</td>\n",
       "      <td>159.2</td>\n",
       "      <td>NumberPrecision1</td>\n",
       "      <td>16.000000</td>\n",
       "      <td>16</td>\n",
       "    </tr>\n",
       "    <tr>\n",
       "      <th>4</th>\n",
       "      <td>NIP cauanzin%232233</td>\n",
       "      <td>ffc2bcc5-b041-4932-8150-c6cf0df2bad8</td>\n",
       "      <td>/Game/Maps/Foxtrot/Foxtrot</td>\n",
       "      <td>/Game/GameModes/Bomb/BombGameMode.BombGameMode_C</td>\n",
       "      <td>bomb</td>\n",
       "      <td>Competitive</td>\n",
       "      <td>https://trackercdn.com/cdn/tracker.gg/valorant...</td>\n",
       "      <td>25</td>\n",
       "      <td>True</td>\n",
       "      <td>2022-11-05T22:17:04.347+00:00</td>\n",
       "      <td>...</td>\n",
       "      <td>1.0</td>\n",
       "      <td>NumberPrecision1</td>\n",
       "      <td>216.033333</td>\n",
       "      <td>216.0</td>\n",
       "      <td>NumberPrecision1</td>\n",
       "      <td>136.300000</td>\n",
       "      <td>136.3</td>\n",
       "      <td>NumberPrecision1</td>\n",
       "      <td>32.075472</td>\n",
       "      <td>32</td>\n",
       "    </tr>\n",
       "  </tbody>\n",
       "</table>\n",
       "<p>5 rows × 144 columns</p>\n",
       "</div>"
      ],
      "text/plain": [
       "                player                               matchId  \\\n",
       "0  NIP cauanzin%232233  7a6df5ad-6c30-4cf7-a999-3816c38980f7   \n",
       "1  NIP cauanzin%232233  f98c7a4b-9892-4395-995f-bd6fcc261dc9   \n",
       "2  NIP cauanzin%232233  57ab0df2-5309-4809-93dd-b1a6d24adad1   \n",
       "3  NIP cauanzin%232233  2b03d90d-24e2-4139-a518-93c9917ad57b   \n",
       "4  NIP cauanzin%232233  ffc2bcc5-b041-4932-8150-c6cf0df2bad8   \n",
       "\n",
       "                        mapId  \\\n",
       "0      /Game/Maps/Triad/Triad   \n",
       "1      /Game/Maps/Triad/Triad   \n",
       "2  /Game/Maps/Duality/Duality   \n",
       "3        /Game/Maps/Pitt/Pitt   \n",
       "4  /Game/Maps/Foxtrot/Foxtrot   \n",
       "\n",
       "                                             modeId modeKey     modeName  \\\n",
       "0  /Game/GameModes/Bomb/BombGameMode.BombGameMode_C    bomb  Competitive   \n",
       "1  /Game/GameModes/Bomb/BombGameMode.BombGameMode_C    bomb  Competitive   \n",
       "2  /Game/GameModes/Bomb/BombGameMode.BombGameMode_C    bomb  Competitive   \n",
       "3  /Game/GameModes/Bomb/BombGameMode.BombGameMode_C    bomb  Competitive   \n",
       "4  /Game/GameModes/Bomb/BombGameMode.BombGameMode_C    bomb  Competitive   \n",
       "\n",
       "                                        modeImageUrl  modeMaxRounds  \\\n",
       "0  https://trackercdn.com/cdn/tracker.gg/valorant...             25   \n",
       "1  https://trackercdn.com/cdn/tracker.gg/valorant...             25   \n",
       "2  https://trackercdn.com/cdn/tracker.gg/valorant...             25   \n",
       "3  https://trackercdn.com/cdn/tracker.gg/valorant...             25   \n",
       "4  https://trackercdn.com/cdn/tracker.gg/valorant...             25   \n",
       "\n",
       "   isAvailable                      timestamp  ... kdRatioDisplayValue  \\\n",
       "0         True  2022-11-08T18:10:05.755+00:00  ...                 1.1   \n",
       "1         True  2022-11-08T17:23:58.171+00:00  ...                 1.0   \n",
       "2         True  2022-11-08T16:48:52.583+00:00  ...                 1.4   \n",
       "3         True   2022-11-08T15:59:51.22+00:00  ...                 1.1   \n",
       "4         True  2022-11-05T22:17:04.347+00:00  ...                 1.0   \n",
       "\n",
       "  kdRatioDisplayType scorePerRoundValue scorePerRoundDisplayValue  \\\n",
       "0   NumberPrecision1         265.619048                     265.6   \n",
       "1   NumberPrecision1         192.315789                     192.3   \n",
       "2   NumberPrecision1         268.000000                     268.0   \n",
       "3   NumberPrecision1         227.416667                     227.4   \n",
       "4   NumberPrecision1         216.033333                     216.0   \n",
       "\n",
       "  scorePerRoundDisplayType damagePerRoundValue  damagePerRoundDisplayValue  \\\n",
       "0         NumberPrecision1          182.428571                       182.4   \n",
       "1         NumberPrecision1          121.263158                       121.3   \n",
       "2         NumberPrecision1          167.947368                       167.9   \n",
       "3         NumberPrecision1          159.208333                       159.2   \n",
       "4         NumberPrecision1          136.300000                       136.3   \n",
       "\n",
       "  damagePerRoundDisplayType headshotsPercentageValue  \\\n",
       "0          NumberPrecision1                28.125000   \n",
       "1          NumberPrecision1                25.000000   \n",
       "2          NumberPrecision1                26.530612   \n",
       "3          NumberPrecision1                16.000000   \n",
       "4          NumberPrecision1                32.075472   \n",
       "\n",
       "   headshotsPercentageDisplayValue  \n",
       "0                               28  \n",
       "1                               25  \n",
       "2                               27  \n",
       "3                               16  \n",
       "4                               32  \n",
       "\n",
       "[5 rows x 144 columns]"
      ]
     },
     "execution_count": 13,
     "metadata": {},
     "output_type": "execute_result"
    }
   ],
   "source": [
    "df_matches = df_matches_raw[[\n",
    "    'player', 'matchId', 'mapId', 'modeId', 'modeKey',\n",
    "    'modeName', 'modeImageUrl', 'modeMaxRounds', 'isAvailable',\n",
    "    'timestamp', 'metadataResult', 'map', 'mapName', 'mapImageUrl',\n",
    "    'seasonName', 'userId', 'hasWon', 'result', 'agentName', 'playtimeValue',\n",
    "    'playtimeDisplayValue', 'playtimeDisplayType', 'roundsPlayedValue',\n",
    "    'roundsPlayedDisplayValue', 'roundsPlayedDisplayType', 'roundsWonValue',\n",
    "    'roundsWonDisplayValue', 'roundsWonDisplayType', 'roundsLostValue',\n",
    "    'roundsLostDisplayValue', 'roundsLostDisplayType', 'roundsDisconnectedValue',\n",
    "    'roundsDisconnectedDisplayValue', 'roundsDisconnectedDisplayType', 'placementValue',\n",
    "    'placementDisplayValue', 'placementDisplayType', 'scoreValue', 'scoreDisplayValue',\n",
    "    'scoreDisplayType', 'killsValue', 'killsDisplayValue', 'killsDisplayType', 'deathsValue',\n",
    "    'deathsDisplayValue', 'deathsDisplayType', 'assistsValue', 'assistsDisplayValue',\n",
    "    'assistsDisplayType', 'damageValue', 'damageDisplayValue', 'damageDisplayType',\n",
    "    'damageReceivedValue', 'damageReceivedDisplayValue', 'damageReceivedDisplayType',\n",
    "    'headshotsValue', 'headshotsDisplayValue', 'headshotsDisplayType', 'grenadeCastsValue',\n",
    "    'grenadeCastsDisplayValue', 'grenadeCastsDisplayType', 'ability1CastsValue',\n",
    "    'ability1CastsDisplayValue', 'ability1CastsDisplayType', 'ability2CastsValue',\n",
    "    'ability2CastsDisplayValue', 'ability2CastsDisplayType', 'ultimateCastsValue',\n",
    "    'ultimateCastsDisplayValue', 'ultimateCastsDisplayType', 'dealtHeadshotsValue',\n",
    "    'dealtHeadshotsDisplayValue', 'dealtHeadshotsDisplayType', 'dealtBodyshotsValue',\n",
    "    'dealtBodyshotsDisplayValue', 'dealtBodyshotsDisplayType', 'dealtLegshotsValue',\n",
    "    'dealtLegshotsDisplayValue', 'dealtLegshotsDisplayType', 'econRatingValue',\n",
    "    'econRatingDisplayValue', 'econRatingDisplayType', 'suicidesValue', 'suicidesDisplayValue',\n",
    "    'suicidesDisplayType', 'revivedValue', 'revivedDisplayValue', 'revivedDisplayType',\n",
    "    'firstBloodsValue', 'firstBloodsDisplayValue', 'firstBloodsDisplayType', 'firstDeathsValue',\n",
    "    'firstDeathsDisplayValue', 'firstDeathsDisplayType', 'lastDeathsValue', 'lastDeathsDisplayValue',\n",
    "    'lastDeathsDisplayType', 'survivedValue', 'survivedDisplayValue', 'survivedDisplayType', 'tradedValue',\n",
    "    'tradedDisplayValue', 'tradedDisplayType', 'kastedValue', 'kastedDisplayValue', 'kastedDisplayType',\n",
    "    'kASTValue', 'kASTDisplayValue', 'kASTDisplayType', 'flawlessValue', 'flawlessDisplayValue',\n",
    "    'flawlessDisplayType', 'thriftyValue', 'thriftyDisplayValue', 'thriftyDisplayType', 'acesValue',\n",
    "    'acesDisplayValue', 'acesDisplayType', 'teamAcesValue', 'teamAcesDisplayValue', 'teamAcesDisplayType',\n",
    "    'clutchesValue', 'clutchesDisplayValue', 'clutchesDisplayType', 'clutchesLostValue', 'clutchesLostDisplayValue',\n",
    "    'clutchesLostDisplayType', 'plantsValue', 'plantsDisplayValue', 'plantsDisplayType', 'defusesValue',\n",
    "    'defusesDisplayValue', 'defusesDisplayType', 'kdRatioValue', 'kdRatioDisplayValue', 'kdRatioDisplayType',\n",
    "    'scorePerRoundValue', 'scorePerRoundDisplayValue', 'scorePerRoundDisplayType', 'damagePerRoundValue',\n",
    "    'damagePerRoundDisplayValue', 'damagePerRoundDisplayType', 'headshotsPercentageValue', 'headshotsPercentageDisplayValue',\n",
    "]]\n",
    "\n",
    "df_matches.head(5)"
   ]
  },
  {
   "cell_type": "code",
   "execution_count": 14,
   "metadata": {},
   "outputs": [
    {
     "data": {
      "text/html": [
       "<div>\n",
       "<style scoped>\n",
       "    .dataframe tbody tr th:only-of-type {\n",
       "        vertical-align: middle;\n",
       "    }\n",
       "\n",
       "    .dataframe tbody tr th {\n",
       "        vertical-align: top;\n",
       "    }\n",
       "\n",
       "    .dataframe thead th {\n",
       "        text-align: right;\n",
       "    }\n",
       "</style>\n",
       "<table border=\"1\" class=\"dataframe\">\n",
       "  <thead>\n",
       "    <tr style=\"text-align: right;\">\n",
       "      <th></th>\n",
       "      <th>nickNameFull</th>\n",
       "      <th>matchId</th>\n",
       "      <th>mapId</th>\n",
       "      <th>modeId</th>\n",
       "      <th>modeKey</th>\n",
       "      <th>modeName</th>\n",
       "      <th>modeImageUrl</th>\n",
       "      <th>modeMaxRounds</th>\n",
       "      <th>isAvailable</th>\n",
       "      <th>timestamp</th>\n",
       "      <th>...</th>\n",
       "      <th>kdRatioDisplayValue</th>\n",
       "      <th>kdRatioDisplayType</th>\n",
       "      <th>scorePerRoundValue</th>\n",
       "      <th>scorePerRoundDisplayValue</th>\n",
       "      <th>scorePerRoundDisplayType</th>\n",
       "      <th>damagePerRoundValue</th>\n",
       "      <th>damagePerRoundDisplayValue</th>\n",
       "      <th>damagePerRoundDisplayType</th>\n",
       "      <th>headshotsPercentageValue</th>\n",
       "      <th>headshotsPercentageDisplayValue</th>\n",
       "    </tr>\n",
       "  </thead>\n",
       "  <tbody>\n",
       "    <tr>\n",
       "      <th>0</th>\n",
       "      <td>NIP cauanzin%232233</td>\n",
       "      <td>7a6df5ad-6c30-4cf7-a999-3816c38980f7</td>\n",
       "      <td>/Game/Maps/Triad/Triad</td>\n",
       "      <td>/Game/GameModes/Bomb/BombGameMode.BombGameMode_C</td>\n",
       "      <td>bomb</td>\n",
       "      <td>Competitive</td>\n",
       "      <td>https://trackercdn.com/cdn/tracker.gg/valorant...</td>\n",
       "      <td>25</td>\n",
       "      <td>True</td>\n",
       "      <td>2022-11-08T18:10:05.755+00:00</td>\n",
       "      <td>...</td>\n",
       "      <td>1.1</td>\n",
       "      <td>NumberPrecision1</td>\n",
       "      <td>265.619048</td>\n",
       "      <td>265.6</td>\n",
       "      <td>NumberPrecision1</td>\n",
       "      <td>182.428571</td>\n",
       "      <td>182.4</td>\n",
       "      <td>NumberPrecision1</td>\n",
       "      <td>28.125000</td>\n",
       "      <td>28</td>\n",
       "    </tr>\n",
       "    <tr>\n",
       "      <th>1</th>\n",
       "      <td>NIP cauanzin%232233</td>\n",
       "      <td>f98c7a4b-9892-4395-995f-bd6fcc261dc9</td>\n",
       "      <td>/Game/Maps/Triad/Triad</td>\n",
       "      <td>/Game/GameModes/Bomb/BombGameMode.BombGameMode_C</td>\n",
       "      <td>bomb</td>\n",
       "      <td>Competitive</td>\n",
       "      <td>https://trackercdn.com/cdn/tracker.gg/valorant...</td>\n",
       "      <td>25</td>\n",
       "      <td>True</td>\n",
       "      <td>2022-11-08T17:23:58.171+00:00</td>\n",
       "      <td>...</td>\n",
       "      <td>1.0</td>\n",
       "      <td>NumberPrecision1</td>\n",
       "      <td>192.315789</td>\n",
       "      <td>192.3</td>\n",
       "      <td>NumberPrecision1</td>\n",
       "      <td>121.263158</td>\n",
       "      <td>121.3</td>\n",
       "      <td>NumberPrecision1</td>\n",
       "      <td>25.000000</td>\n",
       "      <td>25</td>\n",
       "    </tr>\n",
       "    <tr>\n",
       "      <th>2</th>\n",
       "      <td>NIP cauanzin%232233</td>\n",
       "      <td>57ab0df2-5309-4809-93dd-b1a6d24adad1</td>\n",
       "      <td>/Game/Maps/Duality/Duality</td>\n",
       "      <td>/Game/GameModes/Bomb/BombGameMode.BombGameMode_C</td>\n",
       "      <td>bomb</td>\n",
       "      <td>Competitive</td>\n",
       "      <td>https://trackercdn.com/cdn/tracker.gg/valorant...</td>\n",
       "      <td>25</td>\n",
       "      <td>True</td>\n",
       "      <td>2022-11-08T16:48:52.583+00:00</td>\n",
       "      <td>...</td>\n",
       "      <td>1.4</td>\n",
       "      <td>NumberPrecision1</td>\n",
       "      <td>268.000000</td>\n",
       "      <td>268.0</td>\n",
       "      <td>NumberPrecision1</td>\n",
       "      <td>167.947368</td>\n",
       "      <td>167.9</td>\n",
       "      <td>NumberPrecision1</td>\n",
       "      <td>26.530612</td>\n",
       "      <td>27</td>\n",
       "    </tr>\n",
       "    <tr>\n",
       "      <th>3</th>\n",
       "      <td>NIP cauanzin%232233</td>\n",
       "      <td>2b03d90d-24e2-4139-a518-93c9917ad57b</td>\n",
       "      <td>/Game/Maps/Pitt/Pitt</td>\n",
       "      <td>/Game/GameModes/Bomb/BombGameMode.BombGameMode_C</td>\n",
       "      <td>bomb</td>\n",
       "      <td>Competitive</td>\n",
       "      <td>https://trackercdn.com/cdn/tracker.gg/valorant...</td>\n",
       "      <td>25</td>\n",
       "      <td>True</td>\n",
       "      <td>2022-11-08T15:59:51.22+00:00</td>\n",
       "      <td>...</td>\n",
       "      <td>1.1</td>\n",
       "      <td>NumberPrecision1</td>\n",
       "      <td>227.416667</td>\n",
       "      <td>227.4</td>\n",
       "      <td>NumberPrecision1</td>\n",
       "      <td>159.208333</td>\n",
       "      <td>159.2</td>\n",
       "      <td>NumberPrecision1</td>\n",
       "      <td>16.000000</td>\n",
       "      <td>16</td>\n",
       "    </tr>\n",
       "    <tr>\n",
       "      <th>4</th>\n",
       "      <td>NIP cauanzin%232233</td>\n",
       "      <td>ffc2bcc5-b041-4932-8150-c6cf0df2bad8</td>\n",
       "      <td>/Game/Maps/Foxtrot/Foxtrot</td>\n",
       "      <td>/Game/GameModes/Bomb/BombGameMode.BombGameMode_C</td>\n",
       "      <td>bomb</td>\n",
       "      <td>Competitive</td>\n",
       "      <td>https://trackercdn.com/cdn/tracker.gg/valorant...</td>\n",
       "      <td>25</td>\n",
       "      <td>True</td>\n",
       "      <td>2022-11-05T22:17:04.347+00:00</td>\n",
       "      <td>...</td>\n",
       "      <td>1.0</td>\n",
       "      <td>NumberPrecision1</td>\n",
       "      <td>216.033333</td>\n",
       "      <td>216.0</td>\n",
       "      <td>NumberPrecision1</td>\n",
       "      <td>136.300000</td>\n",
       "      <td>136.3</td>\n",
       "      <td>NumberPrecision1</td>\n",
       "      <td>32.075472</td>\n",
       "      <td>32</td>\n",
       "    </tr>\n",
       "  </tbody>\n",
       "</table>\n",
       "<p>5 rows × 144 columns</p>\n",
       "</div>"
      ],
      "text/plain": [
       "          nickNameFull                               matchId  \\\n",
       "0  NIP cauanzin%232233  7a6df5ad-6c30-4cf7-a999-3816c38980f7   \n",
       "1  NIP cauanzin%232233  f98c7a4b-9892-4395-995f-bd6fcc261dc9   \n",
       "2  NIP cauanzin%232233  57ab0df2-5309-4809-93dd-b1a6d24adad1   \n",
       "3  NIP cauanzin%232233  2b03d90d-24e2-4139-a518-93c9917ad57b   \n",
       "4  NIP cauanzin%232233  ffc2bcc5-b041-4932-8150-c6cf0df2bad8   \n",
       "\n",
       "                        mapId  \\\n",
       "0      /Game/Maps/Triad/Triad   \n",
       "1      /Game/Maps/Triad/Triad   \n",
       "2  /Game/Maps/Duality/Duality   \n",
       "3        /Game/Maps/Pitt/Pitt   \n",
       "4  /Game/Maps/Foxtrot/Foxtrot   \n",
       "\n",
       "                                             modeId modeKey     modeName  \\\n",
       "0  /Game/GameModes/Bomb/BombGameMode.BombGameMode_C    bomb  Competitive   \n",
       "1  /Game/GameModes/Bomb/BombGameMode.BombGameMode_C    bomb  Competitive   \n",
       "2  /Game/GameModes/Bomb/BombGameMode.BombGameMode_C    bomb  Competitive   \n",
       "3  /Game/GameModes/Bomb/BombGameMode.BombGameMode_C    bomb  Competitive   \n",
       "4  /Game/GameModes/Bomb/BombGameMode.BombGameMode_C    bomb  Competitive   \n",
       "\n",
       "                                        modeImageUrl  modeMaxRounds  \\\n",
       "0  https://trackercdn.com/cdn/tracker.gg/valorant...             25   \n",
       "1  https://trackercdn.com/cdn/tracker.gg/valorant...             25   \n",
       "2  https://trackercdn.com/cdn/tracker.gg/valorant...             25   \n",
       "3  https://trackercdn.com/cdn/tracker.gg/valorant...             25   \n",
       "4  https://trackercdn.com/cdn/tracker.gg/valorant...             25   \n",
       "\n",
       "   isAvailable                      timestamp  ... kdRatioDisplayValue  \\\n",
       "0         True  2022-11-08T18:10:05.755+00:00  ...                 1.1   \n",
       "1         True  2022-11-08T17:23:58.171+00:00  ...                 1.0   \n",
       "2         True  2022-11-08T16:48:52.583+00:00  ...                 1.4   \n",
       "3         True   2022-11-08T15:59:51.22+00:00  ...                 1.1   \n",
       "4         True  2022-11-05T22:17:04.347+00:00  ...                 1.0   \n",
       "\n",
       "  kdRatioDisplayType scorePerRoundValue scorePerRoundDisplayValue  \\\n",
       "0   NumberPrecision1         265.619048                     265.6   \n",
       "1   NumberPrecision1         192.315789                     192.3   \n",
       "2   NumberPrecision1         268.000000                     268.0   \n",
       "3   NumberPrecision1         227.416667                     227.4   \n",
       "4   NumberPrecision1         216.033333                     216.0   \n",
       "\n",
       "  scorePerRoundDisplayType damagePerRoundValue  damagePerRoundDisplayValue  \\\n",
       "0         NumberPrecision1          182.428571                       182.4   \n",
       "1         NumberPrecision1          121.263158                       121.3   \n",
       "2         NumberPrecision1          167.947368                       167.9   \n",
       "3         NumberPrecision1          159.208333                       159.2   \n",
       "4         NumberPrecision1          136.300000                       136.3   \n",
       "\n",
       "  damagePerRoundDisplayType headshotsPercentageValue  \\\n",
       "0          NumberPrecision1                28.125000   \n",
       "1          NumberPrecision1                25.000000   \n",
       "2          NumberPrecision1                26.530612   \n",
       "3          NumberPrecision1                16.000000   \n",
       "4          NumberPrecision1                32.075472   \n",
       "\n",
       "   headshotsPercentageDisplayValue  \n",
       "0                               28  \n",
       "1                               25  \n",
       "2                               27  \n",
       "3                               16  \n",
       "4                               32  \n",
       "\n",
       "[5 rows x 144 columns]"
      ]
     },
     "execution_count": 14,
     "metadata": {},
     "output_type": "execute_result"
    }
   ],
   "source": [
    "df_matches = df_matches.rename(columns={'player': 'nickNameFull'})\n",
    "df_matches.head(5)"
   ]
  },
  {
   "cell_type": "code",
   "execution_count": 15,
   "metadata": {},
   "outputs": [
    {
     "name": "stdout",
     "output_type": "stream",
     "text": [
      "Rows: 333835 Columns: 144\n"
     ]
    }
   ],
   "source": [
    "qt_rows = df_matches.shape[0]\n",
    "qt_columns = df_matches.shape[1]\n",
    "print('Rows: {} Columns: {}'.format(qt_rows, qt_columns))"
   ]
  },
  {
   "cell_type": "code",
   "execution_count": 16,
   "metadata": {},
   "outputs": [
    {
     "data": {
      "text/html": [
       "<div>\n",
       "<style scoped>\n",
       "    .dataframe tbody tr th:only-of-type {\n",
       "        vertical-align: middle;\n",
       "    }\n",
       "\n",
       "    .dataframe tbody tr th {\n",
       "        vertical-align: top;\n",
       "    }\n",
       "\n",
       "    .dataframe thead th {\n",
       "        text-align: right;\n",
       "    }\n",
       "</style>\n",
       "<table border=\"1\" class=\"dataframe\">\n",
       "  <thead>\n",
       "    <tr style=\"text-align: right;\">\n",
       "      <th></th>\n",
       "      <th>nickNameFull</th>\n",
       "      <th>matchId</th>\n",
       "      <th>mapId</th>\n",
       "      <th>modeId</th>\n",
       "      <th>modeKey</th>\n",
       "      <th>modeName</th>\n",
       "      <th>modeImageUrl</th>\n",
       "      <th>modeMaxRounds</th>\n",
       "      <th>isAvailable</th>\n",
       "      <th>timestamp</th>\n",
       "      <th>...</th>\n",
       "      <th>scorePerRoundDisplayType</th>\n",
       "      <th>damagePerRoundValue</th>\n",
       "      <th>damagePerRoundDisplayValue</th>\n",
       "      <th>damagePerRoundDisplayType</th>\n",
       "      <th>headshotsPercentageValue</th>\n",
       "      <th>headshotsPercentageDisplayValue</th>\n",
       "      <th>leaderboardRank</th>\n",
       "      <th>competitiveTier</th>\n",
       "      <th>rankedRating</th>\n",
       "      <th>server</th>\n",
       "    </tr>\n",
       "  </thead>\n",
       "  <tbody>\n",
       "    <tr>\n",
       "      <th>0</th>\n",
       "      <td>NIP cauanzin%232233</td>\n",
       "      <td>7a6df5ad-6c30-4cf7-a999-3816c38980f7</td>\n",
       "      <td>/Game/Maps/Triad/Triad</td>\n",
       "      <td>/Game/GameModes/Bomb/BombGameMode.BombGameMode_C</td>\n",
       "      <td>bomb</td>\n",
       "      <td>Competitive</td>\n",
       "      <td>https://trackercdn.com/cdn/tracker.gg/valorant...</td>\n",
       "      <td>25</td>\n",
       "      <td>True</td>\n",
       "      <td>2022-11-08T18:10:05.755+00:00</td>\n",
       "      <td>...</td>\n",
       "      <td>NumberPrecision1</td>\n",
       "      <td>182.428571</td>\n",
       "      <td>182.4</td>\n",
       "      <td>NumberPrecision1</td>\n",
       "      <td>28.125000</td>\n",
       "      <td>28</td>\n",
       "      <td>2</td>\n",
       "      <td>27</td>\n",
       "      <td>902</td>\n",
       "      <td>br</td>\n",
       "    </tr>\n",
       "    <tr>\n",
       "      <th>1</th>\n",
       "      <td>NIP cauanzin%232233</td>\n",
       "      <td>f98c7a4b-9892-4395-995f-bd6fcc261dc9</td>\n",
       "      <td>/Game/Maps/Triad/Triad</td>\n",
       "      <td>/Game/GameModes/Bomb/BombGameMode.BombGameMode_C</td>\n",
       "      <td>bomb</td>\n",
       "      <td>Competitive</td>\n",
       "      <td>https://trackercdn.com/cdn/tracker.gg/valorant...</td>\n",
       "      <td>25</td>\n",
       "      <td>True</td>\n",
       "      <td>2022-11-08T17:23:58.171+00:00</td>\n",
       "      <td>...</td>\n",
       "      <td>NumberPrecision1</td>\n",
       "      <td>121.263158</td>\n",
       "      <td>121.3</td>\n",
       "      <td>NumberPrecision1</td>\n",
       "      <td>25.000000</td>\n",
       "      <td>25</td>\n",
       "      <td>2</td>\n",
       "      <td>27</td>\n",
       "      <td>902</td>\n",
       "      <td>br</td>\n",
       "    </tr>\n",
       "    <tr>\n",
       "      <th>2</th>\n",
       "      <td>NIP cauanzin%232233</td>\n",
       "      <td>57ab0df2-5309-4809-93dd-b1a6d24adad1</td>\n",
       "      <td>/Game/Maps/Duality/Duality</td>\n",
       "      <td>/Game/GameModes/Bomb/BombGameMode.BombGameMode_C</td>\n",
       "      <td>bomb</td>\n",
       "      <td>Competitive</td>\n",
       "      <td>https://trackercdn.com/cdn/tracker.gg/valorant...</td>\n",
       "      <td>25</td>\n",
       "      <td>True</td>\n",
       "      <td>2022-11-08T16:48:52.583+00:00</td>\n",
       "      <td>...</td>\n",
       "      <td>NumberPrecision1</td>\n",
       "      <td>167.947368</td>\n",
       "      <td>167.9</td>\n",
       "      <td>NumberPrecision1</td>\n",
       "      <td>26.530612</td>\n",
       "      <td>27</td>\n",
       "      <td>2</td>\n",
       "      <td>27</td>\n",
       "      <td>902</td>\n",
       "      <td>br</td>\n",
       "    </tr>\n",
       "    <tr>\n",
       "      <th>3</th>\n",
       "      <td>NIP cauanzin%232233</td>\n",
       "      <td>2b03d90d-24e2-4139-a518-93c9917ad57b</td>\n",
       "      <td>/Game/Maps/Pitt/Pitt</td>\n",
       "      <td>/Game/GameModes/Bomb/BombGameMode.BombGameMode_C</td>\n",
       "      <td>bomb</td>\n",
       "      <td>Competitive</td>\n",
       "      <td>https://trackercdn.com/cdn/tracker.gg/valorant...</td>\n",
       "      <td>25</td>\n",
       "      <td>True</td>\n",
       "      <td>2022-11-08T15:59:51.22+00:00</td>\n",
       "      <td>...</td>\n",
       "      <td>NumberPrecision1</td>\n",
       "      <td>159.208333</td>\n",
       "      <td>159.2</td>\n",
       "      <td>NumberPrecision1</td>\n",
       "      <td>16.000000</td>\n",
       "      <td>16</td>\n",
       "      <td>2</td>\n",
       "      <td>27</td>\n",
       "      <td>902</td>\n",
       "      <td>br</td>\n",
       "    </tr>\n",
       "    <tr>\n",
       "      <th>4</th>\n",
       "      <td>NIP cauanzin%232233</td>\n",
       "      <td>ffc2bcc5-b041-4932-8150-c6cf0df2bad8</td>\n",
       "      <td>/Game/Maps/Foxtrot/Foxtrot</td>\n",
       "      <td>/Game/GameModes/Bomb/BombGameMode.BombGameMode_C</td>\n",
       "      <td>bomb</td>\n",
       "      <td>Competitive</td>\n",
       "      <td>https://trackercdn.com/cdn/tracker.gg/valorant...</td>\n",
       "      <td>25</td>\n",
       "      <td>True</td>\n",
       "      <td>2022-11-05T22:17:04.347+00:00</td>\n",
       "      <td>...</td>\n",
       "      <td>NumberPrecision1</td>\n",
       "      <td>136.300000</td>\n",
       "      <td>136.3</td>\n",
       "      <td>NumberPrecision1</td>\n",
       "      <td>32.075472</td>\n",
       "      <td>32</td>\n",
       "      <td>2</td>\n",
       "      <td>27</td>\n",
       "      <td>902</td>\n",
       "      <td>br</td>\n",
       "    </tr>\n",
       "  </tbody>\n",
       "</table>\n",
       "<p>5 rows × 148 columns</p>\n",
       "</div>"
      ],
      "text/plain": [
       "          nickNameFull                               matchId  \\\n",
       "0  NIP cauanzin%232233  7a6df5ad-6c30-4cf7-a999-3816c38980f7   \n",
       "1  NIP cauanzin%232233  f98c7a4b-9892-4395-995f-bd6fcc261dc9   \n",
       "2  NIP cauanzin%232233  57ab0df2-5309-4809-93dd-b1a6d24adad1   \n",
       "3  NIP cauanzin%232233  2b03d90d-24e2-4139-a518-93c9917ad57b   \n",
       "4  NIP cauanzin%232233  ffc2bcc5-b041-4932-8150-c6cf0df2bad8   \n",
       "\n",
       "                        mapId  \\\n",
       "0      /Game/Maps/Triad/Triad   \n",
       "1      /Game/Maps/Triad/Triad   \n",
       "2  /Game/Maps/Duality/Duality   \n",
       "3        /Game/Maps/Pitt/Pitt   \n",
       "4  /Game/Maps/Foxtrot/Foxtrot   \n",
       "\n",
       "                                             modeId modeKey     modeName  \\\n",
       "0  /Game/GameModes/Bomb/BombGameMode.BombGameMode_C    bomb  Competitive   \n",
       "1  /Game/GameModes/Bomb/BombGameMode.BombGameMode_C    bomb  Competitive   \n",
       "2  /Game/GameModes/Bomb/BombGameMode.BombGameMode_C    bomb  Competitive   \n",
       "3  /Game/GameModes/Bomb/BombGameMode.BombGameMode_C    bomb  Competitive   \n",
       "4  /Game/GameModes/Bomb/BombGameMode.BombGameMode_C    bomb  Competitive   \n",
       "\n",
       "                                        modeImageUrl  modeMaxRounds  \\\n",
       "0  https://trackercdn.com/cdn/tracker.gg/valorant...             25   \n",
       "1  https://trackercdn.com/cdn/tracker.gg/valorant...             25   \n",
       "2  https://trackercdn.com/cdn/tracker.gg/valorant...             25   \n",
       "3  https://trackercdn.com/cdn/tracker.gg/valorant...             25   \n",
       "4  https://trackercdn.com/cdn/tracker.gg/valorant...             25   \n",
       "\n",
       "   isAvailable                      timestamp  ... scorePerRoundDisplayType  \\\n",
       "0         True  2022-11-08T18:10:05.755+00:00  ...         NumberPrecision1   \n",
       "1         True  2022-11-08T17:23:58.171+00:00  ...         NumberPrecision1   \n",
       "2         True  2022-11-08T16:48:52.583+00:00  ...         NumberPrecision1   \n",
       "3         True   2022-11-08T15:59:51.22+00:00  ...         NumberPrecision1   \n",
       "4         True  2022-11-05T22:17:04.347+00:00  ...         NumberPrecision1   \n",
       "\n",
       "  damagePerRoundValue damagePerRoundDisplayValue damagePerRoundDisplayType  \\\n",
       "0          182.428571                      182.4          NumberPrecision1   \n",
       "1          121.263158                      121.3          NumberPrecision1   \n",
       "2          167.947368                      167.9          NumberPrecision1   \n",
       "3          159.208333                      159.2          NumberPrecision1   \n",
       "4          136.300000                      136.3          NumberPrecision1   \n",
       "\n",
       "  headshotsPercentageValue headshotsPercentageDisplayValue  leaderboardRank  \\\n",
       "0                28.125000                              28                2   \n",
       "1                25.000000                              25                2   \n",
       "2                26.530612                              27                2   \n",
       "3                16.000000                              16                2   \n",
       "4                32.075472                              32                2   \n",
       "\n",
       "  competitiveTier rankedRating  server  \n",
       "0              27          902      br  \n",
       "1              27          902      br  \n",
       "2              27          902      br  \n",
       "3              27          902      br  \n",
       "4              27          902      br  \n",
       "\n",
       "[5 rows x 148 columns]"
      ]
     },
     "execution_count": 16,
     "metadata": {},
     "output_type": "execute_result"
    }
   ],
   "source": [
    "df_matches_abt = df_matches.merge(df_top500_all_servers[[\"nickNameFull\", \"leaderboardRank\", 'competitiveTier', 'rankedRating','server']])\n",
    "df_matches_abt.head(5)"
   ]
  },
  {
   "cell_type": "code",
   "execution_count": 17,
   "metadata": {},
   "outputs": [],
   "source": [
    "df_matches_abt.to_csv('C:\\\\repos\\\\tcc_valorant_analysis\\\\data\\\\matches\\\\matches_abt.csv')"
   ]
  },
  {
   "cell_type": "markdown",
   "metadata": {},
   "source": [
    "Weapons"
   ]
  },
  {
   "cell_type": "code",
   "execution_count": 18,
   "metadata": {},
   "outputs": [
    {
     "data": {
      "text/html": [
       "<div>\n",
       "<style scoped>\n",
       "    .dataframe tbody tr th:only-of-type {\n",
       "        vertical-align: middle;\n",
       "    }\n",
       "\n",
       "    .dataframe tbody tr th {\n",
       "        vertical-align: top;\n",
       "    }\n",
       "\n",
       "    .dataframe thead th {\n",
       "        text-align: right;\n",
       "    }\n",
       "</style>\n",
       "<table border=\"1\" class=\"dataframe\">\n",
       "  <thead>\n",
       "    <tr style=\"text-align: right;\">\n",
       "      <th></th>\n",
       "      <th>player</th>\n",
       "      <th>weaponName</th>\n",
       "      <th>matchesPlayedValue</th>\n",
       "      <th>matchesPlayedDisplayValue</th>\n",
       "      <th>matchesPlayedDisplayType</th>\n",
       "      <th>matchesWonValue</th>\n",
       "      <th>matchesWonDisplayValue</th>\n",
       "      <th>matchesWonDisplayType</th>\n",
       "      <th>matchesLostValue</th>\n",
       "      <th>matchesLostDisplayValue</th>\n",
       "      <th>...</th>\n",
       "      <th>dealtLegshotsDisplayType</th>\n",
       "      <th>killDistanceValue</th>\n",
       "      <th>killDistanceDisplayValue</th>\n",
       "      <th>killDistanceDisplayType</th>\n",
       "      <th>avgKillDistanceValue</th>\n",
       "      <th>avgKillDistanceDisplayValue</th>\n",
       "      <th>avgKillDistanceDisplayType</th>\n",
       "      <th>longestKillDistanceValue</th>\n",
       "      <th>longestKillDistanceDisplayValue</th>\n",
       "      <th>longestKillDistanceDisplayType</th>\n",
       "    </tr>\n",
       "  </thead>\n",
       "  <tbody>\n",
       "    <tr>\n",
       "      <th>0</th>\n",
       "      <td>NIP cauanzin%232233</td>\n",
       "      <td>ares</td>\n",
       "      <td>103</td>\n",
       "      <td>103</td>\n",
       "      <td>Number</td>\n",
       "      <td>62</td>\n",
       "      <td>62</td>\n",
       "      <td>Number</td>\n",
       "      <td>38</td>\n",
       "      <td>38</td>\n",
       "      <td>...</td>\n",
       "      <td>Number</td>\n",
       "      <td>0</td>\n",
       "      <td>0m</td>\n",
       "      <td>DistanceCentimeters</td>\n",
       "      <td>0.000000</td>\n",
       "      <td>0m</td>\n",
       "      <td>DistanceCentimeters</td>\n",
       "      <td>0</td>\n",
       "      <td>0m</td>\n",
       "      <td>DistanceCentimeters</td>\n",
       "    </tr>\n",
       "    <tr>\n",
       "      <th>1</th>\n",
       "      <td>NIP cauanzin%232233</td>\n",
       "      <td>marshal</td>\n",
       "      <td>161</td>\n",
       "      <td>161</td>\n",
       "      <td>Number</td>\n",
       "      <td>97</td>\n",
       "      <td>97</td>\n",
       "      <td>Number</td>\n",
       "      <td>60</td>\n",
       "      <td>60</td>\n",
       "      <td>...</td>\n",
       "      <td>Number</td>\n",
       "      <td>120127</td>\n",
       "      <td>1km 201.3m</td>\n",
       "      <td>DistanceCentimeters</td>\n",
       "      <td>746.130435</td>\n",
       "      <td>7.5m</td>\n",
       "      <td>DistanceCentimeters</td>\n",
       "      <td>5850</td>\n",
       "      <td>58.5m</td>\n",
       "      <td>DistanceCentimeters</td>\n",
       "    </tr>\n",
       "    <tr>\n",
       "      <th>2</th>\n",
       "      <td>NIP cauanzin%232233</td>\n",
       "      <td>classic</td>\n",
       "      <td>1607</td>\n",
       "      <td>1,607</td>\n",
       "      <td>Number</td>\n",
       "      <td>914</td>\n",
       "      <td>914</td>\n",
       "      <td>Number</td>\n",
       "      <td>670</td>\n",
       "      <td>670</td>\n",
       "      <td>...</td>\n",
       "      <td>Number</td>\n",
       "      <td>566257</td>\n",
       "      <td>6km 662.6m</td>\n",
       "      <td>DistanceCentimeters</td>\n",
       "      <td>352.369011</td>\n",
       "      <td>3.5m</td>\n",
       "      <td>DistanceCentimeters</td>\n",
       "      <td>4708</td>\n",
       "      <td>47.1m</td>\n",
       "      <td>DistanceCentimeters</td>\n",
       "    </tr>\n",
       "    <tr>\n",
       "      <th>3</th>\n",
       "      <td>NIP cauanzin%232233</td>\n",
       "      <td>operator</td>\n",
       "      <td>351</td>\n",
       "      <td>351</td>\n",
       "      <td>Number</td>\n",
       "      <td>216</td>\n",
       "      <td>216</td>\n",
       "      <td>Number</td>\n",
       "      <td>127</td>\n",
       "      <td>127</td>\n",
       "      <td>...</td>\n",
       "      <td>Number</td>\n",
       "      <td>204877</td>\n",
       "      <td>2km 48.8m</td>\n",
       "      <td>DistanceCentimeters</td>\n",
       "      <td>583.695157</td>\n",
       "      <td>5.8m</td>\n",
       "      <td>DistanceCentimeters</td>\n",
       "      <td>6331</td>\n",
       "      <td>63.3m</td>\n",
       "      <td>DistanceCentimeters</td>\n",
       "    </tr>\n",
       "    <tr>\n",
       "      <th>4</th>\n",
       "      <td>NIP cauanzin%232233</td>\n",
       "      <td>stinger</td>\n",
       "      <td>175</td>\n",
       "      <td>175</td>\n",
       "      <td>Number</td>\n",
       "      <td>105</td>\n",
       "      <td>105</td>\n",
       "      <td>Number</td>\n",
       "      <td>66</td>\n",
       "      <td>66</td>\n",
       "      <td>...</td>\n",
       "      <td>Number</td>\n",
       "      <td>17296</td>\n",
       "      <td>173m</td>\n",
       "      <td>DistanceCentimeters</td>\n",
       "      <td>98.834286</td>\n",
       "      <td>1m</td>\n",
       "      <td>DistanceCentimeters</td>\n",
       "      <td>2299</td>\n",
       "      <td>23m</td>\n",
       "      <td>DistanceCentimeters</td>\n",
       "    </tr>\n",
       "  </tbody>\n",
       "</table>\n",
       "<p>5 rows × 86 columns</p>\n",
       "</div>"
      ],
      "text/plain": [
       "                player weaponName  matchesPlayedValue  \\\n",
       "0  NIP cauanzin%232233       ares                 103   \n",
       "1  NIP cauanzin%232233    marshal                 161   \n",
       "2  NIP cauanzin%232233    classic                1607   \n",
       "3  NIP cauanzin%232233   operator                 351   \n",
       "4  NIP cauanzin%232233    stinger                 175   \n",
       "\n",
       "  matchesPlayedDisplayValue matchesPlayedDisplayType  matchesWonValue  \\\n",
       "0                       103                   Number               62   \n",
       "1                       161                   Number               97   \n",
       "2                     1,607                   Number              914   \n",
       "3                       351                   Number              216   \n",
       "4                       175                   Number              105   \n",
       "\n",
       "  matchesWonDisplayValue matchesWonDisplayType  matchesLostValue  \\\n",
       "0                     62                Number                38   \n",
       "1                     97                Number                60   \n",
       "2                    914                Number               670   \n",
       "3                    216                Number               127   \n",
       "4                    105                Number                66   \n",
       "\n",
       "  matchesLostDisplayValue  ... dealtLegshotsDisplayType  killDistanceValue  \\\n",
       "0                      38  ...                   Number                  0   \n",
       "1                      60  ...                   Number             120127   \n",
       "2                     670  ...                   Number             566257   \n",
       "3                     127  ...                   Number             204877   \n",
       "4                      66  ...                   Number              17296   \n",
       "\n",
       "   killDistanceDisplayValue killDistanceDisplayType  avgKillDistanceValue  \\\n",
       "0                        0m     DistanceCentimeters              0.000000   \n",
       "1                1km 201.3m     DistanceCentimeters            746.130435   \n",
       "2                6km 662.6m     DistanceCentimeters            352.369011   \n",
       "3                 2km 48.8m     DistanceCentimeters            583.695157   \n",
       "4                      173m     DistanceCentimeters             98.834286   \n",
       "\n",
       "  avgKillDistanceDisplayValue avgKillDistanceDisplayType  \\\n",
       "0                          0m        DistanceCentimeters   \n",
       "1                        7.5m        DistanceCentimeters   \n",
       "2                        3.5m        DistanceCentimeters   \n",
       "3                        5.8m        DistanceCentimeters   \n",
       "4                          1m        DistanceCentimeters   \n",
       "\n",
       "   longestKillDistanceValue longestKillDistanceDisplayValue  \\\n",
       "0                         0                              0m   \n",
       "1                      5850                           58.5m   \n",
       "2                      4708                           47.1m   \n",
       "3                      6331                           63.3m   \n",
       "4                      2299                             23m   \n",
       "\n",
       "  longestKillDistanceDisplayType  \n",
       "0            DistanceCentimeters  \n",
       "1            DistanceCentimeters  \n",
       "2            DistanceCentimeters  \n",
       "3            DistanceCentimeters  \n",
       "4            DistanceCentimeters  \n",
       "\n",
       "[5 rows x 86 columns]"
      ]
     },
     "execution_count": 18,
     "metadata": {},
     "output_type": "execute_result"
    }
   ],
   "source": [
    "df_weapons_raw = pd.read_csv('C:\\\\repos\\\\tcc_valorant_analysis\\\\data\\\\weapons\\\\weapons_summarized_20221172029.csv', low_memory=False)\n",
    "df_weapons_raw.head(5)"
   ]
  },
  {
   "cell_type": "code",
   "execution_count": 19,
   "metadata": {},
   "outputs": [
    {
     "data": {
      "text/html": [
       "<div>\n",
       "<style scoped>\n",
       "    .dataframe tbody tr th:only-of-type {\n",
       "        vertical-align: middle;\n",
       "    }\n",
       "\n",
       "    .dataframe tbody tr th {\n",
       "        vertical-align: top;\n",
       "    }\n",
       "\n",
       "    .dataframe thead th {\n",
       "        text-align: right;\n",
       "    }\n",
       "</style>\n",
       "<table border=\"1\" class=\"dataframe\">\n",
       "  <thead>\n",
       "    <tr style=\"text-align: right;\">\n",
       "      <th></th>\n",
       "      <th>nickNameFull</th>\n",
       "      <th>weaponName</th>\n",
       "      <th>matchesPlayedValue</th>\n",
       "      <th>matchesWonValue</th>\n",
       "      <th>matchesLostValue</th>\n",
       "      <th>matchesTiedValue</th>\n",
       "      <th>matchesWinPctValue</th>\n",
       "      <th>roundsPlayedValue</th>\n",
       "      <th>killsValue</th>\n",
       "      <th>killsPerRoundValue</th>\n",
       "      <th>...</th>\n",
       "      <th>damageReceivedValue</th>\n",
       "      <th>dealtHeadshotsValue</th>\n",
       "      <th>dealtBodyshotsValue</th>\n",
       "      <th>dealtLegshotsValue</th>\n",
       "      <th>killDistanceValue</th>\n",
       "      <th>killDistanceDisplayValue</th>\n",
       "      <th>avgKillDistanceValue</th>\n",
       "      <th>avgKillDistanceDisplayValue</th>\n",
       "      <th>longestKillDistanceValue</th>\n",
       "      <th>longestKillDistanceDisplayValue</th>\n",
       "    </tr>\n",
       "  </thead>\n",
       "  <tbody>\n",
       "    <tr>\n",
       "      <th>0</th>\n",
       "      <td>NIP cauanzin%232233</td>\n",
       "      <td>ares</td>\n",
       "      <td>103</td>\n",
       "      <td>62</td>\n",
       "      <td>38</td>\n",
       "      <td>3</td>\n",
       "      <td>60.194175</td>\n",
       "      <td>0</td>\n",
       "      <td>180</td>\n",
       "      <td>180.000000</td>\n",
       "      <td>...</td>\n",
       "      <td>0</td>\n",
       "      <td>88</td>\n",
       "      <td>446</td>\n",
       "      <td>107</td>\n",
       "      <td>0</td>\n",
       "      <td>0m</td>\n",
       "      <td>0.000000</td>\n",
       "      <td>0m</td>\n",
       "      <td>0</td>\n",
       "      <td>0m</td>\n",
       "    </tr>\n",
       "    <tr>\n",
       "      <th>1</th>\n",
       "      <td>NIP cauanzin%232233</td>\n",
       "      <td>marshal</td>\n",
       "      <td>161</td>\n",
       "      <td>97</td>\n",
       "      <td>60</td>\n",
       "      <td>4</td>\n",
       "      <td>60.248447</td>\n",
       "      <td>72</td>\n",
       "      <td>166</td>\n",
       "      <td>0.486111</td>\n",
       "      <td>...</td>\n",
       "      <td>0</td>\n",
       "      <td>52</td>\n",
       "      <td>181</td>\n",
       "      <td>3</td>\n",
       "      <td>120127</td>\n",
       "      <td>1km 201.3m</td>\n",
       "      <td>746.130435</td>\n",
       "      <td>7.5m</td>\n",
       "      <td>5850</td>\n",
       "      <td>58.5m</td>\n",
       "    </tr>\n",
       "    <tr>\n",
       "      <th>2</th>\n",
       "      <td>NIP cauanzin%232233</td>\n",
       "      <td>classic</td>\n",
       "      <td>1607</td>\n",
       "      <td>914</td>\n",
       "      <td>670</td>\n",
       "      <td>23</td>\n",
       "      <td>56.876167</td>\n",
       "      <td>912</td>\n",
       "      <td>2556</td>\n",
       "      <td>0.396930</td>\n",
       "      <td>...</td>\n",
       "      <td>0</td>\n",
       "      <td>2172</td>\n",
       "      <td>4135</td>\n",
       "      <td>230</td>\n",
       "      <td>566257</td>\n",
       "      <td>6km 662.6m</td>\n",
       "      <td>352.369011</td>\n",
       "      <td>3.5m</td>\n",
       "      <td>4708</td>\n",
       "      <td>47.1m</td>\n",
       "    </tr>\n",
       "    <tr>\n",
       "      <th>3</th>\n",
       "      <td>NIP cauanzin%232233</td>\n",
       "      <td>operator</td>\n",
       "      <td>351</td>\n",
       "      <td>216</td>\n",
       "      <td>127</td>\n",
       "      <td>8</td>\n",
       "      <td>61.538462</td>\n",
       "      <td>85</td>\n",
       "      <td>502</td>\n",
       "      <td>0.729412</td>\n",
       "      <td>...</td>\n",
       "      <td>0</td>\n",
       "      <td>28</td>\n",
       "      <td>467</td>\n",
       "      <td>11</td>\n",
       "      <td>204877</td>\n",
       "      <td>2km 48.8m</td>\n",
       "      <td>583.695157</td>\n",
       "      <td>5.8m</td>\n",
       "      <td>6331</td>\n",
       "      <td>63.3m</td>\n",
       "    </tr>\n",
       "    <tr>\n",
       "      <th>4</th>\n",
       "      <td>NIP cauanzin%232233</td>\n",
       "      <td>stinger</td>\n",
       "      <td>175</td>\n",
       "      <td>105</td>\n",
       "      <td>66</td>\n",
       "      <td>4</td>\n",
       "      <td>60.000000</td>\n",
       "      <td>35</td>\n",
       "      <td>162</td>\n",
       "      <td>0.457143</td>\n",
       "      <td>...</td>\n",
       "      <td>0</td>\n",
       "      <td>174</td>\n",
       "      <td>361</td>\n",
       "      <td>27</td>\n",
       "      <td>17296</td>\n",
       "      <td>173m</td>\n",
       "      <td>98.834286</td>\n",
       "      <td>1m</td>\n",
       "      <td>2299</td>\n",
       "      <td>23m</td>\n",
       "    </tr>\n",
       "  </tbody>\n",
       "</table>\n",
       "<p>5 rows × 34 columns</p>\n",
       "</div>"
      ],
      "text/plain": [
       "          nickNameFull weaponName  matchesPlayedValue  matchesWonValue  \\\n",
       "0  NIP cauanzin%232233       ares                 103               62   \n",
       "1  NIP cauanzin%232233    marshal                 161               97   \n",
       "2  NIP cauanzin%232233    classic                1607              914   \n",
       "3  NIP cauanzin%232233   operator                 351              216   \n",
       "4  NIP cauanzin%232233    stinger                 175              105   \n",
       "\n",
       "   matchesLostValue  matchesTiedValue  matchesWinPctValue  roundsPlayedValue  \\\n",
       "0                38                 3           60.194175                  0   \n",
       "1                60                 4           60.248447                 72   \n",
       "2               670                23           56.876167                912   \n",
       "3               127                 8           61.538462                 85   \n",
       "4                66                 4           60.000000                 35   \n",
       "\n",
       "   killsValue  killsPerRoundValue  ...  damageReceivedValue  \\\n",
       "0         180          180.000000  ...                    0   \n",
       "1         166            0.486111  ...                    0   \n",
       "2        2556            0.396930  ...                    0   \n",
       "3         502            0.729412  ...                    0   \n",
       "4         162            0.457143  ...                    0   \n",
       "\n",
       "   dealtHeadshotsValue  dealtBodyshotsValue  dealtLegshotsValue  \\\n",
       "0                   88                  446                 107   \n",
       "1                   52                  181                   3   \n",
       "2                 2172                 4135                 230   \n",
       "3                   28                  467                  11   \n",
       "4                  174                  361                  27   \n",
       "\n",
       "   killDistanceValue  killDistanceDisplayValue  avgKillDistanceValue  \\\n",
       "0                  0                        0m              0.000000   \n",
       "1             120127                1km 201.3m            746.130435   \n",
       "2             566257                6km 662.6m            352.369011   \n",
       "3             204877                 2km 48.8m            583.695157   \n",
       "4              17296                      173m             98.834286   \n",
       "\n",
       "   avgKillDistanceDisplayValue  longestKillDistanceValue  \\\n",
       "0                           0m                         0   \n",
       "1                         7.5m                      5850   \n",
       "2                         3.5m                      4708   \n",
       "3                         5.8m                      6331   \n",
       "4                           1m                      2299   \n",
       "\n",
       "  longestKillDistanceDisplayValue  \n",
       "0                              0m  \n",
       "1                           58.5m  \n",
       "2                           47.1m  \n",
       "3                           63.3m  \n",
       "4                             23m  \n",
       "\n",
       "[5 rows x 34 columns]"
      ]
     },
     "execution_count": 19,
     "metadata": {},
     "output_type": "execute_result"
    }
   ],
   "source": [
    "df_weapons = df_weapons_raw[[\n",
    "    'player','weaponName','matchesPlayedValue', 'matchesWonValue',\n",
    "    'matchesLostValue', 'matchesTiedValue','matchesWinPctValue','roundsPlayedValue',\n",
    "    'killsValue','killsPerRoundValue','killsPerMatchDisplayValue',\n",
    "    'secondaryKillsValue','headshotsValue','secondaryKillsPerRoundDisplayValue',\n",
    "    'secondaryKillsPerMatchDisplayValue','deathsValue','deathsPerRoundDisplayValue',\n",
    "    'deathsPerMatchDisplayValue','kDRatioValue','kDRatioDisplayValue','headshotsPercentageValue',\n",
    "    'damageValue','damagePerRoundValue','damagePerMatchValue','damageReceivedValue',\n",
    "    'dealtHeadshotsValue','dealtBodyshotsValue','dealtLegshotsValue','killDistanceValue',\n",
    "    'killDistanceDisplayValue','avgKillDistanceValue','avgKillDistanceDisplayValue',\n",
    "    'longestKillDistanceValue','longestKillDistanceDisplayValue',\n",
    "]]\n",
    "\n",
    "df_weapons_abt = df_weapons.rename(columns={'player': 'nickNameFull'})\n",
    "\n",
    "df_weapons_abt.head(5)"
   ]
  },
  {
   "cell_type": "code",
   "execution_count": 20,
   "metadata": {},
   "outputs": [],
   "source": [
    "df_weapons_abt.to_csv('C:\\\\repos\\\\tcc_valorant_analysis\\\\data\\\\weapons\\\\weapons_abt.csv')"
   ]
  },
  {
   "cell_type": "markdown",
   "metadata": {},
   "source": [
    "EDA"
   ]
  },
  {
   "cell_type": "markdown",
   "metadata": {},
   "source": [
    "Matches"
   ]
  },
  {
   "cell_type": "code",
   "execution_count": 21,
   "metadata": {},
   "outputs": [
    {
     "name": "stdout",
     "output_type": "stream",
     "text": [
      "Total number of matches: 333,835\n"
     ]
    }
   ],
   "source": [
    "total_matches = df_matches_abt['matchId'].count()\n",
    "print(f'Total number of matches: {total_matches:,.0f}')"
   ]
  },
  {
   "cell_type": "code",
   "execution_count": 22,
   "metadata": {},
   "outputs": [
    {
     "data": {
      "text/html": [
       "<div>\n",
       "<style scoped>\n",
       "    .dataframe tbody tr th:only-of-type {\n",
       "        vertical-align: middle;\n",
       "    }\n",
       "\n",
       "    .dataframe tbody tr th {\n",
       "        vertical-align: top;\n",
       "    }\n",
       "\n",
       "    .dataframe thead th {\n",
       "        text-align: right;\n",
       "    }\n",
       "</style>\n",
       "<table border=\"1\" class=\"dataframe\">\n",
       "  <thead>\n",
       "    <tr style=\"text-align: right;\">\n",
       "      <th></th>\n",
       "      <th>matchId</th>\n",
       "      <th>roundsPlayedValue</th>\n",
       "    </tr>\n",
       "  </thead>\n",
       "  <tbody>\n",
       "    <tr>\n",
       "      <th>0</th>\n",
       "      <td>fe01b234-3576-4c05-91b2-c16607e3d883</td>\n",
       "      <td>48</td>\n",
       "    </tr>\n",
       "    <tr>\n",
       "      <th>1</th>\n",
       "      <td>8a4165b4-34f5-45cf-a98e-47753d06ea3c</td>\n",
       "      <td>46</td>\n",
       "    </tr>\n",
       "    <tr>\n",
       "      <th>2</th>\n",
       "      <td>26b81572-e84e-4f41-9df3-a17ec7a1fda6</td>\n",
       "      <td>43</td>\n",
       "    </tr>\n",
       "    <tr>\n",
       "      <th>3</th>\n",
       "      <td>c147e59c-f274-45f6-85de-b3f88eafa532</td>\n",
       "      <td>43</td>\n",
       "    </tr>\n",
       "    <tr>\n",
       "      <th>4</th>\n",
       "      <td>dfe2accb-b585-4938-af52-0223964dc581</td>\n",
       "      <td>42</td>\n",
       "    </tr>\n",
       "  </tbody>\n",
       "</table>\n",
       "</div>"
      ],
      "text/plain": [
       "                                matchId  roundsPlayedValue\n",
       "0  fe01b234-3576-4c05-91b2-c16607e3d883                 48\n",
       "1  8a4165b4-34f5-45cf-a98e-47753d06ea3c                 46\n",
       "2  26b81572-e84e-4f41-9df3-a17ec7a1fda6                 43\n",
       "3  c147e59c-f274-45f6-85de-b3f88eafa532                 43\n",
       "4  dfe2accb-b585-4938-af52-0223964dc581                 42"
      ]
     },
     "execution_count": 22,
     "metadata": {},
     "output_type": "execute_result"
    }
   ],
   "source": [
    "rounds_matches = (\n",
    "    df_matches_abt[['matchId','roundsPlayedValue',]]\n",
    "    .drop_duplicates()\n",
    "    .sort_values(by=['roundsPlayedValue'], ascending=False)\n",
    "    .reset_index(drop=True)\n",
    "    )\n",
    "\n",
    "rounds_matches.head(5)"
   ]
  },
  {
   "cell_type": "code",
   "execution_count": 23,
   "metadata": {},
   "outputs": [],
   "source": [
    "# fig = px.bar(rounds_matches, y='matchId', x='roundsPlayedValue', text_auto='.2s',\n",
    "#             title=\"Matches with the highest number of rounds\",\n",
    "#             orientation='h')\n",
    "# fig.update_traces(textfont_size=10, textangle=0, textposition=\"inside\", cliponaxis=False)\n",
    "# fig.show()"
   ]
  },
  {
   "cell_type": "code",
   "execution_count": 24,
   "metadata": {},
   "outputs": [
    {
     "data": {
      "text/html": [
       "<div>\n",
       "<style scoped>\n",
       "    .dataframe tbody tr th:only-of-type {\n",
       "        vertical-align: middle;\n",
       "    }\n",
       "\n",
       "    .dataframe tbody tr th {\n",
       "        vertical-align: top;\n",
       "    }\n",
       "\n",
       "    .dataframe thead th {\n",
       "        text-align: right;\n",
       "    }\n",
       "</style>\n",
       "<table border=\"1\" class=\"dataframe\">\n",
       "  <thead>\n",
       "    <tr style=\"text-align: right;\">\n",
       "      <th></th>\n",
       "      <th>matchId</th>\n",
       "      <th>playtimeValueMinutes</th>\n",
       "    </tr>\n",
       "  </thead>\n",
       "  <tbody>\n",
       "    <tr>\n",
       "      <th>0</th>\n",
       "      <td>8a4165b4-34f5-45cf-a98e-47753d06ea3c</td>\n",
       "      <td>82.083333</td>\n",
       "    </tr>\n",
       "    <tr>\n",
       "      <th>1</th>\n",
       "      <td>dfe2accb-b585-4938-af52-0223964dc581</td>\n",
       "      <td>79.116667</td>\n",
       "    </tr>\n",
       "    <tr>\n",
       "      <th>2</th>\n",
       "      <td>fe01b234-3576-4c05-91b2-c16607e3d883</td>\n",
       "      <td>77.016667</td>\n",
       "    </tr>\n",
       "    <tr>\n",
       "      <th>3</th>\n",
       "      <td>a4f55bc5-001b-4bec-ab6b-cb013d276088</td>\n",
       "      <td>75.233333</td>\n",
       "    </tr>\n",
       "    <tr>\n",
       "      <th>4</th>\n",
       "      <td>833b9325-e9fa-40fc-9701-ecf13325dead</td>\n",
       "      <td>75.216667</td>\n",
       "    </tr>\n",
       "  </tbody>\n",
       "</table>\n",
       "</div>"
      ],
      "text/plain": [
       "                                matchId  playtimeValueMinutes\n",
       "0  8a4165b4-34f5-45cf-a98e-47753d06ea3c             82.083333\n",
       "1  dfe2accb-b585-4938-af52-0223964dc581             79.116667\n",
       "2  fe01b234-3576-4c05-91b2-c16607e3d883             77.016667\n",
       "3  a4f55bc5-001b-4bec-ab6b-cb013d276088             75.233333\n",
       "4  833b9325-e9fa-40fc-9701-ecf13325dead             75.216667"
      ]
     },
     "execution_count": 24,
     "metadata": {},
     "output_type": "execute_result"
    }
   ],
   "source": [
    "matches_minutes = df_matches_abt[['matchId',]]\n",
    "matches_minutes['playtimeValueMinutes'] = df_matches_abt['playtimeValue']/60\n",
    "time_matches = (\n",
    "    matches_minutes\n",
    "    .drop_duplicates()\n",
    "    .sort_values(by=['playtimeValueMinutes'], ascending=False)\n",
    "    .reset_index(drop=True)\n",
    ")\n",
    "\n",
    "time_matches.head(5)"
   ]
  },
  {
   "cell_type": "code",
   "execution_count": 25,
   "metadata": {},
   "outputs": [],
   "source": [
    "# fig = px.bar(matches_minutes, y='matchId', x='playtimeValueMinutes', text_auto='.5s',\n",
    "#             title=\"Matches with the highest number of minutes played\",\n",
    "#             orientation='h')\n",
    "# fig.update_traces(textfont_size=10, textangle=0, textposition=\"inside\", cliponaxis=False)\n",
    "# fig.show()"
   ]
  },
  {
   "cell_type": "code",
   "execution_count": 26,
   "metadata": {},
   "outputs": [
    {
     "data": {
      "text/html": [
       "<div>\n",
       "<style scoped>\n",
       "    .dataframe tbody tr th:only-of-type {\n",
       "        vertical-align: middle;\n",
       "    }\n",
       "\n",
       "    .dataframe tbody tr th {\n",
       "        vertical-align: top;\n",
       "    }\n",
       "\n",
       "    .dataframe thead th {\n",
       "        text-align: right;\n",
       "    }\n",
       "</style>\n",
       "<table border=\"1\" class=\"dataframe\">\n",
       "  <thead>\n",
       "    <tr style=\"text-align: right;\">\n",
       "      <th></th>\n",
       "      <th>matchId</th>\n",
       "      <th>playtimeValueMinutes</th>\n",
       "      <th>date</th>\n",
       "      <th>hour</th>\n",
       "    </tr>\n",
       "  </thead>\n",
       "  <tbody>\n",
       "    <tr>\n",
       "      <th>0</th>\n",
       "      <td>8a4165b4-34f5-45cf-a98e-47753d06ea3c</td>\n",
       "      <td>82.083333</td>\n",
       "      <td>2022-11-08</td>\n",
       "      <td>18</td>\n",
       "    </tr>\n",
       "    <tr>\n",
       "      <th>1</th>\n",
       "      <td>dfe2accb-b585-4938-af52-0223964dc581</td>\n",
       "      <td>79.116667</td>\n",
       "      <td>2022-11-08</td>\n",
       "      <td>17</td>\n",
       "    </tr>\n",
       "    <tr>\n",
       "      <th>2</th>\n",
       "      <td>fe01b234-3576-4c05-91b2-c16607e3d883</td>\n",
       "      <td>77.016667</td>\n",
       "      <td>2022-11-08</td>\n",
       "      <td>16</td>\n",
       "    </tr>\n",
       "    <tr>\n",
       "      <th>3</th>\n",
       "      <td>a4f55bc5-001b-4bec-ab6b-cb013d276088</td>\n",
       "      <td>75.233333</td>\n",
       "      <td>2022-11-08</td>\n",
       "      <td>15</td>\n",
       "    </tr>\n",
       "    <tr>\n",
       "      <th>4</th>\n",
       "      <td>833b9325-e9fa-40fc-9701-ecf13325dead</td>\n",
       "      <td>75.216667</td>\n",
       "      <td>2022-11-05</td>\n",
       "      <td>22</td>\n",
       "    </tr>\n",
       "    <tr>\n",
       "      <th>...</th>\n",
       "      <td>...</td>\n",
       "      <td>...</td>\n",
       "      <td>...</td>\n",
       "      <td>...</td>\n",
       "    </tr>\n",
       "    <tr>\n",
       "      <th>209423</th>\n",
       "      <td>e76e399e-318c-461e-8c70-213793e4811e</td>\n",
       "      <td>1.833333</td>\n",
       "      <td>2022-10-23</td>\n",
       "      <td>11</td>\n",
       "    </tr>\n",
       "    <tr>\n",
       "      <th>209424</th>\n",
       "      <td>8e8c9f5a-005c-4ac8-b1ec-255518a71285</td>\n",
       "      <td>1.750000</td>\n",
       "      <td>2022-10-23</td>\n",
       "      <td>09</td>\n",
       "    </tr>\n",
       "    <tr>\n",
       "      <th>209425</th>\n",
       "      <td>98ef0b5d-ff9f-448c-bab7-394443015a0b</td>\n",
       "      <td>1.750000</td>\n",
       "      <td>2022-10-23</td>\n",
       "      <td>08</td>\n",
       "    </tr>\n",
       "    <tr>\n",
       "      <th>209426</th>\n",
       "      <td>77c277f7-c99a-4349-8c17-704d39024934</td>\n",
       "      <td>1.716667</td>\n",
       "      <td>2022-10-23</td>\n",
       "      <td>08</td>\n",
       "    </tr>\n",
       "    <tr>\n",
       "      <th>209427</th>\n",
       "      <td>ba31c28a-b930-45a7-9831-e8aa7153c7d4</td>\n",
       "      <td>1.683333</td>\n",
       "      <td>2022-10-23</td>\n",
       "      <td>07</td>\n",
       "    </tr>\n",
       "  </tbody>\n",
       "</table>\n",
       "<p>209428 rows × 4 columns</p>\n",
       "</div>"
      ],
      "text/plain": [
       "                                     matchId  playtimeValueMinutes  \\\n",
       "0       8a4165b4-34f5-45cf-a98e-47753d06ea3c             82.083333   \n",
       "1       dfe2accb-b585-4938-af52-0223964dc581             79.116667   \n",
       "2       fe01b234-3576-4c05-91b2-c16607e3d883             77.016667   \n",
       "3       a4f55bc5-001b-4bec-ab6b-cb013d276088             75.233333   \n",
       "4       833b9325-e9fa-40fc-9701-ecf13325dead             75.216667   \n",
       "...                                      ...                   ...   \n",
       "209423  e76e399e-318c-461e-8c70-213793e4811e              1.833333   \n",
       "209424  8e8c9f5a-005c-4ac8-b1ec-255518a71285              1.750000   \n",
       "209425  98ef0b5d-ff9f-448c-bab7-394443015a0b              1.750000   \n",
       "209426  77c277f7-c99a-4349-8c17-704d39024934              1.716667   \n",
       "209427  ba31c28a-b930-45a7-9831-e8aa7153c7d4              1.683333   \n",
       "\n",
       "              date hour  \n",
       "0       2022-11-08   18  \n",
       "1       2022-11-08   17  \n",
       "2       2022-11-08   16  \n",
       "3       2022-11-08   15  \n",
       "4       2022-11-05   22  \n",
       "...            ...  ...  \n",
       "209423  2022-10-23   11  \n",
       "209424  2022-10-23   09  \n",
       "209425  2022-10-23   08  \n",
       "209426  2022-10-23   08  \n",
       "209427  2022-10-23   07  \n",
       "\n",
       "[209428 rows x 4 columns]"
      ]
     },
     "execution_count": 26,
     "metadata": {},
     "output_type": "execute_result"
    }
   ],
   "source": [
    "time_matches['date'] = df_matches_abt['timestamp'].apply(lambda x: pd.Timestamp(x).strftime('%Y-%m-%d'))\n",
    "time_matches['hour'] = df_matches_abt['timestamp'].apply(lambda x: pd.Timestamp(x).strftime('%H'))\n",
    "time_matches"
   ]
  },
  {
   "cell_type": "code",
   "execution_count": 27,
   "metadata": {},
   "outputs": [
    {
     "data": {
      "text/html": [
       "<div>\n",
       "<style scoped>\n",
       "    .dataframe tbody tr th:only-of-type {\n",
       "        vertical-align: middle;\n",
       "    }\n",
       "\n",
       "    .dataframe tbody tr th {\n",
       "        vertical-align: top;\n",
       "    }\n",
       "\n",
       "    .dataframe thead th {\n",
       "        text-align: right;\n",
       "    }\n",
       "</style>\n",
       "<table border=\"1\" class=\"dataframe\">\n",
       "  <thead>\n",
       "    <tr style=\"text-align: right;\">\n",
       "      <th></th>\n",
       "      <th>date</th>\n",
       "      <th>count</th>\n",
       "    </tr>\n",
       "  </thead>\n",
       "  <tbody>\n",
       "    <tr>\n",
       "      <th>0</th>\n",
       "      <td>2022-11-10</td>\n",
       "      <td>104</td>\n",
       "    </tr>\n",
       "    <tr>\n",
       "      <th>1</th>\n",
       "      <td>2022-11-09</td>\n",
       "      <td>630</td>\n",
       "    </tr>\n",
       "    <tr>\n",
       "      <th>2</th>\n",
       "      <td>2022-11-08</td>\n",
       "      <td>1428</td>\n",
       "    </tr>\n",
       "    <tr>\n",
       "      <th>3</th>\n",
       "      <td>2022-11-07</td>\n",
       "      <td>1927</td>\n",
       "    </tr>\n",
       "    <tr>\n",
       "      <th>4</th>\n",
       "      <td>2022-11-06</td>\n",
       "      <td>2034</td>\n",
       "    </tr>\n",
       "  </tbody>\n",
       "</table>\n",
       "</div>"
      ],
      "text/plain": [
       "         date  count\n",
       "0  2022-11-10    104\n",
       "1  2022-11-09    630\n",
       "2  2022-11-08   1428\n",
       "3  2022-11-07   1927\n",
       "4  2022-11-06   2034"
      ]
     },
     "execution_count": 27,
     "metadata": {},
     "output_type": "execute_result"
    }
   ],
   "source": [
    "matches_date = time_matches[['date',]].groupby(['date'])['date'] \\\n",
    "                             .count() \\\n",
    "                             .reset_index(name='count') \\\n",
    "                             .sort_values(['date'], ascending=False) \\\n",
    "                             .reset_index(drop=True)\n",
    "\n",
    "matches_date.head()"
   ]
  },
  {
   "cell_type": "code",
   "execution_count": 28,
   "metadata": {},
   "outputs": [
    {
     "data": {
      "text/html": [
       "<div>\n",
       "<style scoped>\n",
       "    .dataframe tbody tr th:only-of-type {\n",
       "        vertical-align: middle;\n",
       "    }\n",
       "\n",
       "    .dataframe tbody tr th {\n",
       "        vertical-align: top;\n",
       "    }\n",
       "\n",
       "    .dataframe thead th {\n",
       "        text-align: right;\n",
       "    }\n",
       "</style>\n",
       "<table border=\"1\" class=\"dataframe\">\n",
       "  <thead>\n",
       "    <tr style=\"text-align: right;\">\n",
       "      <th></th>\n",
       "      <th>date</th>\n",
       "    </tr>\n",
       "  </thead>\n",
       "  <tbody>\n",
       "    <tr>\n",
       "      <th>min</th>\n",
       "      <td>2020-10-30</td>\n",
       "    </tr>\n",
       "    <tr>\n",
       "      <th>max</th>\n",
       "      <td>2022-11-10</td>\n",
       "    </tr>\n",
       "  </tbody>\n",
       "</table>\n",
       "</div>"
      ],
      "text/plain": [
       "           date\n",
       "min  2020-10-30\n",
       "max  2022-11-10"
      ]
     },
     "execution_count": 28,
     "metadata": {},
     "output_type": "execute_result"
    }
   ],
   "source": [
    "matches_date_max_min = matches_date[['date']].agg(['min', 'max'])\n",
    "matches_date_max_min"
   ]
  },
  {
   "cell_type": "code",
   "execution_count": 29,
   "metadata": {},
   "outputs": [],
   "source": [
    "matches_date_plot = matches_date"
   ]
  },
  {
   "cell_type": "code",
   "execution_count": 30,
   "metadata": {},
   "outputs": [
    {
     "data": {
      "application/vnd.plotly.v1+json": {
       "config": {
        "plotlyServerURL": "https://plot.ly"
       },
       "data": [
        {
         "hovertemplate": "date=%{x}<br>count=%{y}<extra></extra>",
         "legendgroup": "",
         "line": {
          "color": "#636efa",
          "dash": "solid"
         },
         "marker": {
          "symbol": "circle"
         },
         "mode": "lines",
         "name": "",
         "orientation": "v",
         "showlegend": false,
         "type": "scatter",
         "x": [
          "2022-11-10",
          "2022-11-09",
          "2022-11-08",
          "2022-11-07",
          "2022-11-06",
          "2022-11-05",
          "2022-11-04",
          "2022-11-03",
          "2022-11-02",
          "2022-11-01",
          "2022-10-31",
          "2022-10-30",
          "2022-10-29",
          "2022-10-28",
          "2022-10-27",
          "2022-10-26",
          "2022-10-25",
          "2022-10-24",
          "2022-10-23",
          "2022-10-22",
          "2022-10-21",
          "2022-10-20",
          "2022-10-19",
          "2022-10-18",
          "2022-10-17",
          "2022-10-16",
          "2022-10-15",
          "2022-10-14",
          "2022-10-13",
          "2022-10-12",
          "2022-10-11",
          "2022-10-10",
          "2022-10-09",
          "2022-10-08",
          "2022-10-07",
          "2022-10-06",
          "2022-10-05",
          "2022-10-04",
          "2022-10-03",
          "2022-10-02",
          "2022-10-01",
          "2022-09-30",
          "2022-09-29",
          "2022-09-28",
          "2022-09-27",
          "2022-09-26",
          "2022-09-25",
          "2022-09-24",
          "2022-09-23",
          "2022-09-22",
          "2022-09-21",
          "2022-09-20",
          "2022-09-19",
          "2022-09-18",
          "2022-09-17",
          "2022-09-16",
          "2022-09-15",
          "2022-09-14",
          "2022-09-13",
          "2022-09-12",
          "2022-09-11",
          "2022-09-10",
          "2022-09-09",
          "2022-09-08",
          "2022-09-07",
          "2022-09-06",
          "2022-09-05",
          "2022-09-04",
          "2022-09-03",
          "2022-09-02",
          "2022-09-01",
          "2022-08-31",
          "2022-08-30",
          "2022-08-29",
          "2022-08-28",
          "2022-08-27",
          "2022-08-26",
          "2022-08-25",
          "2022-08-24",
          "2022-08-23",
          "2022-08-22",
          "2022-08-21",
          "2022-08-20",
          "2022-08-19",
          "2022-08-18",
          "2022-08-17",
          "2022-08-16",
          "2022-08-15",
          "2022-08-14",
          "2022-08-13",
          "2022-08-12",
          "2022-08-11",
          "2022-08-10",
          "2022-08-09",
          "2022-08-08",
          "2022-08-07",
          "2022-08-06",
          "2022-08-05",
          "2022-08-04",
          "2022-08-03",
          "2022-08-02",
          "2022-08-01",
          "2022-07-31",
          "2022-07-30",
          "2022-07-29",
          "2022-07-28",
          "2022-07-27",
          "2022-07-26",
          "2022-07-25",
          "2022-07-24",
          "2022-07-23",
          "2022-07-22",
          "2022-07-21",
          "2022-07-20",
          "2022-07-19",
          "2022-07-18",
          "2022-07-17",
          "2022-07-16",
          "2022-07-15",
          "2022-07-14",
          "2022-07-13",
          "2022-07-12",
          "2022-07-11",
          "2022-07-10",
          "2022-07-09",
          "2022-07-08",
          "2022-07-07",
          "2022-07-06",
          "2022-07-05",
          "2022-07-04",
          "2022-07-03",
          "2022-07-02",
          "2022-07-01",
          "2022-06-30",
          "2022-06-29",
          "2022-06-28",
          "2022-06-27",
          "2022-06-26",
          "2022-06-25",
          "2022-06-24",
          "2022-06-23",
          "2022-06-22",
          "2022-06-21",
          "2022-06-20",
          "2022-06-19",
          "2022-06-18",
          "2022-06-17",
          "2022-06-16",
          "2022-06-15",
          "2022-06-14",
          "2022-06-13",
          "2022-06-12",
          "2022-06-11",
          "2022-06-10",
          "2022-06-09",
          "2022-06-08",
          "2022-06-07",
          "2022-06-06",
          "2022-06-05",
          "2022-06-04",
          "2022-06-03",
          "2022-06-02",
          "2022-06-01",
          "2022-05-31",
          "2022-05-30",
          "2022-05-29",
          "2022-05-28",
          "2022-05-27",
          "2022-05-26",
          "2022-05-25",
          "2022-05-24",
          "2022-05-23",
          "2022-05-22",
          "2022-05-21",
          "2022-05-20",
          "2022-05-19",
          "2022-05-18",
          "2022-05-17",
          "2022-05-16",
          "2022-05-15",
          "2022-05-14",
          "2022-05-13",
          "2022-05-12",
          "2022-05-11",
          "2022-05-10",
          "2022-05-09",
          "2022-05-08",
          "2022-05-07",
          "2022-05-06",
          "2022-05-05",
          "2022-05-04",
          "2022-05-03",
          "2022-05-02",
          "2022-05-01",
          "2022-04-30",
          "2022-04-29",
          "2022-04-28",
          "2022-04-27",
          "2022-04-26",
          "2022-04-25",
          "2022-04-24",
          "2022-04-23",
          "2022-04-22",
          "2022-04-21",
          "2022-04-20",
          "2022-04-19",
          "2022-04-18",
          "2022-04-17",
          "2022-04-16",
          "2022-04-15",
          "2022-04-14",
          "2022-04-13",
          "2022-04-12",
          "2022-04-11",
          "2022-04-10",
          "2022-04-09",
          "2022-04-08",
          "2022-04-07",
          "2022-04-06",
          "2022-04-05",
          "2022-04-04",
          "2022-04-03",
          "2022-04-02",
          "2022-04-01",
          "2022-03-31",
          "2022-03-30",
          "2022-03-29",
          "2022-03-28",
          "2022-03-27",
          "2022-03-26",
          "2022-03-25",
          "2022-03-24",
          "2022-03-23",
          "2022-03-22",
          "2022-03-21",
          "2022-03-20",
          "2022-03-19",
          "2022-03-18",
          "2022-03-17",
          "2022-03-16",
          "2022-03-15",
          "2022-03-14",
          "2022-03-13",
          "2022-03-12",
          "2022-03-11",
          "2022-03-10",
          "2022-03-09",
          "2022-03-08",
          "2022-03-07",
          "2022-03-06",
          "2022-03-05",
          "2022-03-04",
          "2022-03-03",
          "2022-03-02",
          "2022-03-01",
          "2022-02-28",
          "2022-02-27",
          "2022-02-26",
          "2022-02-25",
          "2022-02-24",
          "2022-02-23",
          "2022-02-22",
          "2022-02-21",
          "2022-02-20",
          "2022-02-19",
          "2022-02-17",
          "2022-02-16",
          "2022-02-15",
          "2022-02-14",
          "2022-02-13",
          "2022-02-12",
          "2022-02-10",
          "2022-02-09",
          "2022-02-08",
          "2022-02-07",
          "2022-02-06",
          "2022-02-05",
          "2022-02-04",
          "2022-02-03",
          "2022-02-02",
          "2022-02-01",
          "2022-01-31",
          "2022-01-30",
          "2022-01-29",
          "2022-01-28",
          "2022-01-26",
          "2022-01-25",
          "2022-01-24",
          "2022-01-23",
          "2022-01-22",
          "2022-01-21",
          "2022-01-20",
          "2022-01-19",
          "2022-01-18",
          "2022-01-17",
          "2022-01-16",
          "2022-01-15",
          "2022-01-14",
          "2022-01-13",
          "2022-01-12",
          "2022-01-11",
          "2022-01-10",
          "2022-01-09",
          "2022-01-08",
          "2022-01-07",
          "2022-01-06",
          "2022-01-05",
          "2022-01-04",
          "2022-01-03",
          "2022-01-02",
          "2022-01-01",
          "2021-12-31",
          "2021-12-30",
          "2021-12-29",
          "2021-12-27",
          "2021-12-26",
          "2021-12-25",
          "2021-12-24",
          "2021-12-23",
          "2021-12-22",
          "2021-12-21",
          "2021-12-20",
          "2021-12-19",
          "2021-12-18",
          "2021-12-17",
          "2021-12-16",
          "2021-12-15",
          "2021-12-14",
          "2021-12-13",
          "2021-12-12",
          "2021-12-11",
          "2021-12-09",
          "2021-12-08",
          "2021-12-07",
          "2021-12-06",
          "2021-12-05",
          "2021-12-04",
          "2021-12-03",
          "2021-11-30",
          "2021-11-29",
          "2021-11-28",
          "2021-11-26",
          "2021-11-24",
          "2021-11-23",
          "2021-11-21",
          "2021-11-19",
          "2021-11-18",
          "2021-11-17",
          "2021-11-15",
          "2021-11-14",
          "2021-11-13",
          "2021-11-12",
          "2021-11-10",
          "2021-11-09",
          "2021-11-08",
          "2021-11-05",
          "2021-11-04",
          "2021-11-03",
          "2021-11-02",
          "2021-11-01",
          "2021-10-31",
          "2021-10-27",
          "2021-10-26",
          "2021-10-25",
          "2021-10-18",
          "2021-10-13",
          "2021-10-12",
          "2021-10-11",
          "2021-10-08",
          "2021-10-06",
          "2021-10-05",
          "2021-10-04",
          "2021-10-02",
          "2021-09-30",
          "2021-09-29",
          "2021-09-25",
          "2021-09-24",
          "2021-09-23",
          "2021-09-21",
          "2021-09-18",
          "2021-09-17",
          "2021-09-15",
          "2021-09-10",
          "2021-09-09",
          "2021-09-07",
          "2021-09-06",
          "2021-09-05",
          "2021-09-04",
          "2021-09-03",
          "2021-09-02",
          "2021-08-26",
          "2021-08-24",
          "2021-08-23",
          "2021-08-22",
          "2021-08-21",
          "2021-08-20",
          "2021-08-19",
          "2021-08-18",
          "2021-08-17",
          "2021-08-16",
          "2021-08-15",
          "2021-08-14",
          "2021-08-13",
          "2021-08-12",
          "2021-08-11",
          "2021-08-02",
          "2021-08-01",
          "2021-07-30",
          "2021-07-29",
          "2021-07-27",
          "2021-07-26",
          "2021-07-25",
          "2021-07-24",
          "2021-07-23",
          "2021-07-19",
          "2021-07-17",
          "2021-07-16",
          "2021-07-15",
          "2021-07-14",
          "2021-07-12",
          "2021-07-06",
          "2021-07-04",
          "2021-07-03",
          "2021-07-02",
          "2021-07-01",
          "2021-06-30",
          "2021-06-28",
          "2021-06-26",
          "2021-06-24",
          "2021-06-23",
          "2021-06-22",
          "2021-06-17",
          "2021-06-16",
          "2021-06-15",
          "2021-06-13",
          "2021-06-12",
          "2021-06-10",
          "2021-06-08",
          "2021-06-06",
          "2021-06-02",
          "2021-06-01",
          "2021-05-30",
          "2021-05-29",
          "2021-05-28",
          "2021-05-26",
          "2021-05-25",
          "2021-05-24",
          "2021-05-23",
          "2021-05-19",
          "2021-05-18",
          "2021-05-17",
          "2021-05-15",
          "2021-05-14",
          "2021-05-13",
          "2021-05-12",
          "2021-05-11",
          "2021-05-10",
          "2021-05-09",
          "2021-05-08",
          "2021-05-04",
          "2021-05-03",
          "2021-05-02",
          "2021-05-01",
          "2021-04-30",
          "2021-04-29",
          "2021-04-27",
          "2021-04-26",
          "2021-04-25",
          "2021-04-24",
          "2021-04-23",
          "2021-04-22",
          "2021-04-21",
          "2021-04-20",
          "2021-04-19",
          "2021-04-17",
          "2021-04-15",
          "2021-04-14",
          "2021-04-13",
          "2021-04-12",
          "2021-04-11",
          "2021-04-10",
          "2021-04-09",
          "2021-04-08",
          "2021-04-07",
          "2021-04-06",
          "2021-04-05",
          "2021-04-04",
          "2021-04-03",
          "2021-04-02",
          "2021-04-01",
          "2021-03-29",
          "2021-03-27",
          "2021-03-25",
          "2021-03-24",
          "2021-03-23",
          "2021-03-19",
          "2021-03-18",
          "2021-03-17",
          "2021-03-16",
          "2021-03-15",
          "2021-03-13",
          "2021-03-12",
          "2021-03-11",
          "2021-03-08",
          "2021-03-01",
          "2021-02-23",
          "2021-02-22",
          "2021-02-21",
          "2021-02-18",
          "2021-02-17",
          "2021-02-15",
          "2021-02-14",
          "2021-02-13",
          "2021-02-12",
          "2021-02-07",
          "2021-02-06",
          "2021-02-05",
          "2021-01-28",
          "2021-01-27",
          "2021-01-22",
          "2021-01-21",
          "2021-01-20",
          "2021-01-16",
          "2021-01-15",
          "2021-01-12",
          "2021-01-10",
          "2020-12-06",
          "2020-11-08",
          "2020-10-30"
         ],
         "xaxis": "x",
         "y": [
          104,
          630,
          1428,
          1927,
          2034,
          2405,
          2913,
          3261,
          3420,
          3278,
          3361,
          3447,
          3874,
          4516,
          5401,
          5777,
          5941,
          6049,
          6470,
          6395,
          6682,
          6478,
          7127,
          3812,
          3223,
          3314,
          2967,
          3038,
          2745,
          2640,
          2586,
          2526,
          2411,
          2475,
          2390,
          2496,
          2440,
          2496,
          2315,
          2468,
          2554,
          2265,
          1910,
          2001,
          2280,
          1941,
          1965,
          1830,
          1704,
          1849,
          1830,
          1591,
          1546,
          1228,
          1248,
          1224,
          1387,
          1267,
          1071,
          1142,
          1139,
          1113,
          1016,
          1069,
          1053,
          1097,
          949,
          1102,
          970,
          757,
          842,
          833,
          951,
          893,
          789,
          816,
          755,
          766,
          878,
          308,
          389,
          396,
          433,
          377,
          345,
          339,
          334,
          342,
          261,
          216,
          287,
          257,
          217,
          243,
          285,
          198,
          222,
          192,
          239,
          247,
          217,
          196,
          255,
          199,
          256,
          274,
          277,
          261,
          222,
          221,
          202,
          253,
          206,
          264,
          248,
          214,
          220,
          228,
          195,
          220,
          201,
          166,
          173,
          175,
          134,
          163,
          160,
          157,
          206,
          213,
          177,
          204,
          232,
          209,
          189,
          123,
          163,
          128,
          111,
          120,
          122,
          56,
          77,
          72,
          75,
          50,
          43,
          44,
          48,
          69,
          43,
          52,
          66,
          56,
          40,
          40,
          26,
          36,
          33,
          31,
          24,
          21,
          32,
          38,
          39,
          39,
          26,
          21,
          30,
          39,
          26,
          43,
          32,
          17,
          40,
          43,
          46,
          35,
          23,
          22,
          28,
          36,
          33,
          38,
          54,
          33,
          36,
          37,
          37,
          29,
          27,
          31,
          18,
          38,
          52,
          50,
          28,
          45,
          19,
          16,
          7,
          4,
          6,
          9,
          24,
          26,
          30,
          35,
          24,
          11,
          16,
          16,
          19,
          13,
          10,
          6,
          15,
          11,
          1,
          6,
          16,
          22,
          20,
          20,
          24,
          23,
          28,
          10,
          13,
          13,
          2,
          14,
          11,
          10,
          19,
          13,
          13,
          2,
          3,
          5,
          15,
          7,
          7,
          10,
          13,
          8,
          12,
          12,
          6,
          2,
          2,
          8,
          15,
          16,
          9,
          7,
          8,
          3,
          5,
          8,
          11,
          19,
          9,
          5,
          4,
          1,
          3,
          4,
          5,
          10,
          5,
          1,
          6,
          6,
          4,
          2,
          6,
          5,
          8,
          7,
          6,
          11,
          6,
          6,
          7,
          10,
          5,
          3,
          6,
          4,
          1,
          8,
          20,
          14,
          11,
          13,
          17,
          11,
          5,
          12,
          1,
          2,
          8,
          7,
          6,
          1,
          3,
          5,
          1,
          4,
          2,
          2,
          5,
          9,
          3,
          6,
          11,
          9,
          13,
          9,
          9,
          12,
          6,
          12,
          12,
          5,
          10,
          2,
          22,
          18,
          13,
          2,
          1,
          4,
          11,
          4,
          9,
          2,
          5,
          3,
          10,
          5,
          3,
          1,
          2,
          1,
          4,
          2,
          3,
          1,
          3,
          1,
          4,
          1,
          1,
          3,
          2,
          1,
          2,
          1,
          3,
          1,
          6,
          1,
          3,
          10,
          8,
          3,
          5,
          2,
          8,
          1,
          6,
          10,
          2,
          5,
          1,
          2,
          1,
          8,
          4,
          1,
          1,
          1,
          1,
          1,
          2,
          1,
          4,
          4,
          1,
          2,
          10,
          9,
          12,
          3,
          2,
          3,
          2,
          10,
          4,
          10,
          6,
          10,
          7,
          2,
          2,
          4,
          1,
          4,
          1,
          6,
          5,
          4,
          5,
          2,
          6,
          4,
          10,
          3,
          5,
          5,
          1,
          8,
          7,
          1,
          3,
          1,
          3,
          3,
          2,
          5,
          6,
          5,
          6,
          1,
          4,
          2,
          4,
          1,
          1,
          4,
          8,
          2,
          1,
          3,
          2,
          1,
          2,
          5,
          7,
          3,
          3,
          3,
          2,
          3,
          5,
          2,
          1,
          2,
          1,
          3,
          4,
          1,
          1,
          3,
          2,
          8,
          6,
          13,
          5,
          2,
          1,
          3,
          2,
          3,
          2,
          7,
          1,
          5,
          9,
          7,
          9,
          2,
          11,
          7,
          16,
          5,
          2,
          8,
          1,
          1,
          2,
          1,
          6,
          2,
          2,
          2,
          1,
          1,
          1,
          4,
          1,
          1,
          5,
          4,
          1,
          1,
          1,
          1,
          2,
          4,
          2,
          1,
          4,
          3,
          4,
          6,
          2,
          3,
          5,
          2,
          3,
          3,
          1,
          1,
          1,
          3,
          1
         ],
         "yaxis": "y"
        }
       ],
       "layout": {
        "legend": {
         "tracegroupgap": 0
        },
        "margin": {
         "t": 60
        },
        "template": {
         "data": {
          "bar": [
           {
            "error_x": {
             "color": "#2a3f5f"
            },
            "error_y": {
             "color": "#2a3f5f"
            },
            "marker": {
             "line": {
              "color": "#E5ECF6",
              "width": 0.5
             },
             "pattern": {
              "fillmode": "overlay",
              "size": 10,
              "solidity": 0.2
             }
            },
            "type": "bar"
           }
          ],
          "barpolar": [
           {
            "marker": {
             "line": {
              "color": "#E5ECF6",
              "width": 0.5
             },
             "pattern": {
              "fillmode": "overlay",
              "size": 10,
              "solidity": 0.2
             }
            },
            "type": "barpolar"
           }
          ],
          "carpet": [
           {
            "aaxis": {
             "endlinecolor": "#2a3f5f",
             "gridcolor": "white",
             "linecolor": "white",
             "minorgridcolor": "white",
             "startlinecolor": "#2a3f5f"
            },
            "baxis": {
             "endlinecolor": "#2a3f5f",
             "gridcolor": "white",
             "linecolor": "white",
             "minorgridcolor": "white",
             "startlinecolor": "#2a3f5f"
            },
            "type": "carpet"
           }
          ],
          "choropleth": [
           {
            "colorbar": {
             "outlinewidth": 0,
             "ticks": ""
            },
            "type": "choropleth"
           }
          ],
          "contour": [
           {
            "colorbar": {
             "outlinewidth": 0,
             "ticks": ""
            },
            "colorscale": [
             [
              0,
              "#0d0887"
             ],
             [
              0.1111111111111111,
              "#46039f"
             ],
             [
              0.2222222222222222,
              "#7201a8"
             ],
             [
              0.3333333333333333,
              "#9c179e"
             ],
             [
              0.4444444444444444,
              "#bd3786"
             ],
             [
              0.5555555555555556,
              "#d8576b"
             ],
             [
              0.6666666666666666,
              "#ed7953"
             ],
             [
              0.7777777777777778,
              "#fb9f3a"
             ],
             [
              0.8888888888888888,
              "#fdca26"
             ],
             [
              1,
              "#f0f921"
             ]
            ],
            "type": "contour"
           }
          ],
          "contourcarpet": [
           {
            "colorbar": {
             "outlinewidth": 0,
             "ticks": ""
            },
            "type": "contourcarpet"
           }
          ],
          "heatmap": [
           {
            "colorbar": {
             "outlinewidth": 0,
             "ticks": ""
            },
            "colorscale": [
             [
              0,
              "#0d0887"
             ],
             [
              0.1111111111111111,
              "#46039f"
             ],
             [
              0.2222222222222222,
              "#7201a8"
             ],
             [
              0.3333333333333333,
              "#9c179e"
             ],
             [
              0.4444444444444444,
              "#bd3786"
             ],
             [
              0.5555555555555556,
              "#d8576b"
             ],
             [
              0.6666666666666666,
              "#ed7953"
             ],
             [
              0.7777777777777778,
              "#fb9f3a"
             ],
             [
              0.8888888888888888,
              "#fdca26"
             ],
             [
              1,
              "#f0f921"
             ]
            ],
            "type": "heatmap"
           }
          ],
          "heatmapgl": [
           {
            "colorbar": {
             "outlinewidth": 0,
             "ticks": ""
            },
            "colorscale": [
             [
              0,
              "#0d0887"
             ],
             [
              0.1111111111111111,
              "#46039f"
             ],
             [
              0.2222222222222222,
              "#7201a8"
             ],
             [
              0.3333333333333333,
              "#9c179e"
             ],
             [
              0.4444444444444444,
              "#bd3786"
             ],
             [
              0.5555555555555556,
              "#d8576b"
             ],
             [
              0.6666666666666666,
              "#ed7953"
             ],
             [
              0.7777777777777778,
              "#fb9f3a"
             ],
             [
              0.8888888888888888,
              "#fdca26"
             ],
             [
              1,
              "#f0f921"
             ]
            ],
            "type": "heatmapgl"
           }
          ],
          "histogram": [
           {
            "marker": {
             "pattern": {
              "fillmode": "overlay",
              "size": 10,
              "solidity": 0.2
             }
            },
            "type": "histogram"
           }
          ],
          "histogram2d": [
           {
            "colorbar": {
             "outlinewidth": 0,
             "ticks": ""
            },
            "colorscale": [
             [
              0,
              "#0d0887"
             ],
             [
              0.1111111111111111,
              "#46039f"
             ],
             [
              0.2222222222222222,
              "#7201a8"
             ],
             [
              0.3333333333333333,
              "#9c179e"
             ],
             [
              0.4444444444444444,
              "#bd3786"
             ],
             [
              0.5555555555555556,
              "#d8576b"
             ],
             [
              0.6666666666666666,
              "#ed7953"
             ],
             [
              0.7777777777777778,
              "#fb9f3a"
             ],
             [
              0.8888888888888888,
              "#fdca26"
             ],
             [
              1,
              "#f0f921"
             ]
            ],
            "type": "histogram2d"
           }
          ],
          "histogram2dcontour": [
           {
            "colorbar": {
             "outlinewidth": 0,
             "ticks": ""
            },
            "colorscale": [
             [
              0,
              "#0d0887"
             ],
             [
              0.1111111111111111,
              "#46039f"
             ],
             [
              0.2222222222222222,
              "#7201a8"
             ],
             [
              0.3333333333333333,
              "#9c179e"
             ],
             [
              0.4444444444444444,
              "#bd3786"
             ],
             [
              0.5555555555555556,
              "#d8576b"
             ],
             [
              0.6666666666666666,
              "#ed7953"
             ],
             [
              0.7777777777777778,
              "#fb9f3a"
             ],
             [
              0.8888888888888888,
              "#fdca26"
             ],
             [
              1,
              "#f0f921"
             ]
            ],
            "type": "histogram2dcontour"
           }
          ],
          "mesh3d": [
           {
            "colorbar": {
             "outlinewidth": 0,
             "ticks": ""
            },
            "type": "mesh3d"
           }
          ],
          "parcoords": [
           {
            "line": {
             "colorbar": {
              "outlinewidth": 0,
              "ticks": ""
             }
            },
            "type": "parcoords"
           }
          ],
          "pie": [
           {
            "automargin": true,
            "type": "pie"
           }
          ],
          "scatter": [
           {
            "fillpattern": {
             "fillmode": "overlay",
             "size": 10,
             "solidity": 0.2
            },
            "type": "scatter"
           }
          ],
          "scatter3d": [
           {
            "line": {
             "colorbar": {
              "outlinewidth": 0,
              "ticks": ""
             }
            },
            "marker": {
             "colorbar": {
              "outlinewidth": 0,
              "ticks": ""
             }
            },
            "type": "scatter3d"
           }
          ],
          "scattercarpet": [
           {
            "marker": {
             "colorbar": {
              "outlinewidth": 0,
              "ticks": ""
             }
            },
            "type": "scattercarpet"
           }
          ],
          "scattergeo": [
           {
            "marker": {
             "colorbar": {
              "outlinewidth": 0,
              "ticks": ""
             }
            },
            "type": "scattergeo"
           }
          ],
          "scattergl": [
           {
            "marker": {
             "colorbar": {
              "outlinewidth": 0,
              "ticks": ""
             }
            },
            "type": "scattergl"
           }
          ],
          "scattermapbox": [
           {
            "marker": {
             "colorbar": {
              "outlinewidth": 0,
              "ticks": ""
             }
            },
            "type": "scattermapbox"
           }
          ],
          "scatterpolar": [
           {
            "marker": {
             "colorbar": {
              "outlinewidth": 0,
              "ticks": ""
             }
            },
            "type": "scatterpolar"
           }
          ],
          "scatterpolargl": [
           {
            "marker": {
             "colorbar": {
              "outlinewidth": 0,
              "ticks": ""
             }
            },
            "type": "scatterpolargl"
           }
          ],
          "scatterternary": [
           {
            "marker": {
             "colorbar": {
              "outlinewidth": 0,
              "ticks": ""
             }
            },
            "type": "scatterternary"
           }
          ],
          "surface": [
           {
            "colorbar": {
             "outlinewidth": 0,
             "ticks": ""
            },
            "colorscale": [
             [
              0,
              "#0d0887"
             ],
             [
              0.1111111111111111,
              "#46039f"
             ],
             [
              0.2222222222222222,
              "#7201a8"
             ],
             [
              0.3333333333333333,
              "#9c179e"
             ],
             [
              0.4444444444444444,
              "#bd3786"
             ],
             [
              0.5555555555555556,
              "#d8576b"
             ],
             [
              0.6666666666666666,
              "#ed7953"
             ],
             [
              0.7777777777777778,
              "#fb9f3a"
             ],
             [
              0.8888888888888888,
              "#fdca26"
             ],
             [
              1,
              "#f0f921"
             ]
            ],
            "type": "surface"
           }
          ],
          "table": [
           {
            "cells": {
             "fill": {
              "color": "#EBF0F8"
             },
             "line": {
              "color": "white"
             }
            },
            "header": {
             "fill": {
              "color": "#C8D4E3"
             },
             "line": {
              "color": "white"
             }
            },
            "type": "table"
           }
          ]
         },
         "layout": {
          "annotationdefaults": {
           "arrowcolor": "#2a3f5f",
           "arrowhead": 0,
           "arrowwidth": 1
          },
          "autotypenumbers": "strict",
          "coloraxis": {
           "colorbar": {
            "outlinewidth": 0,
            "ticks": ""
           }
          },
          "colorscale": {
           "diverging": [
            [
             0,
             "#8e0152"
            ],
            [
             0.1,
             "#c51b7d"
            ],
            [
             0.2,
             "#de77ae"
            ],
            [
             0.3,
             "#f1b6da"
            ],
            [
             0.4,
             "#fde0ef"
            ],
            [
             0.5,
             "#f7f7f7"
            ],
            [
             0.6,
             "#e6f5d0"
            ],
            [
             0.7,
             "#b8e186"
            ],
            [
             0.8,
             "#7fbc41"
            ],
            [
             0.9,
             "#4d9221"
            ],
            [
             1,
             "#276419"
            ]
           ],
           "sequential": [
            [
             0,
             "#0d0887"
            ],
            [
             0.1111111111111111,
             "#46039f"
            ],
            [
             0.2222222222222222,
             "#7201a8"
            ],
            [
             0.3333333333333333,
             "#9c179e"
            ],
            [
             0.4444444444444444,
             "#bd3786"
            ],
            [
             0.5555555555555556,
             "#d8576b"
            ],
            [
             0.6666666666666666,
             "#ed7953"
            ],
            [
             0.7777777777777778,
             "#fb9f3a"
            ],
            [
             0.8888888888888888,
             "#fdca26"
            ],
            [
             1,
             "#f0f921"
            ]
           ],
           "sequentialminus": [
            [
             0,
             "#0d0887"
            ],
            [
             0.1111111111111111,
             "#46039f"
            ],
            [
             0.2222222222222222,
             "#7201a8"
            ],
            [
             0.3333333333333333,
             "#9c179e"
            ],
            [
             0.4444444444444444,
             "#bd3786"
            ],
            [
             0.5555555555555556,
             "#d8576b"
            ],
            [
             0.6666666666666666,
             "#ed7953"
            ],
            [
             0.7777777777777778,
             "#fb9f3a"
            ],
            [
             0.8888888888888888,
             "#fdca26"
            ],
            [
             1,
             "#f0f921"
            ]
           ]
          },
          "colorway": [
           "#636efa",
           "#EF553B",
           "#00cc96",
           "#ab63fa",
           "#FFA15A",
           "#19d3f3",
           "#FF6692",
           "#B6E880",
           "#FF97FF",
           "#FECB52"
          ],
          "font": {
           "color": "#2a3f5f"
          },
          "geo": {
           "bgcolor": "white",
           "lakecolor": "white",
           "landcolor": "#E5ECF6",
           "showlakes": true,
           "showland": true,
           "subunitcolor": "white"
          },
          "hoverlabel": {
           "align": "left"
          },
          "hovermode": "closest",
          "mapbox": {
           "style": "light"
          },
          "paper_bgcolor": "white",
          "plot_bgcolor": "#E5ECF6",
          "polar": {
           "angularaxis": {
            "gridcolor": "white",
            "linecolor": "white",
            "ticks": ""
           },
           "bgcolor": "#E5ECF6",
           "radialaxis": {
            "gridcolor": "white",
            "linecolor": "white",
            "ticks": ""
           }
          },
          "scene": {
           "xaxis": {
            "backgroundcolor": "#E5ECF6",
            "gridcolor": "white",
            "gridwidth": 2,
            "linecolor": "white",
            "showbackground": true,
            "ticks": "",
            "zerolinecolor": "white"
           },
           "yaxis": {
            "backgroundcolor": "#E5ECF6",
            "gridcolor": "white",
            "gridwidth": 2,
            "linecolor": "white",
            "showbackground": true,
            "ticks": "",
            "zerolinecolor": "white"
           },
           "zaxis": {
            "backgroundcolor": "#E5ECF6",
            "gridcolor": "white",
            "gridwidth": 2,
            "linecolor": "white",
            "showbackground": true,
            "ticks": "",
            "zerolinecolor": "white"
           }
          },
          "shapedefaults": {
           "line": {
            "color": "#2a3f5f"
           }
          },
          "ternary": {
           "aaxis": {
            "gridcolor": "white",
            "linecolor": "white",
            "ticks": ""
           },
           "baxis": {
            "gridcolor": "white",
            "linecolor": "white",
            "ticks": ""
           },
           "bgcolor": "#E5ECF6",
           "caxis": {
            "gridcolor": "white",
            "linecolor": "white",
            "ticks": ""
           }
          },
          "title": {
           "x": 0.05
          },
          "xaxis": {
           "automargin": true,
           "gridcolor": "white",
           "linecolor": "white",
           "ticks": "",
           "title": {
            "standoff": 15
           },
           "zerolinecolor": "white",
           "zerolinewidth": 2
          },
          "yaxis": {
           "automargin": true,
           "gridcolor": "white",
           "linecolor": "white",
           "ticks": "",
           "title": {
            "standoff": 15
           },
           "zerolinecolor": "white",
           "zerolinewidth": 2
          }
         }
        },
        "xaxis": {
         "anchor": "y",
         "domain": [
          0,
          1
         ],
         "title": {
          "text": "date"
         }
        },
        "yaxis": {
         "anchor": "x",
         "domain": [
          0,
          1
         ],
         "title": {
          "text": "count"
         }
        }
       }
      }
     },
     "metadata": {},
     "output_type": "display_data"
    }
   ],
   "source": [
    "\n",
    "fig = px.line(matches_date_plot, x=matches_date_plot['date'], y=matches_date_plot['count'],)\n",
    "fig.show()"
   ]
  },
  {
   "cell_type": "markdown",
   "metadata": {},
   "source": [
    "Maps"
   ]
  },
  {
   "cell_type": "code",
   "execution_count": 31,
   "metadata": {},
   "outputs": [
    {
     "data": {
      "text/plain": [
       "0       Haven\n",
       "1        Bind\n",
       "2       Pearl\n",
       "3      Breeze\n",
       "4    Fracture\n",
       "5      Icebox\n",
       "6      Ascent\n",
       "7       Split\n",
       "Name: mapName, dtype: object"
      ]
     },
     "execution_count": 31,
     "metadata": {},
     "output_type": "execute_result"
    }
   ],
   "source": [
    "maps_list = df_matches_abt['mapName'].drop_duplicates().reset_index(drop=True)\n",
    "maps_list\n"
   ]
  },
  {
   "cell_type": "code",
   "execution_count": 32,
   "metadata": {},
   "outputs": [
    {
     "data": {
      "text/html": [
       "<div>\n",
       "<style scoped>\n",
       "    .dataframe tbody tr th:only-of-type {\n",
       "        vertical-align: middle;\n",
       "    }\n",
       "\n",
       "    .dataframe tbody tr th {\n",
       "        vertical-align: top;\n",
       "    }\n",
       "\n",
       "    .dataframe thead th {\n",
       "        text-align: right;\n",
       "    }\n",
       "</style>\n",
       "<table border=\"1\" class=\"dataframe\">\n",
       "  <thead>\n",
       "    <tr style=\"text-align: right;\">\n",
       "      <th></th>\n",
       "      <th>mapName</th>\n",
       "      <th>count</th>\n",
       "    </tr>\n",
       "  </thead>\n",
       "  <tbody>\n",
       "    <tr>\n",
       "      <th>4</th>\n",
       "      <td>Haven</td>\n",
       "      <td>48369</td>\n",
       "    </tr>\n",
       "    <tr>\n",
       "      <th>1</th>\n",
       "      <td>Bind</td>\n",
       "      <td>48175</td>\n",
       "    </tr>\n",
       "    <tr>\n",
       "      <th>0</th>\n",
       "      <td>Ascent</td>\n",
       "      <td>48022</td>\n",
       "    </tr>\n",
       "    <tr>\n",
       "      <th>5</th>\n",
       "      <td>Icebox</td>\n",
       "      <td>48003</td>\n",
       "    </tr>\n",
       "    <tr>\n",
       "      <th>2</th>\n",
       "      <td>Breeze</td>\n",
       "      <td>47766</td>\n",
       "    </tr>\n",
       "    <tr>\n",
       "      <th>3</th>\n",
       "      <td>Fracture</td>\n",
       "      <td>47178</td>\n",
       "    </tr>\n",
       "    <tr>\n",
       "      <th>6</th>\n",
       "      <td>Pearl</td>\n",
       "      <td>44508</td>\n",
       "    </tr>\n",
       "    <tr>\n",
       "      <th>7</th>\n",
       "      <td>Split</td>\n",
       "      <td>1814</td>\n",
       "    </tr>\n",
       "  </tbody>\n",
       "</table>\n",
       "</div>"
      ],
      "text/plain": [
       "    mapName  count\n",
       "4     Haven  48369\n",
       "1      Bind  48175\n",
       "0    Ascent  48022\n",
       "5    Icebox  48003\n",
       "2    Breeze  47766\n",
       "3  Fracture  47178\n",
       "6     Pearl  44508\n",
       "7     Split   1814"
      ]
     },
     "execution_count": 32,
     "metadata": {},
     "output_type": "execute_result"
    }
   ],
   "source": [
    "matches_maps = df_matches_abt[['mapName',]].groupby(['mapName'])['mapName'] \\\n",
    "                             .count() \\\n",
    "                             .reset_index(name='count') \\\n",
    "                             .sort_values(['count'], ascending=False) \\\n",
    "                             \n",
    "matches_maps"
   ]
  },
  {
   "cell_type": "code",
   "execution_count": 33,
   "metadata": {},
   "outputs": [
    {
     "data": {
      "application/vnd.plotly.v1+json": {
       "config": {
        "plotlyServerURL": "https://plot.ly"
       },
       "data": [
        {
         "alignmentgroup": "True",
         "cliponaxis": false,
         "hovertemplate": "mapName=%{x}<br>count=%{y}<extra></extra>",
         "legendgroup": "",
         "marker": {
          "color": "#636efa",
          "pattern": {
           "shape": ""
          }
         },
         "name": "",
         "offsetgroup": "",
         "orientation": "v",
         "showlegend": false,
         "textangle": 0,
         "textfont": {
          "size": 10
         },
         "textposition": "outside",
         "texttemplate": "%{y:.5s}",
         "type": "bar",
         "x": [
          "Haven",
          "Bind",
          "Ascent",
          "Icebox",
          "Breeze",
          "Fracture",
          "Pearl",
          "Split"
         ],
         "xaxis": "x",
         "y": [
          48369,
          48175,
          48022,
          48003,
          47766,
          47178,
          44508,
          1814
         ],
         "yaxis": "y"
        }
       ],
       "layout": {
        "barmode": "relative",
        "legend": {
         "tracegroupgap": 0
        },
        "template": {
         "data": {
          "bar": [
           {
            "error_x": {
             "color": "#2a3f5f"
            },
            "error_y": {
             "color": "#2a3f5f"
            },
            "marker": {
             "line": {
              "color": "#E5ECF6",
              "width": 0.5
             },
             "pattern": {
              "fillmode": "overlay",
              "size": 10,
              "solidity": 0.2
             }
            },
            "type": "bar"
           }
          ],
          "barpolar": [
           {
            "marker": {
             "line": {
              "color": "#E5ECF6",
              "width": 0.5
             },
             "pattern": {
              "fillmode": "overlay",
              "size": 10,
              "solidity": 0.2
             }
            },
            "type": "barpolar"
           }
          ],
          "carpet": [
           {
            "aaxis": {
             "endlinecolor": "#2a3f5f",
             "gridcolor": "white",
             "linecolor": "white",
             "minorgridcolor": "white",
             "startlinecolor": "#2a3f5f"
            },
            "baxis": {
             "endlinecolor": "#2a3f5f",
             "gridcolor": "white",
             "linecolor": "white",
             "minorgridcolor": "white",
             "startlinecolor": "#2a3f5f"
            },
            "type": "carpet"
           }
          ],
          "choropleth": [
           {
            "colorbar": {
             "outlinewidth": 0,
             "ticks": ""
            },
            "type": "choropleth"
           }
          ],
          "contour": [
           {
            "colorbar": {
             "outlinewidth": 0,
             "ticks": ""
            },
            "colorscale": [
             [
              0,
              "#0d0887"
             ],
             [
              0.1111111111111111,
              "#46039f"
             ],
             [
              0.2222222222222222,
              "#7201a8"
             ],
             [
              0.3333333333333333,
              "#9c179e"
             ],
             [
              0.4444444444444444,
              "#bd3786"
             ],
             [
              0.5555555555555556,
              "#d8576b"
             ],
             [
              0.6666666666666666,
              "#ed7953"
             ],
             [
              0.7777777777777778,
              "#fb9f3a"
             ],
             [
              0.8888888888888888,
              "#fdca26"
             ],
             [
              1,
              "#f0f921"
             ]
            ],
            "type": "contour"
           }
          ],
          "contourcarpet": [
           {
            "colorbar": {
             "outlinewidth": 0,
             "ticks": ""
            },
            "type": "contourcarpet"
           }
          ],
          "heatmap": [
           {
            "colorbar": {
             "outlinewidth": 0,
             "ticks": ""
            },
            "colorscale": [
             [
              0,
              "#0d0887"
             ],
             [
              0.1111111111111111,
              "#46039f"
             ],
             [
              0.2222222222222222,
              "#7201a8"
             ],
             [
              0.3333333333333333,
              "#9c179e"
             ],
             [
              0.4444444444444444,
              "#bd3786"
             ],
             [
              0.5555555555555556,
              "#d8576b"
             ],
             [
              0.6666666666666666,
              "#ed7953"
             ],
             [
              0.7777777777777778,
              "#fb9f3a"
             ],
             [
              0.8888888888888888,
              "#fdca26"
             ],
             [
              1,
              "#f0f921"
             ]
            ],
            "type": "heatmap"
           }
          ],
          "heatmapgl": [
           {
            "colorbar": {
             "outlinewidth": 0,
             "ticks": ""
            },
            "colorscale": [
             [
              0,
              "#0d0887"
             ],
             [
              0.1111111111111111,
              "#46039f"
             ],
             [
              0.2222222222222222,
              "#7201a8"
             ],
             [
              0.3333333333333333,
              "#9c179e"
             ],
             [
              0.4444444444444444,
              "#bd3786"
             ],
             [
              0.5555555555555556,
              "#d8576b"
             ],
             [
              0.6666666666666666,
              "#ed7953"
             ],
             [
              0.7777777777777778,
              "#fb9f3a"
             ],
             [
              0.8888888888888888,
              "#fdca26"
             ],
             [
              1,
              "#f0f921"
             ]
            ],
            "type": "heatmapgl"
           }
          ],
          "histogram": [
           {
            "marker": {
             "pattern": {
              "fillmode": "overlay",
              "size": 10,
              "solidity": 0.2
             }
            },
            "type": "histogram"
           }
          ],
          "histogram2d": [
           {
            "colorbar": {
             "outlinewidth": 0,
             "ticks": ""
            },
            "colorscale": [
             [
              0,
              "#0d0887"
             ],
             [
              0.1111111111111111,
              "#46039f"
             ],
             [
              0.2222222222222222,
              "#7201a8"
             ],
             [
              0.3333333333333333,
              "#9c179e"
             ],
             [
              0.4444444444444444,
              "#bd3786"
             ],
             [
              0.5555555555555556,
              "#d8576b"
             ],
             [
              0.6666666666666666,
              "#ed7953"
             ],
             [
              0.7777777777777778,
              "#fb9f3a"
             ],
             [
              0.8888888888888888,
              "#fdca26"
             ],
             [
              1,
              "#f0f921"
             ]
            ],
            "type": "histogram2d"
           }
          ],
          "histogram2dcontour": [
           {
            "colorbar": {
             "outlinewidth": 0,
             "ticks": ""
            },
            "colorscale": [
             [
              0,
              "#0d0887"
             ],
             [
              0.1111111111111111,
              "#46039f"
             ],
             [
              0.2222222222222222,
              "#7201a8"
             ],
             [
              0.3333333333333333,
              "#9c179e"
             ],
             [
              0.4444444444444444,
              "#bd3786"
             ],
             [
              0.5555555555555556,
              "#d8576b"
             ],
             [
              0.6666666666666666,
              "#ed7953"
             ],
             [
              0.7777777777777778,
              "#fb9f3a"
             ],
             [
              0.8888888888888888,
              "#fdca26"
             ],
             [
              1,
              "#f0f921"
             ]
            ],
            "type": "histogram2dcontour"
           }
          ],
          "mesh3d": [
           {
            "colorbar": {
             "outlinewidth": 0,
             "ticks": ""
            },
            "type": "mesh3d"
           }
          ],
          "parcoords": [
           {
            "line": {
             "colorbar": {
              "outlinewidth": 0,
              "ticks": ""
             }
            },
            "type": "parcoords"
           }
          ],
          "pie": [
           {
            "automargin": true,
            "type": "pie"
           }
          ],
          "scatter": [
           {
            "fillpattern": {
             "fillmode": "overlay",
             "size": 10,
             "solidity": 0.2
            },
            "type": "scatter"
           }
          ],
          "scatter3d": [
           {
            "line": {
             "colorbar": {
              "outlinewidth": 0,
              "ticks": ""
             }
            },
            "marker": {
             "colorbar": {
              "outlinewidth": 0,
              "ticks": ""
             }
            },
            "type": "scatter3d"
           }
          ],
          "scattercarpet": [
           {
            "marker": {
             "colorbar": {
              "outlinewidth": 0,
              "ticks": ""
             }
            },
            "type": "scattercarpet"
           }
          ],
          "scattergeo": [
           {
            "marker": {
             "colorbar": {
              "outlinewidth": 0,
              "ticks": ""
             }
            },
            "type": "scattergeo"
           }
          ],
          "scattergl": [
           {
            "marker": {
             "colorbar": {
              "outlinewidth": 0,
              "ticks": ""
             }
            },
            "type": "scattergl"
           }
          ],
          "scattermapbox": [
           {
            "marker": {
             "colorbar": {
              "outlinewidth": 0,
              "ticks": ""
             }
            },
            "type": "scattermapbox"
           }
          ],
          "scatterpolar": [
           {
            "marker": {
             "colorbar": {
              "outlinewidth": 0,
              "ticks": ""
             }
            },
            "type": "scatterpolar"
           }
          ],
          "scatterpolargl": [
           {
            "marker": {
             "colorbar": {
              "outlinewidth": 0,
              "ticks": ""
             }
            },
            "type": "scatterpolargl"
           }
          ],
          "scatterternary": [
           {
            "marker": {
             "colorbar": {
              "outlinewidth": 0,
              "ticks": ""
             }
            },
            "type": "scatterternary"
           }
          ],
          "surface": [
           {
            "colorbar": {
             "outlinewidth": 0,
             "ticks": ""
            },
            "colorscale": [
             [
              0,
              "#0d0887"
             ],
             [
              0.1111111111111111,
              "#46039f"
             ],
             [
              0.2222222222222222,
              "#7201a8"
             ],
             [
              0.3333333333333333,
              "#9c179e"
             ],
             [
              0.4444444444444444,
              "#bd3786"
             ],
             [
              0.5555555555555556,
              "#d8576b"
             ],
             [
              0.6666666666666666,
              "#ed7953"
             ],
             [
              0.7777777777777778,
              "#fb9f3a"
             ],
             [
              0.8888888888888888,
              "#fdca26"
             ],
             [
              1,
              "#f0f921"
             ]
            ],
            "type": "surface"
           }
          ],
          "table": [
           {
            "cells": {
             "fill": {
              "color": "#EBF0F8"
             },
             "line": {
              "color": "white"
             }
            },
            "header": {
             "fill": {
              "color": "#C8D4E3"
             },
             "line": {
              "color": "white"
             }
            },
            "type": "table"
           }
          ]
         },
         "layout": {
          "annotationdefaults": {
           "arrowcolor": "#2a3f5f",
           "arrowhead": 0,
           "arrowwidth": 1
          },
          "autotypenumbers": "strict",
          "coloraxis": {
           "colorbar": {
            "outlinewidth": 0,
            "ticks": ""
           }
          },
          "colorscale": {
           "diverging": [
            [
             0,
             "#8e0152"
            ],
            [
             0.1,
             "#c51b7d"
            ],
            [
             0.2,
             "#de77ae"
            ],
            [
             0.3,
             "#f1b6da"
            ],
            [
             0.4,
             "#fde0ef"
            ],
            [
             0.5,
             "#f7f7f7"
            ],
            [
             0.6,
             "#e6f5d0"
            ],
            [
             0.7,
             "#b8e186"
            ],
            [
             0.8,
             "#7fbc41"
            ],
            [
             0.9,
             "#4d9221"
            ],
            [
             1,
             "#276419"
            ]
           ],
           "sequential": [
            [
             0,
             "#0d0887"
            ],
            [
             0.1111111111111111,
             "#46039f"
            ],
            [
             0.2222222222222222,
             "#7201a8"
            ],
            [
             0.3333333333333333,
             "#9c179e"
            ],
            [
             0.4444444444444444,
             "#bd3786"
            ],
            [
             0.5555555555555556,
             "#d8576b"
            ],
            [
             0.6666666666666666,
             "#ed7953"
            ],
            [
             0.7777777777777778,
             "#fb9f3a"
            ],
            [
             0.8888888888888888,
             "#fdca26"
            ],
            [
             1,
             "#f0f921"
            ]
           ],
           "sequentialminus": [
            [
             0,
             "#0d0887"
            ],
            [
             0.1111111111111111,
             "#46039f"
            ],
            [
             0.2222222222222222,
             "#7201a8"
            ],
            [
             0.3333333333333333,
             "#9c179e"
            ],
            [
             0.4444444444444444,
             "#bd3786"
            ],
            [
             0.5555555555555556,
             "#d8576b"
            ],
            [
             0.6666666666666666,
             "#ed7953"
            ],
            [
             0.7777777777777778,
             "#fb9f3a"
            ],
            [
             0.8888888888888888,
             "#fdca26"
            ],
            [
             1,
             "#f0f921"
            ]
           ]
          },
          "colorway": [
           "#636efa",
           "#EF553B",
           "#00cc96",
           "#ab63fa",
           "#FFA15A",
           "#19d3f3",
           "#FF6692",
           "#B6E880",
           "#FF97FF",
           "#FECB52"
          ],
          "font": {
           "color": "#2a3f5f"
          },
          "geo": {
           "bgcolor": "white",
           "lakecolor": "white",
           "landcolor": "#E5ECF6",
           "showlakes": true,
           "showland": true,
           "subunitcolor": "white"
          },
          "hoverlabel": {
           "align": "left"
          },
          "hovermode": "closest",
          "mapbox": {
           "style": "light"
          },
          "paper_bgcolor": "white",
          "plot_bgcolor": "#E5ECF6",
          "polar": {
           "angularaxis": {
            "gridcolor": "white",
            "linecolor": "white",
            "ticks": ""
           },
           "bgcolor": "#E5ECF6",
           "radialaxis": {
            "gridcolor": "white",
            "linecolor": "white",
            "ticks": ""
           }
          },
          "scene": {
           "xaxis": {
            "backgroundcolor": "#E5ECF6",
            "gridcolor": "white",
            "gridwidth": 2,
            "linecolor": "white",
            "showbackground": true,
            "ticks": "",
            "zerolinecolor": "white"
           },
           "yaxis": {
            "backgroundcolor": "#E5ECF6",
            "gridcolor": "white",
            "gridwidth": 2,
            "linecolor": "white",
            "showbackground": true,
            "ticks": "",
            "zerolinecolor": "white"
           },
           "zaxis": {
            "backgroundcolor": "#E5ECF6",
            "gridcolor": "white",
            "gridwidth": 2,
            "linecolor": "white",
            "showbackground": true,
            "ticks": "",
            "zerolinecolor": "white"
           }
          },
          "shapedefaults": {
           "line": {
            "color": "#2a3f5f"
           }
          },
          "ternary": {
           "aaxis": {
            "gridcolor": "white",
            "linecolor": "white",
            "ticks": ""
           },
           "baxis": {
            "gridcolor": "white",
            "linecolor": "white",
            "ticks": ""
           },
           "bgcolor": "#E5ECF6",
           "caxis": {
            "gridcolor": "white",
            "linecolor": "white",
            "ticks": ""
           }
          },
          "title": {
           "x": 0.05
          },
          "xaxis": {
           "automargin": true,
           "gridcolor": "white",
           "linecolor": "white",
           "ticks": "",
           "title": {
            "standoff": 15
           },
           "zerolinecolor": "white",
           "zerolinewidth": 2
          },
          "yaxis": {
           "automargin": true,
           "gridcolor": "white",
           "linecolor": "white",
           "ticks": "",
           "title": {
            "standoff": 15
           },
           "zerolinecolor": "white",
           "zerolinewidth": 2
          }
         }
        },
        "title": {
         "text": "Total number of matches per maps"
        },
        "xaxis": {
         "anchor": "y",
         "domain": [
          0,
          1
         ],
         "title": {
          "text": "mapName"
         }
        },
        "yaxis": {
         "anchor": "x",
         "domain": [
          0,
          1
         ],
         "title": {
          "text": "count"
         }
        }
       }
      }
     },
     "metadata": {},
     "output_type": "display_data"
    }
   ],
   "source": [
    "fig = px.bar(matches_maps, y='count', x='mapName', text_auto='.5s',\n",
    "            title=\"Total number of matches per maps\")\n",
    "fig.update_traces(textfont_size=10, textangle=0, textposition=\"outside\", cliponaxis=False)\n",
    "fig.show()"
   ]
  },
  {
   "cell_type": "code",
   "execution_count": 34,
   "metadata": {},
   "outputs": [],
   "source": [
    "maps_infos = df_matches_abt[['mapName', 'metadataResult',]]"
   ]
  },
  {
   "cell_type": "code",
   "execution_count": 35,
   "metadata": {},
   "outputs": [
    {
     "data": {
      "text/html": [
       "<div>\n",
       "<style scoped>\n",
       "    .dataframe tbody tr th:only-of-type {\n",
       "        vertical-align: middle;\n",
       "    }\n",
       "\n",
       "    .dataframe tbody tr th {\n",
       "        vertical-align: top;\n",
       "    }\n",
       "\n",
       "    .dataframe thead th {\n",
       "        text-align: right;\n",
       "    }\n",
       "</style>\n",
       "<table border=\"1\" class=\"dataframe\">\n",
       "  <thead>\n",
       "    <tr style=\"text-align: right;\">\n",
       "      <th></th>\n",
       "      <th>mapName</th>\n",
       "      <th>metadataResult</th>\n",
       "      <th>count</th>\n",
       "    </tr>\n",
       "  </thead>\n",
       "  <tbody>\n",
       "    <tr>\n",
       "      <th>0</th>\n",
       "      <td>Split</td>\n",
       "      <td>victory</td>\n",
       "      <td>959</td>\n",
       "    </tr>\n",
       "    <tr>\n",
       "      <th>1</th>\n",
       "      <td>Split</td>\n",
       "      <td>tied</td>\n",
       "      <td>26</td>\n",
       "    </tr>\n",
       "    <tr>\n",
       "      <th>2</th>\n",
       "      <td>Split</td>\n",
       "      <td>defeat</td>\n",
       "      <td>829</td>\n",
       "    </tr>\n",
       "    <tr>\n",
       "      <th>3</th>\n",
       "      <td>Pearl</td>\n",
       "      <td>victory</td>\n",
       "      <td>23510</td>\n",
       "    </tr>\n",
       "    <tr>\n",
       "      <th>4</th>\n",
       "      <td>Pearl</td>\n",
       "      <td>tied</td>\n",
       "      <td>472</td>\n",
       "    </tr>\n",
       "    <tr>\n",
       "      <th>5</th>\n",
       "      <td>Pearl</td>\n",
       "      <td>defeat</td>\n",
       "      <td>20526</td>\n",
       "    </tr>\n",
       "    <tr>\n",
       "      <th>6</th>\n",
       "      <td>Icebox</td>\n",
       "      <td>victory</td>\n",
       "      <td>25614</td>\n",
       "    </tr>\n",
       "    <tr>\n",
       "      <th>7</th>\n",
       "      <td>Icebox</td>\n",
       "      <td>tied</td>\n",
       "      <td>496</td>\n",
       "    </tr>\n",
       "    <tr>\n",
       "      <th>8</th>\n",
       "      <td>Icebox</td>\n",
       "      <td>defeat</td>\n",
       "      <td>21893</td>\n",
       "    </tr>\n",
       "    <tr>\n",
       "      <th>9</th>\n",
       "      <td>Haven</td>\n",
       "      <td>tied</td>\n",
       "      <td>478</td>\n",
       "    </tr>\n",
       "    <tr>\n",
       "      <th>10</th>\n",
       "      <td>Haven</td>\n",
       "      <td>victory</td>\n",
       "      <td>25515</td>\n",
       "    </tr>\n",
       "    <tr>\n",
       "      <th>11</th>\n",
       "      <td>Haven</td>\n",
       "      <td>defeat</td>\n",
       "      <td>22376</td>\n",
       "    </tr>\n",
       "    <tr>\n",
       "      <th>12</th>\n",
       "      <td>Fracture</td>\n",
       "      <td>victory</td>\n",
       "      <td>24963</td>\n",
       "    </tr>\n",
       "    <tr>\n",
       "      <th>13</th>\n",
       "      <td>Fracture</td>\n",
       "      <td>tied</td>\n",
       "      <td>588</td>\n",
       "    </tr>\n",
       "    <tr>\n",
       "      <th>14</th>\n",
       "      <td>Fracture</td>\n",
       "      <td>defeat</td>\n",
       "      <td>21627</td>\n",
       "    </tr>\n",
       "    <tr>\n",
       "      <th>15</th>\n",
       "      <td>Breeze</td>\n",
       "      <td>victory</td>\n",
       "      <td>25230</td>\n",
       "    </tr>\n",
       "    <tr>\n",
       "      <th>16</th>\n",
       "      <td>Breeze</td>\n",
       "      <td>tied</td>\n",
       "      <td>552</td>\n",
       "    </tr>\n",
       "    <tr>\n",
       "      <th>17</th>\n",
       "      <td>Breeze</td>\n",
       "      <td>defeat</td>\n",
       "      <td>21984</td>\n",
       "    </tr>\n",
       "    <tr>\n",
       "      <th>18</th>\n",
       "      <td>Bind</td>\n",
       "      <td>victory</td>\n",
       "      <td>25522</td>\n",
       "    </tr>\n",
       "    <tr>\n",
       "      <th>19</th>\n",
       "      <td>Bind</td>\n",
       "      <td>tied</td>\n",
       "      <td>612</td>\n",
       "    </tr>\n",
       "    <tr>\n",
       "      <th>20</th>\n",
       "      <td>Bind</td>\n",
       "      <td>defeat</td>\n",
       "      <td>22041</td>\n",
       "    </tr>\n",
       "    <tr>\n",
       "      <th>21</th>\n",
       "      <td>Ascent</td>\n",
       "      <td>tied</td>\n",
       "      <td>508</td>\n",
       "    </tr>\n",
       "    <tr>\n",
       "      <th>22</th>\n",
       "      <td>Ascent</td>\n",
       "      <td>victory</td>\n",
       "      <td>25392</td>\n",
       "    </tr>\n",
       "    <tr>\n",
       "      <th>23</th>\n",
       "      <td>Ascent</td>\n",
       "      <td>defeat</td>\n",
       "      <td>22122</td>\n",
       "    </tr>\n",
       "  </tbody>\n",
       "</table>\n",
       "</div>"
      ],
      "text/plain": [
       "     mapName metadataResult  count\n",
       "0      Split        victory    959\n",
       "1      Split           tied     26\n",
       "2      Split         defeat    829\n",
       "3      Pearl        victory  23510\n",
       "4      Pearl           tied    472\n",
       "5      Pearl         defeat  20526\n",
       "6     Icebox        victory  25614\n",
       "7     Icebox           tied    496\n",
       "8     Icebox         defeat  21893\n",
       "9      Haven           tied    478\n",
       "10     Haven        victory  25515\n",
       "11     Haven         defeat  22376\n",
       "12  Fracture        victory  24963\n",
       "13  Fracture           tied    588\n",
       "14  Fracture         defeat  21627\n",
       "15    Breeze        victory  25230\n",
       "16    Breeze           tied    552\n",
       "17    Breeze         defeat  21984\n",
       "18      Bind        victory  25522\n",
       "19      Bind           tied    612\n",
       "20      Bind         defeat  22041\n",
       "21    Ascent           tied    508\n",
       "22    Ascent        victory  25392\n",
       "23    Ascent         defeat  22122"
      ]
     },
     "execution_count": 35,
     "metadata": {},
     "output_type": "execute_result"
    }
   ],
   "source": [
    "maps_result = maps_infos[['mapName','metadataResult']].groupby(['mapName','metadataResult',])['metadataResult'] \\\n",
    "                             .count() \\\n",
    "                             .reset_index(name='count') \\\n",
    "                             .sort_values(['mapName'], ascending=False) \\\n",
    "                             .reset_index(drop = True)\n",
    "                             \n",
    "maps_result"
   ]
  },
  {
   "cell_type": "code",
   "execution_count": 36,
   "metadata": {},
   "outputs": [
    {
     "data": {
      "application/vnd.plotly.v1+json": {
       "config": {
        "plotlyServerURL": "https://plot.ly"
       },
       "data": [
        {
         "alignmentgroup": "True",
         "bingroup": "x",
         "histfunc": "sum",
         "hovertemplate": "metadataResult=victory<br>mapName=%{x}<br>sum of count=%{y}<extra></extra>",
         "legendgroup": "victory",
         "marker": {
          "color": "#636efa",
          "pattern": {
           "shape": ""
          }
         },
         "name": "victory",
         "offsetgroup": "victory",
         "orientation": "v",
         "showlegend": true,
         "type": "histogram",
         "x": [
          "Split",
          "Pearl",
          "Icebox",
          "Haven",
          "Fracture",
          "Breeze",
          "Bind",
          "Ascent"
         ],
         "xaxis": "x",
         "y": [
          959,
          23510,
          25614,
          25515,
          24963,
          25230,
          25522,
          25392
         ],
         "yaxis": "y"
        },
        {
         "alignmentgroup": "True",
         "bingroup": "x",
         "histfunc": "sum",
         "hovertemplate": "metadataResult=tied<br>mapName=%{x}<br>sum of count=%{y}<extra></extra>",
         "legendgroup": "tied",
         "marker": {
          "color": "#EF553B",
          "pattern": {
           "shape": ""
          }
         },
         "name": "tied",
         "offsetgroup": "tied",
         "orientation": "v",
         "showlegend": true,
         "type": "histogram",
         "x": [
          "Split",
          "Pearl",
          "Icebox",
          "Haven",
          "Fracture",
          "Breeze",
          "Bind",
          "Ascent"
         ],
         "xaxis": "x",
         "y": [
          26,
          472,
          496,
          478,
          588,
          552,
          612,
          508
         ],
         "yaxis": "y"
        },
        {
         "alignmentgroup": "True",
         "bingroup": "x",
         "histfunc": "sum",
         "hovertemplate": "metadataResult=defeat<br>mapName=%{x}<br>sum of count=%{y}<extra></extra>",
         "legendgroup": "defeat",
         "marker": {
          "color": "#00cc96",
          "pattern": {
           "shape": ""
          }
         },
         "name": "defeat",
         "offsetgroup": "defeat",
         "orientation": "v",
         "showlegend": true,
         "type": "histogram",
         "x": [
          "Split",
          "Pearl",
          "Icebox",
          "Haven",
          "Fracture",
          "Breeze",
          "Bind",
          "Ascent"
         ],
         "xaxis": "x",
         "y": [
          829,
          20526,
          21893,
          22376,
          21627,
          21984,
          22041,
          22122
         ],
         "yaxis": "y"
        }
       ],
       "layout": {
        "barmode": "group",
        "height": 400,
        "legend": {
         "title": {
          "text": "metadataResult"
         },
         "tracegroupgap": 0
        },
        "template": {
         "data": {
          "bar": [
           {
            "error_x": {
             "color": "#2a3f5f"
            },
            "error_y": {
             "color": "#2a3f5f"
            },
            "marker": {
             "line": {
              "color": "#E5ECF6",
              "width": 0.5
             },
             "pattern": {
              "fillmode": "overlay",
              "size": 10,
              "solidity": 0.2
             }
            },
            "type": "bar"
           }
          ],
          "barpolar": [
           {
            "marker": {
             "line": {
              "color": "#E5ECF6",
              "width": 0.5
             },
             "pattern": {
              "fillmode": "overlay",
              "size": 10,
              "solidity": 0.2
             }
            },
            "type": "barpolar"
           }
          ],
          "carpet": [
           {
            "aaxis": {
             "endlinecolor": "#2a3f5f",
             "gridcolor": "white",
             "linecolor": "white",
             "minorgridcolor": "white",
             "startlinecolor": "#2a3f5f"
            },
            "baxis": {
             "endlinecolor": "#2a3f5f",
             "gridcolor": "white",
             "linecolor": "white",
             "minorgridcolor": "white",
             "startlinecolor": "#2a3f5f"
            },
            "type": "carpet"
           }
          ],
          "choropleth": [
           {
            "colorbar": {
             "outlinewidth": 0,
             "ticks": ""
            },
            "type": "choropleth"
           }
          ],
          "contour": [
           {
            "colorbar": {
             "outlinewidth": 0,
             "ticks": ""
            },
            "colorscale": [
             [
              0,
              "#0d0887"
             ],
             [
              0.1111111111111111,
              "#46039f"
             ],
             [
              0.2222222222222222,
              "#7201a8"
             ],
             [
              0.3333333333333333,
              "#9c179e"
             ],
             [
              0.4444444444444444,
              "#bd3786"
             ],
             [
              0.5555555555555556,
              "#d8576b"
             ],
             [
              0.6666666666666666,
              "#ed7953"
             ],
             [
              0.7777777777777778,
              "#fb9f3a"
             ],
             [
              0.8888888888888888,
              "#fdca26"
             ],
             [
              1,
              "#f0f921"
             ]
            ],
            "type": "contour"
           }
          ],
          "contourcarpet": [
           {
            "colorbar": {
             "outlinewidth": 0,
             "ticks": ""
            },
            "type": "contourcarpet"
           }
          ],
          "heatmap": [
           {
            "colorbar": {
             "outlinewidth": 0,
             "ticks": ""
            },
            "colorscale": [
             [
              0,
              "#0d0887"
             ],
             [
              0.1111111111111111,
              "#46039f"
             ],
             [
              0.2222222222222222,
              "#7201a8"
             ],
             [
              0.3333333333333333,
              "#9c179e"
             ],
             [
              0.4444444444444444,
              "#bd3786"
             ],
             [
              0.5555555555555556,
              "#d8576b"
             ],
             [
              0.6666666666666666,
              "#ed7953"
             ],
             [
              0.7777777777777778,
              "#fb9f3a"
             ],
             [
              0.8888888888888888,
              "#fdca26"
             ],
             [
              1,
              "#f0f921"
             ]
            ],
            "type": "heatmap"
           }
          ],
          "heatmapgl": [
           {
            "colorbar": {
             "outlinewidth": 0,
             "ticks": ""
            },
            "colorscale": [
             [
              0,
              "#0d0887"
             ],
             [
              0.1111111111111111,
              "#46039f"
             ],
             [
              0.2222222222222222,
              "#7201a8"
             ],
             [
              0.3333333333333333,
              "#9c179e"
             ],
             [
              0.4444444444444444,
              "#bd3786"
             ],
             [
              0.5555555555555556,
              "#d8576b"
             ],
             [
              0.6666666666666666,
              "#ed7953"
             ],
             [
              0.7777777777777778,
              "#fb9f3a"
             ],
             [
              0.8888888888888888,
              "#fdca26"
             ],
             [
              1,
              "#f0f921"
             ]
            ],
            "type": "heatmapgl"
           }
          ],
          "histogram": [
           {
            "marker": {
             "pattern": {
              "fillmode": "overlay",
              "size": 10,
              "solidity": 0.2
             }
            },
            "type": "histogram"
           }
          ],
          "histogram2d": [
           {
            "colorbar": {
             "outlinewidth": 0,
             "ticks": ""
            },
            "colorscale": [
             [
              0,
              "#0d0887"
             ],
             [
              0.1111111111111111,
              "#46039f"
             ],
             [
              0.2222222222222222,
              "#7201a8"
             ],
             [
              0.3333333333333333,
              "#9c179e"
             ],
             [
              0.4444444444444444,
              "#bd3786"
             ],
             [
              0.5555555555555556,
              "#d8576b"
             ],
             [
              0.6666666666666666,
              "#ed7953"
             ],
             [
              0.7777777777777778,
              "#fb9f3a"
             ],
             [
              0.8888888888888888,
              "#fdca26"
             ],
             [
              1,
              "#f0f921"
             ]
            ],
            "type": "histogram2d"
           }
          ],
          "histogram2dcontour": [
           {
            "colorbar": {
             "outlinewidth": 0,
             "ticks": ""
            },
            "colorscale": [
             [
              0,
              "#0d0887"
             ],
             [
              0.1111111111111111,
              "#46039f"
             ],
             [
              0.2222222222222222,
              "#7201a8"
             ],
             [
              0.3333333333333333,
              "#9c179e"
             ],
             [
              0.4444444444444444,
              "#bd3786"
             ],
             [
              0.5555555555555556,
              "#d8576b"
             ],
             [
              0.6666666666666666,
              "#ed7953"
             ],
             [
              0.7777777777777778,
              "#fb9f3a"
             ],
             [
              0.8888888888888888,
              "#fdca26"
             ],
             [
              1,
              "#f0f921"
             ]
            ],
            "type": "histogram2dcontour"
           }
          ],
          "mesh3d": [
           {
            "colorbar": {
             "outlinewidth": 0,
             "ticks": ""
            },
            "type": "mesh3d"
           }
          ],
          "parcoords": [
           {
            "line": {
             "colorbar": {
              "outlinewidth": 0,
              "ticks": ""
             }
            },
            "type": "parcoords"
           }
          ],
          "pie": [
           {
            "automargin": true,
            "type": "pie"
           }
          ],
          "scatter": [
           {
            "fillpattern": {
             "fillmode": "overlay",
             "size": 10,
             "solidity": 0.2
            },
            "type": "scatter"
           }
          ],
          "scatter3d": [
           {
            "line": {
             "colorbar": {
              "outlinewidth": 0,
              "ticks": ""
             }
            },
            "marker": {
             "colorbar": {
              "outlinewidth": 0,
              "ticks": ""
             }
            },
            "type": "scatter3d"
           }
          ],
          "scattercarpet": [
           {
            "marker": {
             "colorbar": {
              "outlinewidth": 0,
              "ticks": ""
             }
            },
            "type": "scattercarpet"
           }
          ],
          "scattergeo": [
           {
            "marker": {
             "colorbar": {
              "outlinewidth": 0,
              "ticks": ""
             }
            },
            "type": "scattergeo"
           }
          ],
          "scattergl": [
           {
            "marker": {
             "colorbar": {
              "outlinewidth": 0,
              "ticks": ""
             }
            },
            "type": "scattergl"
           }
          ],
          "scattermapbox": [
           {
            "marker": {
             "colorbar": {
              "outlinewidth": 0,
              "ticks": ""
             }
            },
            "type": "scattermapbox"
           }
          ],
          "scatterpolar": [
           {
            "marker": {
             "colorbar": {
              "outlinewidth": 0,
              "ticks": ""
             }
            },
            "type": "scatterpolar"
           }
          ],
          "scatterpolargl": [
           {
            "marker": {
             "colorbar": {
              "outlinewidth": 0,
              "ticks": ""
             }
            },
            "type": "scatterpolargl"
           }
          ],
          "scatterternary": [
           {
            "marker": {
             "colorbar": {
              "outlinewidth": 0,
              "ticks": ""
             }
            },
            "type": "scatterternary"
           }
          ],
          "surface": [
           {
            "colorbar": {
             "outlinewidth": 0,
             "ticks": ""
            },
            "colorscale": [
             [
              0,
              "#0d0887"
             ],
             [
              0.1111111111111111,
              "#46039f"
             ],
             [
              0.2222222222222222,
              "#7201a8"
             ],
             [
              0.3333333333333333,
              "#9c179e"
             ],
             [
              0.4444444444444444,
              "#bd3786"
             ],
             [
              0.5555555555555556,
              "#d8576b"
             ],
             [
              0.6666666666666666,
              "#ed7953"
             ],
             [
              0.7777777777777778,
              "#fb9f3a"
             ],
             [
              0.8888888888888888,
              "#fdca26"
             ],
             [
              1,
              "#f0f921"
             ]
            ],
            "type": "surface"
           }
          ],
          "table": [
           {
            "cells": {
             "fill": {
              "color": "#EBF0F8"
             },
             "line": {
              "color": "white"
             }
            },
            "header": {
             "fill": {
              "color": "#C8D4E3"
             },
             "line": {
              "color": "white"
             }
            },
            "type": "table"
           }
          ]
         },
         "layout": {
          "annotationdefaults": {
           "arrowcolor": "#2a3f5f",
           "arrowhead": 0,
           "arrowwidth": 1
          },
          "autotypenumbers": "strict",
          "coloraxis": {
           "colorbar": {
            "outlinewidth": 0,
            "ticks": ""
           }
          },
          "colorscale": {
           "diverging": [
            [
             0,
             "#8e0152"
            ],
            [
             0.1,
             "#c51b7d"
            ],
            [
             0.2,
             "#de77ae"
            ],
            [
             0.3,
             "#f1b6da"
            ],
            [
             0.4,
             "#fde0ef"
            ],
            [
             0.5,
             "#f7f7f7"
            ],
            [
             0.6,
             "#e6f5d0"
            ],
            [
             0.7,
             "#b8e186"
            ],
            [
             0.8,
             "#7fbc41"
            ],
            [
             0.9,
             "#4d9221"
            ],
            [
             1,
             "#276419"
            ]
           ],
           "sequential": [
            [
             0,
             "#0d0887"
            ],
            [
             0.1111111111111111,
             "#46039f"
            ],
            [
             0.2222222222222222,
             "#7201a8"
            ],
            [
             0.3333333333333333,
             "#9c179e"
            ],
            [
             0.4444444444444444,
             "#bd3786"
            ],
            [
             0.5555555555555556,
             "#d8576b"
            ],
            [
             0.6666666666666666,
             "#ed7953"
            ],
            [
             0.7777777777777778,
             "#fb9f3a"
            ],
            [
             0.8888888888888888,
             "#fdca26"
            ],
            [
             1,
             "#f0f921"
            ]
           ],
           "sequentialminus": [
            [
             0,
             "#0d0887"
            ],
            [
             0.1111111111111111,
             "#46039f"
            ],
            [
             0.2222222222222222,
             "#7201a8"
            ],
            [
             0.3333333333333333,
             "#9c179e"
            ],
            [
             0.4444444444444444,
             "#bd3786"
            ],
            [
             0.5555555555555556,
             "#d8576b"
            ],
            [
             0.6666666666666666,
             "#ed7953"
            ],
            [
             0.7777777777777778,
             "#fb9f3a"
            ],
            [
             0.8888888888888888,
             "#fdca26"
            ],
            [
             1,
             "#f0f921"
            ]
           ]
          },
          "colorway": [
           "#636efa",
           "#EF553B",
           "#00cc96",
           "#ab63fa",
           "#FFA15A",
           "#19d3f3",
           "#FF6692",
           "#B6E880",
           "#FF97FF",
           "#FECB52"
          ],
          "font": {
           "color": "#2a3f5f"
          },
          "geo": {
           "bgcolor": "white",
           "lakecolor": "white",
           "landcolor": "#E5ECF6",
           "showlakes": true,
           "showland": true,
           "subunitcolor": "white"
          },
          "hoverlabel": {
           "align": "left"
          },
          "hovermode": "closest",
          "mapbox": {
           "style": "light"
          },
          "paper_bgcolor": "white",
          "plot_bgcolor": "#E5ECF6",
          "polar": {
           "angularaxis": {
            "gridcolor": "white",
            "linecolor": "white",
            "ticks": ""
           },
           "bgcolor": "#E5ECF6",
           "radialaxis": {
            "gridcolor": "white",
            "linecolor": "white",
            "ticks": ""
           }
          },
          "scene": {
           "xaxis": {
            "backgroundcolor": "#E5ECF6",
            "gridcolor": "white",
            "gridwidth": 2,
            "linecolor": "white",
            "showbackground": true,
            "ticks": "",
            "zerolinecolor": "white"
           },
           "yaxis": {
            "backgroundcolor": "#E5ECF6",
            "gridcolor": "white",
            "gridwidth": 2,
            "linecolor": "white",
            "showbackground": true,
            "ticks": "",
            "zerolinecolor": "white"
           },
           "zaxis": {
            "backgroundcolor": "#E5ECF6",
            "gridcolor": "white",
            "gridwidth": 2,
            "linecolor": "white",
            "showbackground": true,
            "ticks": "",
            "zerolinecolor": "white"
           }
          },
          "shapedefaults": {
           "line": {
            "color": "#2a3f5f"
           }
          },
          "ternary": {
           "aaxis": {
            "gridcolor": "white",
            "linecolor": "white",
            "ticks": ""
           },
           "baxis": {
            "gridcolor": "white",
            "linecolor": "white",
            "ticks": ""
           },
           "bgcolor": "#E5ECF6",
           "caxis": {
            "gridcolor": "white",
            "linecolor": "white",
            "ticks": ""
           }
          },
          "title": {
           "x": 0.05
          },
          "xaxis": {
           "automargin": true,
           "gridcolor": "white",
           "linecolor": "white",
           "ticks": "",
           "title": {
            "standoff": 15
           },
           "zerolinecolor": "white",
           "zerolinewidth": 2
          },
          "yaxis": {
           "automargin": true,
           "gridcolor": "white",
           "linecolor": "white",
           "ticks": "",
           "title": {
            "standoff": 15
           },
           "zerolinecolor": "white",
           "zerolinewidth": 2
          }
         }
        },
        "title": {
         "text": "Total Results by Maps"
        },
        "xaxis": {
         "anchor": "y",
         "domain": [
          0,
          1
         ],
         "title": {
          "text": "mapName"
         }
        },
        "yaxis": {
         "anchor": "x",
         "domain": [
          0,
          1
         ],
         "title": {
          "text": "sum of count"
         }
        }
       }
      }
     },
     "metadata": {},
     "output_type": "display_data"
    }
   ],
   "source": [
    "fig = px.histogram(maps_result, x=\"mapName\", y=\"count\",\n",
    "             color='metadataResult', barmode='group',\n",
    "             height=400,\n",
    "             title=\"Total Results by Maps\")\n",
    "fig.show()"
   ]
  },
  {
   "cell_type": "code",
   "execution_count": 37,
   "metadata": {},
   "outputs": [
    {
     "data": {
      "text/html": [
       "<div>\n",
       "<style scoped>\n",
       "    .dataframe tbody tr th:only-of-type {\n",
       "        vertical-align: middle;\n",
       "    }\n",
       "\n",
       "    .dataframe tbody tr th {\n",
       "        vertical-align: top;\n",
       "    }\n",
       "\n",
       "    .dataframe thead th {\n",
       "        text-align: right;\n",
       "    }\n",
       "</style>\n",
       "<table border=\"1\" class=\"dataframe\">\n",
       "  <thead>\n",
       "    <tr style=\"text-align: right;\">\n",
       "      <th></th>\n",
       "      <th>mapName</th>\n",
       "      <th>sum</th>\n",
       "    </tr>\n",
       "  </thead>\n",
       "  <tbody>\n",
       "    <tr>\n",
       "      <th>0</th>\n",
       "      <td>Icebox</td>\n",
       "      <td>818497</td>\n",
       "    </tr>\n",
       "    <tr>\n",
       "      <th>1</th>\n",
       "      <td>Haven</td>\n",
       "      <td>807034</td>\n",
       "    </tr>\n",
       "    <tr>\n",
       "      <th>2</th>\n",
       "      <td>Bind</td>\n",
       "      <td>805162</td>\n",
       "    </tr>\n",
       "    <tr>\n",
       "      <th>3</th>\n",
       "      <td>Ascent</td>\n",
       "      <td>800336</td>\n",
       "    </tr>\n",
       "    <tr>\n",
       "      <th>4</th>\n",
       "      <td>Breeze</td>\n",
       "      <td>799460</td>\n",
       "    </tr>\n",
       "    <tr>\n",
       "      <th>5</th>\n",
       "      <td>Fracture</td>\n",
       "      <td>791967</td>\n",
       "    </tr>\n",
       "    <tr>\n",
       "      <th>6</th>\n",
       "      <td>Pearl</td>\n",
       "      <td>742685</td>\n",
       "    </tr>\n",
       "    <tr>\n",
       "      <th>7</th>\n",
       "      <td>Split</td>\n",
       "      <td>31502</td>\n",
       "    </tr>\n",
       "  </tbody>\n",
       "</table>\n",
       "</div>"
      ],
      "text/plain": [
       "    mapName     sum\n",
       "0    Icebox  818497\n",
       "1     Haven  807034\n",
       "2      Bind  805162\n",
       "3    Ascent  800336\n",
       "4    Breeze  799460\n",
       "5  Fracture  791967\n",
       "6     Pearl  742685\n",
       "7     Split   31502"
      ]
     },
     "execution_count": 37,
     "metadata": {},
     "output_type": "execute_result"
    }
   ],
   "source": [
    "maps_kills = df_matches_abt[['mapName','killsValue']].groupby(['mapName',])['killsValue'] \\\n",
    "                             .sum() \\\n",
    "                             .reset_index(name='sum') \\\n",
    "                             .sort_values(['sum'], ascending=False) \\\n",
    "                             .reset_index(drop = True)\n",
    "                             \n",
    "maps_kills"
   ]
  },
  {
   "cell_type": "code",
   "execution_count": 38,
   "metadata": {},
   "outputs": [
    {
     "data": {
      "application/vnd.plotly.v1+json": {
       "config": {
        "plotlyServerURL": "https://plot.ly"
       },
       "data": [
        {
         "alignmentgroup": "True",
         "hovertemplate": "mapName=%{x}<br>sum=%{marker.color}<extra></extra>",
         "legendgroup": "",
         "marker": {
          "color": [
           818497,
           807034,
           805162,
           800336,
           799460,
           791967,
           742685,
           31502
          ],
          "coloraxis": "coloraxis",
          "pattern": {
           "shape": ""
          }
         },
         "name": "",
         "offsetgroup": "",
         "orientation": "v",
         "showlegend": false,
         "textposition": "auto",
         "type": "bar",
         "x": [
          "Icebox",
          "Haven",
          "Bind",
          "Ascent",
          "Breeze",
          "Fracture",
          "Pearl",
          "Split"
         ],
         "xaxis": "x",
         "y": [
          818497,
          807034,
          805162,
          800336,
          799460,
          791967,
          742685,
          31502
         ],
         "yaxis": "y"
        }
       ],
       "layout": {
        "barmode": "relative",
        "coloraxis": {
         "colorbar": {
          "title": {
           "text": "sum"
          }
         },
         "colorscale": [
          [
           0,
           "#0d0887"
          ],
          [
           0.1111111111111111,
           "#46039f"
          ],
          [
           0.2222222222222222,
           "#7201a8"
          ],
          [
           0.3333333333333333,
           "#9c179e"
          ],
          [
           0.4444444444444444,
           "#bd3786"
          ],
          [
           0.5555555555555556,
           "#d8576b"
          ],
          [
           0.6666666666666666,
           "#ed7953"
          ],
          [
           0.7777777777777778,
           "#fb9f3a"
          ],
          [
           0.8888888888888888,
           "#fdca26"
          ],
          [
           1,
           "#f0f921"
          ]
         ]
        },
        "height": 400,
        "legend": {
         "tracegroupgap": 0
        },
        "margin": {
         "t": 60
        },
        "template": {
         "data": {
          "bar": [
           {
            "error_x": {
             "color": "#2a3f5f"
            },
            "error_y": {
             "color": "#2a3f5f"
            },
            "marker": {
             "line": {
              "color": "#E5ECF6",
              "width": 0.5
             },
             "pattern": {
              "fillmode": "overlay",
              "size": 10,
              "solidity": 0.2
             }
            },
            "type": "bar"
           }
          ],
          "barpolar": [
           {
            "marker": {
             "line": {
              "color": "#E5ECF6",
              "width": 0.5
             },
             "pattern": {
              "fillmode": "overlay",
              "size": 10,
              "solidity": 0.2
             }
            },
            "type": "barpolar"
           }
          ],
          "carpet": [
           {
            "aaxis": {
             "endlinecolor": "#2a3f5f",
             "gridcolor": "white",
             "linecolor": "white",
             "minorgridcolor": "white",
             "startlinecolor": "#2a3f5f"
            },
            "baxis": {
             "endlinecolor": "#2a3f5f",
             "gridcolor": "white",
             "linecolor": "white",
             "minorgridcolor": "white",
             "startlinecolor": "#2a3f5f"
            },
            "type": "carpet"
           }
          ],
          "choropleth": [
           {
            "colorbar": {
             "outlinewidth": 0,
             "ticks": ""
            },
            "type": "choropleth"
           }
          ],
          "contour": [
           {
            "colorbar": {
             "outlinewidth": 0,
             "ticks": ""
            },
            "colorscale": [
             [
              0,
              "#0d0887"
             ],
             [
              0.1111111111111111,
              "#46039f"
             ],
             [
              0.2222222222222222,
              "#7201a8"
             ],
             [
              0.3333333333333333,
              "#9c179e"
             ],
             [
              0.4444444444444444,
              "#bd3786"
             ],
             [
              0.5555555555555556,
              "#d8576b"
             ],
             [
              0.6666666666666666,
              "#ed7953"
             ],
             [
              0.7777777777777778,
              "#fb9f3a"
             ],
             [
              0.8888888888888888,
              "#fdca26"
             ],
             [
              1,
              "#f0f921"
             ]
            ],
            "type": "contour"
           }
          ],
          "contourcarpet": [
           {
            "colorbar": {
             "outlinewidth": 0,
             "ticks": ""
            },
            "type": "contourcarpet"
           }
          ],
          "heatmap": [
           {
            "colorbar": {
             "outlinewidth": 0,
             "ticks": ""
            },
            "colorscale": [
             [
              0,
              "#0d0887"
             ],
             [
              0.1111111111111111,
              "#46039f"
             ],
             [
              0.2222222222222222,
              "#7201a8"
             ],
             [
              0.3333333333333333,
              "#9c179e"
             ],
             [
              0.4444444444444444,
              "#bd3786"
             ],
             [
              0.5555555555555556,
              "#d8576b"
             ],
             [
              0.6666666666666666,
              "#ed7953"
             ],
             [
              0.7777777777777778,
              "#fb9f3a"
             ],
             [
              0.8888888888888888,
              "#fdca26"
             ],
             [
              1,
              "#f0f921"
             ]
            ],
            "type": "heatmap"
           }
          ],
          "heatmapgl": [
           {
            "colorbar": {
             "outlinewidth": 0,
             "ticks": ""
            },
            "colorscale": [
             [
              0,
              "#0d0887"
             ],
             [
              0.1111111111111111,
              "#46039f"
             ],
             [
              0.2222222222222222,
              "#7201a8"
             ],
             [
              0.3333333333333333,
              "#9c179e"
             ],
             [
              0.4444444444444444,
              "#bd3786"
             ],
             [
              0.5555555555555556,
              "#d8576b"
             ],
             [
              0.6666666666666666,
              "#ed7953"
             ],
             [
              0.7777777777777778,
              "#fb9f3a"
             ],
             [
              0.8888888888888888,
              "#fdca26"
             ],
             [
              1,
              "#f0f921"
             ]
            ],
            "type": "heatmapgl"
           }
          ],
          "histogram": [
           {
            "marker": {
             "pattern": {
              "fillmode": "overlay",
              "size": 10,
              "solidity": 0.2
             }
            },
            "type": "histogram"
           }
          ],
          "histogram2d": [
           {
            "colorbar": {
             "outlinewidth": 0,
             "ticks": ""
            },
            "colorscale": [
             [
              0,
              "#0d0887"
             ],
             [
              0.1111111111111111,
              "#46039f"
             ],
             [
              0.2222222222222222,
              "#7201a8"
             ],
             [
              0.3333333333333333,
              "#9c179e"
             ],
             [
              0.4444444444444444,
              "#bd3786"
             ],
             [
              0.5555555555555556,
              "#d8576b"
             ],
             [
              0.6666666666666666,
              "#ed7953"
             ],
             [
              0.7777777777777778,
              "#fb9f3a"
             ],
             [
              0.8888888888888888,
              "#fdca26"
             ],
             [
              1,
              "#f0f921"
             ]
            ],
            "type": "histogram2d"
           }
          ],
          "histogram2dcontour": [
           {
            "colorbar": {
             "outlinewidth": 0,
             "ticks": ""
            },
            "colorscale": [
             [
              0,
              "#0d0887"
             ],
             [
              0.1111111111111111,
              "#46039f"
             ],
             [
              0.2222222222222222,
              "#7201a8"
             ],
             [
              0.3333333333333333,
              "#9c179e"
             ],
             [
              0.4444444444444444,
              "#bd3786"
             ],
             [
              0.5555555555555556,
              "#d8576b"
             ],
             [
              0.6666666666666666,
              "#ed7953"
             ],
             [
              0.7777777777777778,
              "#fb9f3a"
             ],
             [
              0.8888888888888888,
              "#fdca26"
             ],
             [
              1,
              "#f0f921"
             ]
            ],
            "type": "histogram2dcontour"
           }
          ],
          "mesh3d": [
           {
            "colorbar": {
             "outlinewidth": 0,
             "ticks": ""
            },
            "type": "mesh3d"
           }
          ],
          "parcoords": [
           {
            "line": {
             "colorbar": {
              "outlinewidth": 0,
              "ticks": ""
             }
            },
            "type": "parcoords"
           }
          ],
          "pie": [
           {
            "automargin": true,
            "type": "pie"
           }
          ],
          "scatter": [
           {
            "fillpattern": {
             "fillmode": "overlay",
             "size": 10,
             "solidity": 0.2
            },
            "type": "scatter"
           }
          ],
          "scatter3d": [
           {
            "line": {
             "colorbar": {
              "outlinewidth": 0,
              "ticks": ""
             }
            },
            "marker": {
             "colorbar": {
              "outlinewidth": 0,
              "ticks": ""
             }
            },
            "type": "scatter3d"
           }
          ],
          "scattercarpet": [
           {
            "marker": {
             "colorbar": {
              "outlinewidth": 0,
              "ticks": ""
             }
            },
            "type": "scattercarpet"
           }
          ],
          "scattergeo": [
           {
            "marker": {
             "colorbar": {
              "outlinewidth": 0,
              "ticks": ""
             }
            },
            "type": "scattergeo"
           }
          ],
          "scattergl": [
           {
            "marker": {
             "colorbar": {
              "outlinewidth": 0,
              "ticks": ""
             }
            },
            "type": "scattergl"
           }
          ],
          "scattermapbox": [
           {
            "marker": {
             "colorbar": {
              "outlinewidth": 0,
              "ticks": ""
             }
            },
            "type": "scattermapbox"
           }
          ],
          "scatterpolar": [
           {
            "marker": {
             "colorbar": {
              "outlinewidth": 0,
              "ticks": ""
             }
            },
            "type": "scatterpolar"
           }
          ],
          "scatterpolargl": [
           {
            "marker": {
             "colorbar": {
              "outlinewidth": 0,
              "ticks": ""
             }
            },
            "type": "scatterpolargl"
           }
          ],
          "scatterternary": [
           {
            "marker": {
             "colorbar": {
              "outlinewidth": 0,
              "ticks": ""
             }
            },
            "type": "scatterternary"
           }
          ],
          "surface": [
           {
            "colorbar": {
             "outlinewidth": 0,
             "ticks": ""
            },
            "colorscale": [
             [
              0,
              "#0d0887"
             ],
             [
              0.1111111111111111,
              "#46039f"
             ],
             [
              0.2222222222222222,
              "#7201a8"
             ],
             [
              0.3333333333333333,
              "#9c179e"
             ],
             [
              0.4444444444444444,
              "#bd3786"
             ],
             [
              0.5555555555555556,
              "#d8576b"
             ],
             [
              0.6666666666666666,
              "#ed7953"
             ],
             [
              0.7777777777777778,
              "#fb9f3a"
             ],
             [
              0.8888888888888888,
              "#fdca26"
             ],
             [
              1,
              "#f0f921"
             ]
            ],
            "type": "surface"
           }
          ],
          "table": [
           {
            "cells": {
             "fill": {
              "color": "#EBF0F8"
             },
             "line": {
              "color": "white"
             }
            },
            "header": {
             "fill": {
              "color": "#C8D4E3"
             },
             "line": {
              "color": "white"
             }
            },
            "type": "table"
           }
          ]
         },
         "layout": {
          "annotationdefaults": {
           "arrowcolor": "#2a3f5f",
           "arrowhead": 0,
           "arrowwidth": 1
          },
          "autotypenumbers": "strict",
          "coloraxis": {
           "colorbar": {
            "outlinewidth": 0,
            "ticks": ""
           }
          },
          "colorscale": {
           "diverging": [
            [
             0,
             "#8e0152"
            ],
            [
             0.1,
             "#c51b7d"
            ],
            [
             0.2,
             "#de77ae"
            ],
            [
             0.3,
             "#f1b6da"
            ],
            [
             0.4,
             "#fde0ef"
            ],
            [
             0.5,
             "#f7f7f7"
            ],
            [
             0.6,
             "#e6f5d0"
            ],
            [
             0.7,
             "#b8e186"
            ],
            [
             0.8,
             "#7fbc41"
            ],
            [
             0.9,
             "#4d9221"
            ],
            [
             1,
             "#276419"
            ]
           ],
           "sequential": [
            [
             0,
             "#0d0887"
            ],
            [
             0.1111111111111111,
             "#46039f"
            ],
            [
             0.2222222222222222,
             "#7201a8"
            ],
            [
             0.3333333333333333,
             "#9c179e"
            ],
            [
             0.4444444444444444,
             "#bd3786"
            ],
            [
             0.5555555555555556,
             "#d8576b"
            ],
            [
             0.6666666666666666,
             "#ed7953"
            ],
            [
             0.7777777777777778,
             "#fb9f3a"
            ],
            [
             0.8888888888888888,
             "#fdca26"
            ],
            [
             1,
             "#f0f921"
            ]
           ],
           "sequentialminus": [
            [
             0,
             "#0d0887"
            ],
            [
             0.1111111111111111,
             "#46039f"
            ],
            [
             0.2222222222222222,
             "#7201a8"
            ],
            [
             0.3333333333333333,
             "#9c179e"
            ],
            [
             0.4444444444444444,
             "#bd3786"
            ],
            [
             0.5555555555555556,
             "#d8576b"
            ],
            [
             0.6666666666666666,
             "#ed7953"
            ],
            [
             0.7777777777777778,
             "#fb9f3a"
            ],
            [
             0.8888888888888888,
             "#fdca26"
            ],
            [
             1,
             "#f0f921"
            ]
           ]
          },
          "colorway": [
           "#636efa",
           "#EF553B",
           "#00cc96",
           "#ab63fa",
           "#FFA15A",
           "#19d3f3",
           "#FF6692",
           "#B6E880",
           "#FF97FF",
           "#FECB52"
          ],
          "font": {
           "color": "#2a3f5f"
          },
          "geo": {
           "bgcolor": "white",
           "lakecolor": "white",
           "landcolor": "#E5ECF6",
           "showlakes": true,
           "showland": true,
           "subunitcolor": "white"
          },
          "hoverlabel": {
           "align": "left"
          },
          "hovermode": "closest",
          "mapbox": {
           "style": "light"
          },
          "paper_bgcolor": "white",
          "plot_bgcolor": "#E5ECF6",
          "polar": {
           "angularaxis": {
            "gridcolor": "white",
            "linecolor": "white",
            "ticks": ""
           },
           "bgcolor": "#E5ECF6",
           "radialaxis": {
            "gridcolor": "white",
            "linecolor": "white",
            "ticks": ""
           }
          },
          "scene": {
           "xaxis": {
            "backgroundcolor": "#E5ECF6",
            "gridcolor": "white",
            "gridwidth": 2,
            "linecolor": "white",
            "showbackground": true,
            "ticks": "",
            "zerolinecolor": "white"
           },
           "yaxis": {
            "backgroundcolor": "#E5ECF6",
            "gridcolor": "white",
            "gridwidth": 2,
            "linecolor": "white",
            "showbackground": true,
            "ticks": "",
            "zerolinecolor": "white"
           },
           "zaxis": {
            "backgroundcolor": "#E5ECF6",
            "gridcolor": "white",
            "gridwidth": 2,
            "linecolor": "white",
            "showbackground": true,
            "ticks": "",
            "zerolinecolor": "white"
           }
          },
          "shapedefaults": {
           "line": {
            "color": "#2a3f5f"
           }
          },
          "ternary": {
           "aaxis": {
            "gridcolor": "white",
            "linecolor": "white",
            "ticks": ""
           },
           "baxis": {
            "gridcolor": "white",
            "linecolor": "white",
            "ticks": ""
           },
           "bgcolor": "#E5ECF6",
           "caxis": {
            "gridcolor": "white",
            "linecolor": "white",
            "ticks": ""
           }
          },
          "title": {
           "x": 0.05
          },
          "xaxis": {
           "automargin": true,
           "gridcolor": "white",
           "linecolor": "white",
           "ticks": "",
           "title": {
            "standoff": 15
           },
           "zerolinecolor": "white",
           "zerolinewidth": 2
          },
          "yaxis": {
           "automargin": true,
           "gridcolor": "white",
           "linecolor": "white",
           "ticks": "",
           "title": {
            "standoff": 15
           },
           "zerolinecolor": "white",
           "zerolinewidth": 2
          }
         }
        },
        "xaxis": {
         "anchor": "y",
         "domain": [
          0,
          1
         ],
         "title": {
          "text": "mapName"
         }
        },
        "yaxis": {
         "anchor": "x",
         "domain": [
          0,
          1
         ],
         "title": {
          "text": "sum"
         }
        }
       }
      }
     },
     "metadata": {},
     "output_type": "display_data"
    }
   ],
   "source": [
    "fig = px.bar(maps_kills, x='mapName', y='sum',\n",
    "             hover_data=['sum', 'sum'], color='sum',\n",
    "             labels={'pop':'population of Canada'}, height=400)\n",
    "fig.show()"
   ]
  },
  {
   "cell_type": "markdown",
   "metadata": {},
   "source": [
    "Players"
   ]
  },
  {
   "cell_type": "code",
   "execution_count": 72,
   "metadata": {},
   "outputs": [
    {
     "data": {
      "text/html": [
       "<div>\n",
       "<style scoped>\n",
       "    .dataframe tbody tr th:only-of-type {\n",
       "        vertical-align: middle;\n",
       "    }\n",
       "\n",
       "    .dataframe tbody tr th {\n",
       "        vertical-align: top;\n",
       "    }\n",
       "\n",
       "    .dataframe thead th {\n",
       "        text-align: right;\n",
       "    }\n",
       "</style>\n",
       "<table border=\"1\" class=\"dataframe\">\n",
       "  <thead>\n",
       "    <tr style=\"text-align: right;\">\n",
       "      <th></th>\n",
       "      <th>nickNameFull</th>\n",
       "      <th>mapName</th>\n",
       "      <th>metadataResult</th>\n",
       "      <th>agentName</th>\n",
       "      <th>playtimeValue</th>\n",
       "      <th>roundsPlayedValue</th>\n",
       "      <th>roundsDisconnectedValue</th>\n",
       "      <th>placementValue</th>\n",
       "      <th>scoreValue</th>\n",
       "      <th>killsValue</th>\n",
       "      <th>...</th>\n",
       "      <th>scorePerRoundValue</th>\n",
       "      <th>scorePerRoundDisplayValue</th>\n",
       "      <th>damagePerRoundValue</th>\n",
       "      <th>damagePerRoundDisplayValue</th>\n",
       "      <th>headshotsPercentageValue</th>\n",
       "      <th>headshotsPercentageDisplayValue</th>\n",
       "      <th>leaderboardRank</th>\n",
       "      <th>competitiveTier</th>\n",
       "      <th>rankedRating</th>\n",
       "      <th>server</th>\n",
       "    </tr>\n",
       "  </thead>\n",
       "  <tbody>\n",
       "    <tr>\n",
       "      <th>0</th>\n",
       "      <td>NIP cauanzin%232233</td>\n",
       "      <td>Haven</td>\n",
       "      <td>defeat</td>\n",
       "      <td>Fade</td>\n",
       "      <td>2225</td>\n",
       "      <td>21</td>\n",
       "      <td>0.0</td>\n",
       "      <td>4</td>\n",
       "      <td>5578</td>\n",
       "      <td>19</td>\n",
       "      <td>...</td>\n",
       "      <td>265.619048</td>\n",
       "      <td>265.6</td>\n",
       "      <td>182.428571</td>\n",
       "      <td>182.4</td>\n",
       "      <td>28.125000</td>\n",
       "      <td>28</td>\n",
       "      <td>2</td>\n",
       "      <td>27</td>\n",
       "      <td>902</td>\n",
       "      <td>br</td>\n",
       "    </tr>\n",
       "    <tr>\n",
       "      <th>1</th>\n",
       "      <td>NIP cauanzin%232233</td>\n",
       "      <td>Haven</td>\n",
       "      <td>victory</td>\n",
       "      <td>Fade</td>\n",
       "      <td>1880</td>\n",
       "      <td>19</td>\n",
       "      <td>0.0</td>\n",
       "      <td>4</td>\n",
       "      <td>3654</td>\n",
       "      <td>11</td>\n",
       "      <td>...</td>\n",
       "      <td>192.315789</td>\n",
       "      <td>192.3</td>\n",
       "      <td>121.263158</td>\n",
       "      <td>121.3</td>\n",
       "      <td>25.000000</td>\n",
       "      <td>25</td>\n",
       "      <td>2</td>\n",
       "      <td>27</td>\n",
       "      <td>902</td>\n",
       "      <td>br</td>\n",
       "    </tr>\n",
       "    <tr>\n",
       "      <th>2</th>\n",
       "      <td>NIP cauanzin%232233</td>\n",
       "      <td>Bind</td>\n",
       "      <td>defeat</td>\n",
       "      <td>Skye</td>\n",
       "      <td>1982</td>\n",
       "      <td>19</td>\n",
       "      <td>0.0</td>\n",
       "      <td>2</td>\n",
       "      <td>5092</td>\n",
       "      <td>18</td>\n",
       "      <td>...</td>\n",
       "      <td>268.000000</td>\n",
       "      <td>268.0</td>\n",
       "      <td>167.947368</td>\n",
       "      <td>167.9</td>\n",
       "      <td>26.530612</td>\n",
       "      <td>27</td>\n",
       "      <td>2</td>\n",
       "      <td>27</td>\n",
       "      <td>902</td>\n",
       "      <td>br</td>\n",
       "    </tr>\n",
       "    <tr>\n",
       "      <th>3</th>\n",
       "      <td>NIP cauanzin%232233</td>\n",
       "      <td>Pearl</td>\n",
       "      <td>defeat</td>\n",
       "      <td>Fade</td>\n",
       "      <td>2525</td>\n",
       "      <td>24</td>\n",
       "      <td>0.0</td>\n",
       "      <td>4</td>\n",
       "      <td>5458</td>\n",
       "      <td>19</td>\n",
       "      <td>...</td>\n",
       "      <td>227.416667</td>\n",
       "      <td>227.4</td>\n",
       "      <td>159.208333</td>\n",
       "      <td>159.2</td>\n",
       "      <td>16.000000</td>\n",
       "      <td>16</td>\n",
       "      <td>2</td>\n",
       "      <td>27</td>\n",
       "      <td>902</td>\n",
       "      <td>br</td>\n",
       "    </tr>\n",
       "    <tr>\n",
       "      <th>4</th>\n",
       "      <td>NIP cauanzin%232233</td>\n",
       "      <td>Breeze</td>\n",
       "      <td>defeat</td>\n",
       "      <td>Sova</td>\n",
       "      <td>3073</td>\n",
       "      <td>30</td>\n",
       "      <td>0.0</td>\n",
       "      <td>5</td>\n",
       "      <td>6481</td>\n",
       "      <td>21</td>\n",
       "      <td>...</td>\n",
       "      <td>216.033333</td>\n",
       "      <td>216.0</td>\n",
       "      <td>136.300000</td>\n",
       "      <td>136.3</td>\n",
       "      <td>32.075472</td>\n",
       "      <td>32</td>\n",
       "      <td>2</td>\n",
       "      <td>27</td>\n",
       "      <td>902</td>\n",
       "      <td>br</td>\n",
       "    </tr>\n",
       "  </tbody>\n",
       "</table>\n",
       "<p>5 rows × 77 columns</p>\n",
       "</div>"
      ],
      "text/plain": [
       "          nickNameFull mapName metadataResult agentName  playtimeValue  \\\n",
       "0  NIP cauanzin%232233   Haven         defeat      Fade           2225   \n",
       "1  NIP cauanzin%232233   Haven        victory      Fade           1880   \n",
       "2  NIP cauanzin%232233    Bind         defeat      Skye           1982   \n",
       "3  NIP cauanzin%232233   Pearl         defeat      Fade           2525   \n",
       "4  NIP cauanzin%232233  Breeze         defeat      Sova           3073   \n",
       "\n",
       "   roundsPlayedValue  roundsDisconnectedValue  placementValue  scoreValue  \\\n",
       "0                 21                      0.0               4        5578   \n",
       "1                 19                      0.0               4        3654   \n",
       "2                 19                      0.0               2        5092   \n",
       "3                 24                      0.0               4        5458   \n",
       "4                 30                      0.0               5        6481   \n",
       "\n",
       "   killsValue  ...  scorePerRoundValue  scorePerRoundDisplayValue  \\\n",
       "0          19  ...          265.619048                      265.6   \n",
       "1          11  ...          192.315789                      192.3   \n",
       "2          18  ...          268.000000                      268.0   \n",
       "3          19  ...          227.416667                      227.4   \n",
       "4          21  ...          216.033333                      216.0   \n",
       "\n",
       "   damagePerRoundValue  damagePerRoundDisplayValue  headshotsPercentageValue  \\\n",
       "0           182.428571                       182.4                 28.125000   \n",
       "1           121.263158                       121.3                 25.000000   \n",
       "2           167.947368                       167.9                 26.530612   \n",
       "3           159.208333                       159.2                 16.000000   \n",
       "4           136.300000                       136.3                 32.075472   \n",
       "\n",
       "   headshotsPercentageDisplayValue  leaderboardRank  competitiveTier  \\\n",
       "0                               28                2               27   \n",
       "1                               25                2               27   \n",
       "2                               27                2               27   \n",
       "3                               16                2               27   \n",
       "4                               32                2               27   \n",
       "\n",
       "   rankedRating  server  \n",
       "0           902      br  \n",
       "1           902      br  \n",
       "2           902      br  \n",
       "3           902      br  \n",
       "4           902      br  \n",
       "\n",
       "[5 rows x 77 columns]"
      ]
     },
     "execution_count": 72,
     "metadata": {},
     "output_type": "execute_result"
    }
   ],
   "source": [
    "players_info = df_matches_abt[[\n",
    "                                'nickNameFull','mapName', 'metadataResult', 'agentName',\n",
    "                                'playtimeValue', 'roundsPlayedValue', 'roundsDisconnectedValue', 'placementValue',\n",
    "                                'scoreValue', 'killsValue', 'deathsValue', 'assistsValue', 'damageValue', 'damageReceivedValue',\n",
    "                                'headshotsValue', 'grenadeCastsValue',\t'grenadeCastsDisplayValue',\n",
    "                                'ability1CastsValue', 'ability1CastsDisplayValue', 'ability2CastsValue',\n",
    "                                'ability2CastsDisplayValue', 'ultimateCastsValue', 'ultimateCastsDisplayValue',\n",
    "                                'dealtHeadshotsValue', 'dealtHeadshotsDisplayValue', \n",
    "                                'dealtBodyshotsValue', 'dealtBodyshotsDisplayValue',  'dealtLegshotsValue', 'dealtLegshotsDisplayValue',\n",
    "                                'econRatingValue', 'econRatingDisplayValue', 'suicidesValue',\n",
    "                                'suicidesDisplayValue', 'revivedValue', 'revivedDisplayValue', 'firstBloodsValue', 'firstBloodsDisplayValue',\n",
    "                                'firstDeathsValue', 'firstDeathsDisplayValue', 'lastDeathsValue', 'lastDeathsDisplayValue',\n",
    "                                'survivedValue', 'survivedDisplayValue', 'tradedValue', 'tradedDisplayValue',\n",
    "                                'kastedValue', 'kastedDisplayValue', 'kASTValue', 'kASTDisplayValue', 'flawlessValue',\n",
    "                                'flawlessDisplayValue',\t'thriftyValue',\t'thriftyDisplayValue', 'acesValue', 'acesDisplayValue',\n",
    "                                'teamAcesValue',\t'teamAcesDisplayValue',\t'clutchesValue', 'clutchesDisplayValue',\n",
    "                                'clutchesLostValue', 'clutchesLostDisplayValue', 'plantsValue', 'plantsDisplayValue', 'defusesValue',\n",
    "                                'defusesDisplayValue', 'kdRatioValue', 'kdRatioDisplayValue', 'scorePerRoundValue', 'scorePerRoundDisplayValue',\n",
    "                                'damagePerRoundValue', 'damagePerRoundDisplayValue', 'headshotsPercentageValue',\n",
    "                                'headshotsPercentageDisplayValue',\t'leaderboardRank',\t'competitiveTier',\t'rankedRating',\t'server'\n",
    "]]\n",
    "\n",
    "players_info.head()"
   ]
  },
  {
   "cell_type": "code",
   "execution_count": 40,
   "metadata": {},
   "outputs": [],
   "source": [
    "players_match_qtd = df_matches_abt[['nickNameFull',]].groupby(['nickNameFull',])['nickNameFull'] \\\n",
    "                             .count() \\\n",
    "                             .reset_index(name='count') \\\n",
    "                             .sort_values(['count'], ascending=False) \\\n",
    "                             .reset_index(drop = True)"
   ]
  },
  {
   "cell_type": "code",
   "execution_count": 41,
   "metadata": {},
   "outputs": [
    {
     "data": {
      "text/html": [
       "<div>\n",
       "<style scoped>\n",
       "    .dataframe tbody tr th:only-of-type {\n",
       "        vertical-align: middle;\n",
       "    }\n",
       "\n",
       "    .dataframe tbody tr th {\n",
       "        vertical-align: top;\n",
       "    }\n",
       "\n",
       "    .dataframe thead th {\n",
       "        text-align: right;\n",
       "    }\n",
       "</style>\n",
       "<table border=\"1\" class=\"dataframe\">\n",
       "  <thead>\n",
       "    <tr style=\"text-align: right;\">\n",
       "      <th></th>\n",
       "      <th>count</th>\n",
       "    </tr>\n",
       "  </thead>\n",
       "  <tbody>\n",
       "    <tr>\n",
       "      <th>min</th>\n",
       "      <td>20</td>\n",
       "    </tr>\n",
       "    <tr>\n",
       "      <th>max</th>\n",
       "      <td>180</td>\n",
       "    </tr>\n",
       "  </tbody>\n",
       "</table>\n",
       "</div>"
      ],
      "text/plain": [
       "     count\n",
       "min     20\n",
       "max    180"
      ]
     },
     "execution_count": 41,
     "metadata": {},
     "output_type": "execute_result"
    }
   ],
   "source": [
    "players_match_qtd[['count']].agg(['min','max'])"
   ]
  },
  {
   "cell_type": "code",
   "execution_count": 42,
   "metadata": {},
   "outputs": [
    {
     "data": {
      "text/html": [
       "<div>\n",
       "<style scoped>\n",
       "    .dataframe tbody tr th:only-of-type {\n",
       "        vertical-align: middle;\n",
       "    }\n",
       "\n",
       "    .dataframe tbody tr th {\n",
       "        vertical-align: top;\n",
       "    }\n",
       "\n",
       "    .dataframe thead th {\n",
       "        text-align: right;\n",
       "    }\n",
       "</style>\n",
       "<table border=\"1\" class=\"dataframe\">\n",
       "  <thead>\n",
       "    <tr style=\"text-align: right;\">\n",
       "      <th></th>\n",
       "      <th>nickNameFull</th>\n",
       "      <th>count</th>\n",
       "    </tr>\n",
       "  </thead>\n",
       "  <tbody>\n",
       "    <tr>\n",
       "      <th>0</th>\n",
       "      <td>Z%232000</td>\n",
       "      <td>180</td>\n",
       "    </tr>\n",
       "    <tr>\n",
       "      <th>1</th>\n",
       "      <td>caioba%23zinn</td>\n",
       "      <td>180</td>\n",
       "    </tr>\n",
       "    <tr>\n",
       "      <th>2</th>\n",
       "      <td>bяokeИ%23777</td>\n",
       "      <td>180</td>\n",
       "    </tr>\n",
       "    <tr>\n",
       "      <th>3</th>\n",
       "      <td>buzlumuzlu%23MUZ</td>\n",
       "      <td>180</td>\n",
       "    </tr>\n",
       "    <tr>\n",
       "      <th>4</th>\n",
       "      <td>but sure look%230000</td>\n",
       "      <td>180</td>\n",
       "    </tr>\n",
       "    <tr>\n",
       "      <th>...</th>\n",
       "      <td>...</td>\n",
       "      <td>...</td>\n",
       "    </tr>\n",
       "    <tr>\n",
       "      <th>1832</th>\n",
       "      <td>LightNinG%23fast</td>\n",
       "      <td>180</td>\n",
       "    </tr>\n",
       "    <tr>\n",
       "      <th>1833</th>\n",
       "      <td>Lifted421%232020</td>\n",
       "      <td>180</td>\n",
       "    </tr>\n",
       "    <tr>\n",
       "      <th>1834</th>\n",
       "      <td>LS Hinataッ%23seba</td>\n",
       "      <td>180</td>\n",
       "    </tr>\n",
       "    <tr>\n",
       "      <th>1835</th>\n",
       "      <td>LS ch0ku%23LSWΙN</td>\n",
       "      <td>180</td>\n",
       "    </tr>\n",
       "    <tr>\n",
       "      <th>1836</th>\n",
       "      <td>LaVilaineBaptXVI%23VILN</td>\n",
       "      <td>180</td>\n",
       "    </tr>\n",
       "  </tbody>\n",
       "</table>\n",
       "<p>1837 rows × 2 columns</p>\n",
       "</div>"
      ],
      "text/plain": [
       "                 nickNameFull  count\n",
       "0                    Z%232000    180\n",
       "1               caioba%23zinn    180\n",
       "2                bяokeИ%23777    180\n",
       "3            buzlumuzlu%23MUZ    180\n",
       "4        but sure look%230000    180\n",
       "...                       ...    ...\n",
       "1832         LightNinG%23fast    180\n",
       "1833         Lifted421%232020    180\n",
       "1834        LS Hinataッ%23seba    180\n",
       "1835         LS ch0ku%23LSWΙN    180\n",
       "1836  LaVilaineBaptXVI%23VILN    180\n",
       "\n",
       "[1837 rows x 2 columns]"
      ]
     },
     "execution_count": 42,
     "metadata": {},
     "output_type": "execute_result"
    }
   ],
   "source": [
    "players_match_qtd.query('count == 180').reset_index(drop = True)"
   ]
  },
  {
   "cell_type": "code",
   "execution_count": 43,
   "metadata": {},
   "outputs": [
    {
     "data": {
      "text/html": [
       "<div>\n",
       "<style scoped>\n",
       "    .dataframe tbody tr th:only-of-type {\n",
       "        vertical-align: middle;\n",
       "    }\n",
       "\n",
       "    .dataframe tbody tr th {\n",
       "        vertical-align: top;\n",
       "    }\n",
       "\n",
       "    .dataframe thead th {\n",
       "        text-align: right;\n",
       "    }\n",
       "</style>\n",
       "<table border=\"1\" class=\"dataframe\">\n",
       "  <thead>\n",
       "    <tr style=\"text-align: right;\">\n",
       "      <th></th>\n",
       "      <th>nickNameFull</th>\n",
       "      <th>count</th>\n",
       "    </tr>\n",
       "  </thead>\n",
       "  <tbody>\n",
       "    <tr>\n",
       "      <th>0</th>\n",
       "      <td>SUPR Faith%23luga</td>\n",
       "      <td>20</td>\n",
       "    </tr>\n",
       "    <tr>\n",
       "      <th>1</th>\n",
       "      <td>quasar%230611</td>\n",
       "      <td>20</td>\n",
       "    </tr>\n",
       "    <tr>\n",
       "      <th>2</th>\n",
       "      <td>only%238006</td>\n",
       "      <td>20</td>\n",
       "    </tr>\n",
       "    <tr>\n",
       "      <th>3</th>\n",
       "      <td>vision%23fm1</td>\n",
       "      <td>20</td>\n",
       "    </tr>\n",
       "    <tr>\n",
       "      <th>4</th>\n",
       "      <td>Shuba%236969</td>\n",
       "      <td>20</td>\n",
       "    </tr>\n",
       "    <tr>\n",
       "      <th>5</th>\n",
       "      <td>LEV kiNgg%23레비아탄</td>\n",
       "      <td>20</td>\n",
       "    </tr>\n",
       "    <tr>\n",
       "      <th>6</th>\n",
       "      <td>G2 hoody%23101</td>\n",
       "      <td>20</td>\n",
       "    </tr>\n",
       "    <tr>\n",
       "      <th>7</th>\n",
       "      <td>PEKE%23LFT</td>\n",
       "      <td>20</td>\n",
       "    </tr>\n",
       "    <tr>\n",
       "      <th>8</th>\n",
       "      <td>night lovell%23baby</td>\n",
       "      <td>20</td>\n",
       "    </tr>\n",
       "  </tbody>\n",
       "</table>\n",
       "</div>"
      ],
      "text/plain": [
       "          nickNameFull  count\n",
       "0    SUPR Faith%23luga     20\n",
       "1        quasar%230611     20\n",
       "2          only%238006     20\n",
       "3         vision%23fm1     20\n",
       "4         Shuba%236969     20\n",
       "5     LEV kiNgg%23레비아탄     20\n",
       "6       G2 hoody%23101     20\n",
       "7           PEKE%23LFT     20\n",
       "8  night lovell%23baby     20"
      ]
     },
     "execution_count": 43,
     "metadata": {},
     "output_type": "execute_result"
    }
   ],
   "source": [
    "players_match_qtd.query('count == 20').reset_index(drop = True)\n"
   ]
  },
  {
   "cell_type": "code",
   "execution_count": 44,
   "metadata": {},
   "outputs": [
    {
     "data": {
      "text/html": [
       "<div>\n",
       "<style scoped>\n",
       "    .dataframe tbody tr th:only-of-type {\n",
       "        vertical-align: middle;\n",
       "    }\n",
       "\n",
       "    .dataframe tbody tr th {\n",
       "        vertical-align: top;\n",
       "    }\n",
       "\n",
       "    .dataframe thead th {\n",
       "        text-align: right;\n",
       "    }\n",
       "</style>\n",
       "<table border=\"1\" class=\"dataframe\">\n",
       "  <thead>\n",
       "    <tr style=\"text-align: right;\">\n",
       "      <th></th>\n",
       "      <th>nickNameFull</th>\n",
       "      <th>playtimeValue</th>\n",
       "    </tr>\n",
       "  </thead>\n",
       "  <tbody>\n",
       "    <tr>\n",
       "      <th>0</th>\n",
       "      <td>NIP cauanzin%232233</td>\n",
       "      <td>2225</td>\n",
       "    </tr>\n",
       "    <tr>\n",
       "      <th>1</th>\n",
       "      <td>NIP cauanzin%232233</td>\n",
       "      <td>1880</td>\n",
       "    </tr>\n",
       "    <tr>\n",
       "      <th>2</th>\n",
       "      <td>NIP cauanzin%232233</td>\n",
       "      <td>1982</td>\n",
       "    </tr>\n",
       "    <tr>\n",
       "      <th>3</th>\n",
       "      <td>NIP cauanzin%232233</td>\n",
       "      <td>2525</td>\n",
       "    </tr>\n",
       "    <tr>\n",
       "      <th>4</th>\n",
       "      <td>NIP cauanzin%232233</td>\n",
       "      <td>3073</td>\n",
       "    </tr>\n",
       "    <tr>\n",
       "      <th>...</th>\n",
       "      <td>...</td>\n",
       "      <td>...</td>\n",
       "    </tr>\n",
       "    <tr>\n",
       "      <th>333830</th>\n",
       "      <td>machoke%23mepls</td>\n",
       "      <td>2239</td>\n",
       "    </tr>\n",
       "    <tr>\n",
       "      <th>333831</th>\n",
       "      <td>machoke%23mepls</td>\n",
       "      <td>1723</td>\n",
       "    </tr>\n",
       "    <tr>\n",
       "      <th>333832</th>\n",
       "      <td>machoke%23mepls</td>\n",
       "      <td>2394</td>\n",
       "    </tr>\n",
       "    <tr>\n",
       "      <th>333833</th>\n",
       "      <td>machoke%23mepls</td>\n",
       "      <td>2829</td>\n",
       "    </tr>\n",
       "    <tr>\n",
       "      <th>333834</th>\n",
       "      <td>machoke%23mepls</td>\n",
       "      <td>1995</td>\n",
       "    </tr>\n",
       "  </tbody>\n",
       "</table>\n",
       "<p>333835 rows × 2 columns</p>\n",
       "</div>"
      ],
      "text/plain": [
       "               nickNameFull  playtimeValue\n",
       "0       NIP cauanzin%232233           2225\n",
       "1       NIP cauanzin%232233           1880\n",
       "2       NIP cauanzin%232233           1982\n",
       "3       NIP cauanzin%232233           2525\n",
       "4       NIP cauanzin%232233           3073\n",
       "...                     ...            ...\n",
       "333830      machoke%23mepls           2239\n",
       "333831      machoke%23mepls           1723\n",
       "333832      machoke%23mepls           2394\n",
       "333833      machoke%23mepls           2829\n",
       "333834      machoke%23mepls           1995\n",
       "\n",
       "[333835 rows x 2 columns]"
      ]
     },
     "execution_count": 44,
     "metadata": {},
     "output_type": "execute_result"
    }
   ],
   "source": [
    "player_match_time = df_matches_abt[['nickNameFull', 'playtimeValue']]\n",
    "player_match_time"
   ]
  },
  {
   "cell_type": "code",
   "execution_count": 45,
   "metadata": {},
   "outputs": [
    {
     "data": {
      "text/html": [
       "<div>\n",
       "<style scoped>\n",
       "    .dataframe tbody tr th:only-of-type {\n",
       "        vertical-align: middle;\n",
       "    }\n",
       "\n",
       "    .dataframe tbody tr th {\n",
       "        vertical-align: top;\n",
       "    }\n",
       "\n",
       "    .dataframe thead th {\n",
       "        text-align: right;\n",
       "    }\n",
       "</style>\n",
       "<table border=\"1\" class=\"dataframe\">\n",
       "  <thead>\n",
       "    <tr style=\"text-align: right;\">\n",
       "      <th></th>\n",
       "      <th>nickNameFull</th>\n",
       "      <th>playtimeValue</th>\n",
       "      <th>playtimeValueMinutes</th>\n",
       "    </tr>\n",
       "  </thead>\n",
       "  <tbody>\n",
       "    <tr>\n",
       "      <th>0</th>\n",
       "      <td>NIP cauanzin%232233</td>\n",
       "      <td>2225</td>\n",
       "      <td>37.083333</td>\n",
       "    </tr>\n",
       "    <tr>\n",
       "      <th>1</th>\n",
       "      <td>NIP cauanzin%232233</td>\n",
       "      <td>1880</td>\n",
       "      <td>31.333333</td>\n",
       "    </tr>\n",
       "    <tr>\n",
       "      <th>2</th>\n",
       "      <td>NIP cauanzin%232233</td>\n",
       "      <td>1982</td>\n",
       "      <td>33.033333</td>\n",
       "    </tr>\n",
       "    <tr>\n",
       "      <th>3</th>\n",
       "      <td>NIP cauanzin%232233</td>\n",
       "      <td>2525</td>\n",
       "      <td>42.083333</td>\n",
       "    </tr>\n",
       "    <tr>\n",
       "      <th>4</th>\n",
       "      <td>NIP cauanzin%232233</td>\n",
       "      <td>3073</td>\n",
       "      <td>51.216667</td>\n",
       "    </tr>\n",
       "    <tr>\n",
       "      <th>...</th>\n",
       "      <td>...</td>\n",
       "      <td>...</td>\n",
       "      <td>...</td>\n",
       "    </tr>\n",
       "    <tr>\n",
       "      <th>333830</th>\n",
       "      <td>machoke%23mepls</td>\n",
       "      <td>2239</td>\n",
       "      <td>37.316667</td>\n",
       "    </tr>\n",
       "    <tr>\n",
       "      <th>333831</th>\n",
       "      <td>machoke%23mepls</td>\n",
       "      <td>1723</td>\n",
       "      <td>28.716667</td>\n",
       "    </tr>\n",
       "    <tr>\n",
       "      <th>333832</th>\n",
       "      <td>machoke%23mepls</td>\n",
       "      <td>2394</td>\n",
       "      <td>39.900000</td>\n",
       "    </tr>\n",
       "    <tr>\n",
       "      <th>333833</th>\n",
       "      <td>machoke%23mepls</td>\n",
       "      <td>2829</td>\n",
       "      <td>47.150000</td>\n",
       "    </tr>\n",
       "    <tr>\n",
       "      <th>333834</th>\n",
       "      <td>machoke%23mepls</td>\n",
       "      <td>1995</td>\n",
       "      <td>33.250000</td>\n",
       "    </tr>\n",
       "  </tbody>\n",
       "</table>\n",
       "<p>333835 rows × 3 columns</p>\n",
       "</div>"
      ],
      "text/plain": [
       "               nickNameFull  playtimeValue  playtimeValueMinutes\n",
       "0       NIP cauanzin%232233           2225             37.083333\n",
       "1       NIP cauanzin%232233           1880             31.333333\n",
       "2       NIP cauanzin%232233           1982             33.033333\n",
       "3       NIP cauanzin%232233           2525             42.083333\n",
       "4       NIP cauanzin%232233           3073             51.216667\n",
       "...                     ...            ...                   ...\n",
       "333830      machoke%23mepls           2239             37.316667\n",
       "333831      machoke%23mepls           1723             28.716667\n",
       "333832      machoke%23mepls           2394             39.900000\n",
       "333833      machoke%23mepls           2829             47.150000\n",
       "333834      machoke%23mepls           1995             33.250000\n",
       "\n",
       "[333835 rows x 3 columns]"
      ]
     },
     "execution_count": 45,
     "metadata": {},
     "output_type": "execute_result"
    }
   ],
   "source": [
    "player_match_time['playtimeValueMinutes'] = df_matches_abt['playtimeValue']/60\n",
    "player_match_time"
   ]
  },
  {
   "cell_type": "code",
   "execution_count": 60,
   "metadata": {},
   "outputs": [],
   "source": [
    "player_match_time_sum = player_match_time.groupby(['nickNameFull',])['playtimeValueMinutes']\\\n",
    "                             .sum() \\\n",
    "                             .reset_index(name='sum') \\\n",
    "                             .sort_values(['sum'], ascending=False) \\\n",
    "                             .reset_index(drop = True)\n",
    "player_match_time_sum\n",
    "player_match_time_sum_plot = player_match_time_sum.head(10)"
   ]
  },
  {
   "cell_type": "code",
   "execution_count": 68,
   "metadata": {},
   "outputs": [
    {
     "data": {
      "application/vnd.plotly.v1+json": {
       "config": {
        "plotlyServerURL": "https://plot.ly"
       },
       "data": [
        {
         "alignmentgroup": "True",
         "hovertemplate": "sum=%{x}<br>nickNameFull=%{y}<extra></extra>",
         "legendgroup": "",
         "marker": {
          "color": "#636efa",
          "pattern": {
           "shape": ""
          }
         },
         "name": "",
         "offsetgroup": "",
         "orientation": "h",
         "showlegend": false,
         "textposition": "auto",
         "texttemplate": "%{x:.4s}",
         "type": "bar",
         "x": [
          6611.766666666666,
          6587.216666666666,
          6577.216666666666,
          6576.083333333333,
          6557.7,
          6547.666666666667,
          6528.233333333334,
          6527.333333333333,
          6516.466666666666,
          6502.316666666667
         ],
         "xaxis": "x",
         "y": [
          "ПYΛПG%23335E",
          "RISE LUSKKÃO%23747",
          "nowise%23nonô",
          "DraYstaR%23zapr",
          "CTC%23RND",
          "hanpipe%23ESP",
          "LOS prince%23ntc",
          "tooug%2313y",
          "ODK f0rsaken%23Demon",
          "fl4cko%23420"
         ],
         "yaxis": "y"
        }
       ],
       "layout": {
        "barmode": "relative",
        "legend": {
         "tracegroupgap": 0
        },
        "template": {
         "data": {
          "bar": [
           {
            "error_x": {
             "color": "#2a3f5f"
            },
            "error_y": {
             "color": "#2a3f5f"
            },
            "marker": {
             "line": {
              "color": "#E5ECF6",
              "width": 0.5
             },
             "pattern": {
              "fillmode": "overlay",
              "size": 10,
              "solidity": 0.2
             }
            },
            "type": "bar"
           }
          ],
          "barpolar": [
           {
            "marker": {
             "line": {
              "color": "#E5ECF6",
              "width": 0.5
             },
             "pattern": {
              "fillmode": "overlay",
              "size": 10,
              "solidity": 0.2
             }
            },
            "type": "barpolar"
           }
          ],
          "carpet": [
           {
            "aaxis": {
             "endlinecolor": "#2a3f5f",
             "gridcolor": "white",
             "linecolor": "white",
             "minorgridcolor": "white",
             "startlinecolor": "#2a3f5f"
            },
            "baxis": {
             "endlinecolor": "#2a3f5f",
             "gridcolor": "white",
             "linecolor": "white",
             "minorgridcolor": "white",
             "startlinecolor": "#2a3f5f"
            },
            "type": "carpet"
           }
          ],
          "choropleth": [
           {
            "colorbar": {
             "outlinewidth": 0,
             "ticks": ""
            },
            "type": "choropleth"
           }
          ],
          "contour": [
           {
            "colorbar": {
             "outlinewidth": 0,
             "ticks": ""
            },
            "colorscale": [
             [
              0,
              "#0d0887"
             ],
             [
              0.1111111111111111,
              "#46039f"
             ],
             [
              0.2222222222222222,
              "#7201a8"
             ],
             [
              0.3333333333333333,
              "#9c179e"
             ],
             [
              0.4444444444444444,
              "#bd3786"
             ],
             [
              0.5555555555555556,
              "#d8576b"
             ],
             [
              0.6666666666666666,
              "#ed7953"
             ],
             [
              0.7777777777777778,
              "#fb9f3a"
             ],
             [
              0.8888888888888888,
              "#fdca26"
             ],
             [
              1,
              "#f0f921"
             ]
            ],
            "type": "contour"
           }
          ],
          "contourcarpet": [
           {
            "colorbar": {
             "outlinewidth": 0,
             "ticks": ""
            },
            "type": "contourcarpet"
           }
          ],
          "heatmap": [
           {
            "colorbar": {
             "outlinewidth": 0,
             "ticks": ""
            },
            "colorscale": [
             [
              0,
              "#0d0887"
             ],
             [
              0.1111111111111111,
              "#46039f"
             ],
             [
              0.2222222222222222,
              "#7201a8"
             ],
             [
              0.3333333333333333,
              "#9c179e"
             ],
             [
              0.4444444444444444,
              "#bd3786"
             ],
             [
              0.5555555555555556,
              "#d8576b"
             ],
             [
              0.6666666666666666,
              "#ed7953"
             ],
             [
              0.7777777777777778,
              "#fb9f3a"
             ],
             [
              0.8888888888888888,
              "#fdca26"
             ],
             [
              1,
              "#f0f921"
             ]
            ],
            "type": "heatmap"
           }
          ],
          "heatmapgl": [
           {
            "colorbar": {
             "outlinewidth": 0,
             "ticks": ""
            },
            "colorscale": [
             [
              0,
              "#0d0887"
             ],
             [
              0.1111111111111111,
              "#46039f"
             ],
             [
              0.2222222222222222,
              "#7201a8"
             ],
             [
              0.3333333333333333,
              "#9c179e"
             ],
             [
              0.4444444444444444,
              "#bd3786"
             ],
             [
              0.5555555555555556,
              "#d8576b"
             ],
             [
              0.6666666666666666,
              "#ed7953"
             ],
             [
              0.7777777777777778,
              "#fb9f3a"
             ],
             [
              0.8888888888888888,
              "#fdca26"
             ],
             [
              1,
              "#f0f921"
             ]
            ],
            "type": "heatmapgl"
           }
          ],
          "histogram": [
           {
            "marker": {
             "pattern": {
              "fillmode": "overlay",
              "size": 10,
              "solidity": 0.2
             }
            },
            "type": "histogram"
           }
          ],
          "histogram2d": [
           {
            "colorbar": {
             "outlinewidth": 0,
             "ticks": ""
            },
            "colorscale": [
             [
              0,
              "#0d0887"
             ],
             [
              0.1111111111111111,
              "#46039f"
             ],
             [
              0.2222222222222222,
              "#7201a8"
             ],
             [
              0.3333333333333333,
              "#9c179e"
             ],
             [
              0.4444444444444444,
              "#bd3786"
             ],
             [
              0.5555555555555556,
              "#d8576b"
             ],
             [
              0.6666666666666666,
              "#ed7953"
             ],
             [
              0.7777777777777778,
              "#fb9f3a"
             ],
             [
              0.8888888888888888,
              "#fdca26"
             ],
             [
              1,
              "#f0f921"
             ]
            ],
            "type": "histogram2d"
           }
          ],
          "histogram2dcontour": [
           {
            "colorbar": {
             "outlinewidth": 0,
             "ticks": ""
            },
            "colorscale": [
             [
              0,
              "#0d0887"
             ],
             [
              0.1111111111111111,
              "#46039f"
             ],
             [
              0.2222222222222222,
              "#7201a8"
             ],
             [
              0.3333333333333333,
              "#9c179e"
             ],
             [
              0.4444444444444444,
              "#bd3786"
             ],
             [
              0.5555555555555556,
              "#d8576b"
             ],
             [
              0.6666666666666666,
              "#ed7953"
             ],
             [
              0.7777777777777778,
              "#fb9f3a"
             ],
             [
              0.8888888888888888,
              "#fdca26"
             ],
             [
              1,
              "#f0f921"
             ]
            ],
            "type": "histogram2dcontour"
           }
          ],
          "mesh3d": [
           {
            "colorbar": {
             "outlinewidth": 0,
             "ticks": ""
            },
            "type": "mesh3d"
           }
          ],
          "parcoords": [
           {
            "line": {
             "colorbar": {
              "outlinewidth": 0,
              "ticks": ""
             }
            },
            "type": "parcoords"
           }
          ],
          "pie": [
           {
            "automargin": true,
            "type": "pie"
           }
          ],
          "scatter": [
           {
            "fillpattern": {
             "fillmode": "overlay",
             "size": 10,
             "solidity": 0.2
            },
            "type": "scatter"
           }
          ],
          "scatter3d": [
           {
            "line": {
             "colorbar": {
              "outlinewidth": 0,
              "ticks": ""
             }
            },
            "marker": {
             "colorbar": {
              "outlinewidth": 0,
              "ticks": ""
             }
            },
            "type": "scatter3d"
           }
          ],
          "scattercarpet": [
           {
            "marker": {
             "colorbar": {
              "outlinewidth": 0,
              "ticks": ""
             }
            },
            "type": "scattercarpet"
           }
          ],
          "scattergeo": [
           {
            "marker": {
             "colorbar": {
              "outlinewidth": 0,
              "ticks": ""
             }
            },
            "type": "scattergeo"
           }
          ],
          "scattergl": [
           {
            "marker": {
             "colorbar": {
              "outlinewidth": 0,
              "ticks": ""
             }
            },
            "type": "scattergl"
           }
          ],
          "scattermapbox": [
           {
            "marker": {
             "colorbar": {
              "outlinewidth": 0,
              "ticks": ""
             }
            },
            "type": "scattermapbox"
           }
          ],
          "scatterpolar": [
           {
            "marker": {
             "colorbar": {
              "outlinewidth": 0,
              "ticks": ""
             }
            },
            "type": "scatterpolar"
           }
          ],
          "scatterpolargl": [
           {
            "marker": {
             "colorbar": {
              "outlinewidth": 0,
              "ticks": ""
             }
            },
            "type": "scatterpolargl"
           }
          ],
          "scatterternary": [
           {
            "marker": {
             "colorbar": {
              "outlinewidth": 0,
              "ticks": ""
             }
            },
            "type": "scatterternary"
           }
          ],
          "surface": [
           {
            "colorbar": {
             "outlinewidth": 0,
             "ticks": ""
            },
            "colorscale": [
             [
              0,
              "#0d0887"
             ],
             [
              0.1111111111111111,
              "#46039f"
             ],
             [
              0.2222222222222222,
              "#7201a8"
             ],
             [
              0.3333333333333333,
              "#9c179e"
             ],
             [
              0.4444444444444444,
              "#bd3786"
             ],
             [
              0.5555555555555556,
              "#d8576b"
             ],
             [
              0.6666666666666666,
              "#ed7953"
             ],
             [
              0.7777777777777778,
              "#fb9f3a"
             ],
             [
              0.8888888888888888,
              "#fdca26"
             ],
             [
              1,
              "#f0f921"
             ]
            ],
            "type": "surface"
           }
          ],
          "table": [
           {
            "cells": {
             "fill": {
              "color": "#EBF0F8"
             },
             "line": {
              "color": "white"
             }
            },
            "header": {
             "fill": {
              "color": "#C8D4E3"
             },
             "line": {
              "color": "white"
             }
            },
            "type": "table"
           }
          ]
         },
         "layout": {
          "annotationdefaults": {
           "arrowcolor": "#2a3f5f",
           "arrowhead": 0,
           "arrowwidth": 1
          },
          "autotypenumbers": "strict",
          "coloraxis": {
           "colorbar": {
            "outlinewidth": 0,
            "ticks": ""
           }
          },
          "colorscale": {
           "diverging": [
            [
             0,
             "#8e0152"
            ],
            [
             0.1,
             "#c51b7d"
            ],
            [
             0.2,
             "#de77ae"
            ],
            [
             0.3,
             "#f1b6da"
            ],
            [
             0.4,
             "#fde0ef"
            ],
            [
             0.5,
             "#f7f7f7"
            ],
            [
             0.6,
             "#e6f5d0"
            ],
            [
             0.7,
             "#b8e186"
            ],
            [
             0.8,
             "#7fbc41"
            ],
            [
             0.9,
             "#4d9221"
            ],
            [
             1,
             "#276419"
            ]
           ],
           "sequential": [
            [
             0,
             "#0d0887"
            ],
            [
             0.1111111111111111,
             "#46039f"
            ],
            [
             0.2222222222222222,
             "#7201a8"
            ],
            [
             0.3333333333333333,
             "#9c179e"
            ],
            [
             0.4444444444444444,
             "#bd3786"
            ],
            [
             0.5555555555555556,
             "#d8576b"
            ],
            [
             0.6666666666666666,
             "#ed7953"
            ],
            [
             0.7777777777777778,
             "#fb9f3a"
            ],
            [
             0.8888888888888888,
             "#fdca26"
            ],
            [
             1,
             "#f0f921"
            ]
           ],
           "sequentialminus": [
            [
             0,
             "#0d0887"
            ],
            [
             0.1111111111111111,
             "#46039f"
            ],
            [
             0.2222222222222222,
             "#7201a8"
            ],
            [
             0.3333333333333333,
             "#9c179e"
            ],
            [
             0.4444444444444444,
             "#bd3786"
            ],
            [
             0.5555555555555556,
             "#d8576b"
            ],
            [
             0.6666666666666666,
             "#ed7953"
            ],
            [
             0.7777777777777778,
             "#fb9f3a"
            ],
            [
             0.8888888888888888,
             "#fdca26"
            ],
            [
             1,
             "#f0f921"
            ]
           ]
          },
          "colorway": [
           "#636efa",
           "#EF553B",
           "#00cc96",
           "#ab63fa",
           "#FFA15A",
           "#19d3f3",
           "#FF6692",
           "#B6E880",
           "#FF97FF",
           "#FECB52"
          ],
          "font": {
           "color": "#2a3f5f"
          },
          "geo": {
           "bgcolor": "white",
           "lakecolor": "white",
           "landcolor": "#E5ECF6",
           "showlakes": true,
           "showland": true,
           "subunitcolor": "white"
          },
          "hoverlabel": {
           "align": "left"
          },
          "hovermode": "closest",
          "mapbox": {
           "style": "light"
          },
          "paper_bgcolor": "white",
          "plot_bgcolor": "#E5ECF6",
          "polar": {
           "angularaxis": {
            "gridcolor": "white",
            "linecolor": "white",
            "ticks": ""
           },
           "bgcolor": "#E5ECF6",
           "radialaxis": {
            "gridcolor": "white",
            "linecolor": "white",
            "ticks": ""
           }
          },
          "scene": {
           "xaxis": {
            "backgroundcolor": "#E5ECF6",
            "gridcolor": "white",
            "gridwidth": 2,
            "linecolor": "white",
            "showbackground": true,
            "ticks": "",
            "zerolinecolor": "white"
           },
           "yaxis": {
            "backgroundcolor": "#E5ECF6",
            "gridcolor": "white",
            "gridwidth": 2,
            "linecolor": "white",
            "showbackground": true,
            "ticks": "",
            "zerolinecolor": "white"
           },
           "zaxis": {
            "backgroundcolor": "#E5ECF6",
            "gridcolor": "white",
            "gridwidth": 2,
            "linecolor": "white",
            "showbackground": true,
            "ticks": "",
            "zerolinecolor": "white"
           }
          },
          "shapedefaults": {
           "line": {
            "color": "#2a3f5f"
           }
          },
          "ternary": {
           "aaxis": {
            "gridcolor": "white",
            "linecolor": "white",
            "ticks": ""
           },
           "baxis": {
            "gridcolor": "white",
            "linecolor": "white",
            "ticks": ""
           },
           "bgcolor": "#E5ECF6",
           "caxis": {
            "gridcolor": "white",
            "linecolor": "white",
            "ticks": ""
           }
          },
          "title": {
           "x": 0.05
          },
          "xaxis": {
           "automargin": true,
           "gridcolor": "white",
           "linecolor": "white",
           "ticks": "",
           "title": {
            "standoff": 15
           },
           "zerolinecolor": "white",
           "zerolinewidth": 2
          },
          "yaxis": {
           "automargin": true,
           "gridcolor": "white",
           "linecolor": "white",
           "ticks": "",
           "title": {
            "standoff": 15
           },
           "zerolinecolor": "white",
           "zerolinewidth": 2
          }
         }
        },
        "title": {
         "text": "Top 10 players with the most number of hours played"
        },
        "xaxis": {
         "anchor": "y",
         "domain": [
          0,
          1
         ],
         "title": {
          "text": "sum"
         }
        },
        "yaxis": {
         "anchor": "x",
         "domain": [
          0,
          1
         ],
         "title": {
          "text": "nickNameFull"
         }
        }
       }
      }
     },
     "metadata": {},
     "output_type": "display_data"
    }
   ],
   "source": [
    "fig = px.bar(player_match_time_sum_plot, y='nickNameFull', x='sum', text_auto='.4s', orientation='h',\n",
    "            title=\"Top 10 players with the most number of hours played\")\n",
    "fig.show()"
   ]
  },
  {
   "cell_type": "code",
   "execution_count": 116,
   "metadata": {},
   "outputs": [
    {
     "data": {
      "text/html": [
       "<div>\n",
       "<style scoped>\n",
       "    .dataframe tbody tr th:only-of-type {\n",
       "        vertical-align: middle;\n",
       "    }\n",
       "\n",
       "    .dataframe tbody tr th {\n",
       "        vertical-align: top;\n",
       "    }\n",
       "\n",
       "    .dataframe thead th {\n",
       "        text-align: right;\n",
       "    }\n",
       "</style>\n",
       "<table border=\"1\" class=\"dataframe\">\n",
       "  <thead>\n",
       "    <tr style=\"text-align: right;\">\n",
       "      <th></th>\n",
       "      <th>nickNameFull</th>\n",
       "      <th>metadataResult</th>\n",
       "    </tr>\n",
       "  </thead>\n",
       "  <tbody>\n",
       "    <tr>\n",
       "      <th>0</th>\n",
       "      <td>NIP cauanzin%232233</td>\n",
       "      <td>defeat</td>\n",
       "    </tr>\n",
       "    <tr>\n",
       "      <th>1</th>\n",
       "      <td>NIP cauanzin%232233</td>\n",
       "      <td>victory</td>\n",
       "    </tr>\n",
       "    <tr>\n",
       "      <th>2</th>\n",
       "      <td>NIP cauanzin%232233</td>\n",
       "      <td>defeat</td>\n",
       "    </tr>\n",
       "    <tr>\n",
       "      <th>3</th>\n",
       "      <td>NIP cauanzin%232233</td>\n",
       "      <td>defeat</td>\n",
       "    </tr>\n",
       "    <tr>\n",
       "      <th>4</th>\n",
       "      <td>NIP cauanzin%232233</td>\n",
       "      <td>defeat</td>\n",
       "    </tr>\n",
       "    <tr>\n",
       "      <th>...</th>\n",
       "      <td>...</td>\n",
       "      <td>...</td>\n",
       "    </tr>\n",
       "    <tr>\n",
       "      <th>333830</th>\n",
       "      <td>machoke%23mepls</td>\n",
       "      <td>defeat</td>\n",
       "    </tr>\n",
       "    <tr>\n",
       "      <th>333831</th>\n",
       "      <td>machoke%23mepls</td>\n",
       "      <td>defeat</td>\n",
       "    </tr>\n",
       "    <tr>\n",
       "      <th>333832</th>\n",
       "      <td>machoke%23mepls</td>\n",
       "      <td>defeat</td>\n",
       "    </tr>\n",
       "    <tr>\n",
       "      <th>333833</th>\n",
       "      <td>machoke%23mepls</td>\n",
       "      <td>victory</td>\n",
       "    </tr>\n",
       "    <tr>\n",
       "      <th>333834</th>\n",
       "      <td>machoke%23mepls</td>\n",
       "      <td>defeat</td>\n",
       "    </tr>\n",
       "  </tbody>\n",
       "</table>\n",
       "<p>333835 rows × 2 columns</p>\n",
       "</div>"
      ],
      "text/plain": [
       "               nickNameFull metadataResult\n",
       "0       NIP cauanzin%232233         defeat\n",
       "1       NIP cauanzin%232233        victory\n",
       "2       NIP cauanzin%232233         defeat\n",
       "3       NIP cauanzin%232233         defeat\n",
       "4       NIP cauanzin%232233         defeat\n",
       "...                     ...            ...\n",
       "333830      machoke%23mepls         defeat\n",
       "333831      machoke%23mepls         defeat\n",
       "333832      machoke%23mepls         defeat\n",
       "333833      machoke%23mepls        victory\n",
       "333834      machoke%23mepls         defeat\n",
       "\n",
       "[333835 rows x 2 columns]"
      ]
     },
     "execution_count": 116,
     "metadata": {},
     "output_type": "execute_result"
    }
   ],
   "source": [
    "players_result = players_info[['nickNameFull', 'metadataResult']]\n",
    "players_result"
   ]
  },
  {
   "cell_type": "code",
   "execution_count": 114,
   "metadata": {},
   "outputs": [
    {
     "data": {
      "text/html": [
       "<div>\n",
       "<style scoped>\n",
       "    .dataframe tbody tr th:only-of-type {\n",
       "        vertical-align: middle;\n",
       "    }\n",
       "\n",
       "    .dataframe tbody tr th {\n",
       "        vertical-align: top;\n",
       "    }\n",
       "\n",
       "    .dataframe thead th {\n",
       "        text-align: right;\n",
       "    }\n",
       "</style>\n",
       "<table border=\"1\" class=\"dataframe\">\n",
       "  <thead>\n",
       "    <tr style=\"text-align: right;\">\n",
       "      <th></th>\n",
       "      <th>nickNameFull</th>\n",
       "      <th>metadataResult</th>\n",
       "      <th>count</th>\n",
       "    </tr>\n",
       "  </thead>\n",
       "  <tbody>\n",
       "    <tr>\n",
       "      <th>0</th>\n",
       "      <td>흑누나%235946</td>\n",
       "      <td>victory</td>\n",
       "      <td>1</td>\n",
       "    </tr>\n",
       "    <tr>\n",
       "      <th>1</th>\n",
       "      <td>흑누나%235946</td>\n",
       "      <td>tied</td>\n",
       "      <td>1</td>\n",
       "    </tr>\n",
       "    <tr>\n",
       "      <th>2</th>\n",
       "      <td>흑누나%235946</td>\n",
       "      <td>defeat</td>\n",
       "      <td>1</td>\n",
       "    </tr>\n",
       "    <tr>\n",
       "      <th>3</th>\n",
       "      <td>헬스장덤벨연쇄절도범%233대500</td>\n",
       "      <td>victory</td>\n",
       "      <td>1</td>\n",
       "    </tr>\n",
       "    <tr>\n",
       "      <th>4</th>\n",
       "      <td>헬스장덤벨연쇄절도범%233대500</td>\n",
       "      <td>tied</td>\n",
       "      <td>1</td>\n",
       "    </tr>\n",
       "    <tr>\n",
       "      <th>...</th>\n",
       "      <td>...</td>\n",
       "      <td>...</td>\n",
       "      <td>...</td>\n",
       "    </tr>\n",
       "    <tr>\n",
       "      <th>5280</th>\n",
       "      <td>00xampa%23HNDEK</td>\n",
       "      <td>defeat</td>\n",
       "      <td>1</td>\n",
       "    </tr>\n",
       "    <tr>\n",
       "      <th>5281</th>\n",
       "      <td>00xampa%23HNDEK</td>\n",
       "      <td>victory</td>\n",
       "      <td>1</td>\n",
       "    </tr>\n",
       "    <tr>\n",
       "      <th>5282</th>\n",
       "      <td>Z%232000</td>\n",
       "      <td>victory</td>\n",
       "      <td>1</td>\n",
       "    </tr>\n",
       "    <tr>\n",
       "      <th>5283</th>\n",
       "      <td>Z%232000</td>\n",
       "      <td>tied</td>\n",
       "      <td>1</td>\n",
       "    </tr>\n",
       "    <tr>\n",
       "      <th>5284</th>\n",
       "      <td>Z%232000</td>\n",
       "      <td>defeat</td>\n",
       "      <td>1</td>\n",
       "    </tr>\n",
       "  </tbody>\n",
       "</table>\n",
       "<p>5285 rows × 3 columns</p>\n",
       "</div>"
      ],
      "text/plain": [
       "            nickNameFull metadataResult  count\n",
       "0             흑누나%235946        victory      1\n",
       "1             흑누나%235946           tied      1\n",
       "2             흑누나%235946         defeat      1\n",
       "3     헬스장덤벨연쇄절도범%233대500        victory      1\n",
       "4     헬스장덤벨연쇄절도범%233대500           tied      1\n",
       "...                  ...            ...    ...\n",
       "5280     00xampa%23HNDEK         defeat      1\n",
       "5281     00xampa%23HNDEK        victory      1\n",
       "5282            Z%232000        victory      1\n",
       "5283            Z%232000           tied      1\n",
       "5284            Z%232000         defeat      1\n",
       "\n",
       "[5285 rows x 3 columns]"
      ]
     },
     "execution_count": 114,
     "metadata": {},
     "output_type": "execute_result"
    }
   ],
   "source": [
    "players_result = players_result.groupby(['nickNameFull', 'metadataResult'])['nickNameFull'].count().reset_index(name='count') \\\n",
    "                             .sort_values(['nickNameFull'], ascending=False) \\\n",
    "                             .reset_index(drop = True)\n",
    "players_result"
   ]
  },
  {
   "cell_type": "code",
   "execution_count": 123,
   "metadata": {},
   "outputs": [],
   "source": [
    "players_result = players_result.groupby(['nickNameFull','metadataResult'])['metadataResult'].agg(['count'])"
   ]
  },
  {
   "cell_type": "code",
   "execution_count": 124,
   "metadata": {},
   "outputs": [
    {
     "data": {
      "text/html": [
       "<div>\n",
       "<style scoped>\n",
       "    .dataframe tbody tr th:only-of-type {\n",
       "        vertical-align: middle;\n",
       "    }\n",
       "\n",
       "    .dataframe tbody tr th {\n",
       "        vertical-align: top;\n",
       "    }\n",
       "\n",
       "    .dataframe thead th {\n",
       "        text-align: right;\n",
       "    }\n",
       "</style>\n",
       "<table border=\"1\" class=\"dataframe\">\n",
       "  <thead>\n",
       "    <tr style=\"text-align: right;\">\n",
       "      <th></th>\n",
       "      <th></th>\n",
       "      <th>count</th>\n",
       "    </tr>\n",
       "    <tr>\n",
       "      <th>nickNameFull</th>\n",
       "      <th>metadataResult</th>\n",
       "      <th></th>\n",
       "    </tr>\n",
       "  </thead>\n",
       "  <tbody>\n",
       "    <tr>\n",
       "      <th rowspan=\"3\" valign=\"top\">Z%232000</th>\n",
       "      <th>defeat</th>\n",
       "      <td>79</td>\n",
       "    </tr>\n",
       "    <tr>\n",
       "      <th>tied</th>\n",
       "      <td>2</td>\n",
       "    </tr>\n",
       "    <tr>\n",
       "      <th>victory</th>\n",
       "      <td>99</td>\n",
       "    </tr>\n",
       "    <tr>\n",
       "      <th rowspan=\"3\" valign=\"top\">00xampa%23HNDEK</th>\n",
       "      <th>defeat</th>\n",
       "      <td>78</td>\n",
       "    </tr>\n",
       "    <tr>\n",
       "      <th>tied</th>\n",
       "      <td>2</td>\n",
       "    </tr>\n",
       "    <tr>\n",
       "      <th>victory</th>\n",
       "      <td>100</td>\n",
       "    </tr>\n",
       "    <tr>\n",
       "      <th rowspan=\"2\" valign=\"top\">010 farewell%23RRR</th>\n",
       "      <th>defeat</th>\n",
       "      <td>79</td>\n",
       "    </tr>\n",
       "    <tr>\n",
       "      <th>victory</th>\n",
       "      <td>101</td>\n",
       "    </tr>\n",
       "    <tr>\n",
       "      <th rowspan=\"3\" valign=\"top\">06 cAstAwAy 06%23YARGI</th>\n",
       "      <th>defeat</th>\n",
       "      <td>80</td>\n",
       "    </tr>\n",
       "    <tr>\n",
       "      <th>tied</th>\n",
       "      <td>2</td>\n",
       "    </tr>\n",
       "    <tr>\n",
       "      <th>victory</th>\n",
       "      <td>98</td>\n",
       "    </tr>\n",
       "    <tr>\n",
       "      <th rowspan=\"3\" valign=\"top\">06 발로 프로지망%23USW</th>\n",
       "      <th>defeat</th>\n",
       "      <td>82</td>\n",
       "    </tr>\n",
       "    <tr>\n",
       "      <th>tied</th>\n",
       "      <td>2</td>\n",
       "    </tr>\n",
       "    <tr>\n",
       "      <th>victory</th>\n",
       "      <td>96</td>\n",
       "    </tr>\n",
       "    <tr>\n",
       "      <th rowspan=\"3\" valign=\"top\">0ki0h%23류영하</th>\n",
       "      <th>defeat</th>\n",
       "      <td>84</td>\n",
       "    </tr>\n",
       "    <tr>\n",
       "      <th>tied</th>\n",
       "      <td>2</td>\n",
       "    </tr>\n",
       "    <tr>\n",
       "      <th>victory</th>\n",
       "      <td>94</td>\n",
       "    </tr>\n",
       "    <tr>\n",
       "      <th rowspan=\"3\" valign=\"top\">100T Asuna%231111</th>\n",
       "      <th>defeat</th>\n",
       "      <td>60</td>\n",
       "    </tr>\n",
       "    <tr>\n",
       "      <th>tied</th>\n",
       "      <td>2</td>\n",
       "    </tr>\n",
       "    <tr>\n",
       "      <th>victory</th>\n",
       "      <td>118</td>\n",
       "    </tr>\n",
       "    <tr>\n",
       "      <th rowspan=\"3\" valign=\"top\">100T Cryo%2332122</th>\n",
       "      <th>defeat</th>\n",
       "      <td>58</td>\n",
       "    </tr>\n",
       "    <tr>\n",
       "      <th>tied</th>\n",
       "      <td>2</td>\n",
       "    </tr>\n",
       "    <tr>\n",
       "      <th>victory</th>\n",
       "      <td>120</td>\n",
       "    </tr>\n",
       "    <tr>\n",
       "      <th rowspan=\"3\" valign=\"top\">100T Derrek%23100</th>\n",
       "      <th>defeat</th>\n",
       "      <td>95</td>\n",
       "    </tr>\n",
       "    <tr>\n",
       "      <th>tied</th>\n",
       "      <td>1</td>\n",
       "    </tr>\n",
       "    <tr>\n",
       "      <th>victory</th>\n",
       "      <td>84</td>\n",
       "    </tr>\n",
       "    <tr>\n",
       "      <th rowspan=\"3\" valign=\"top\">100T Meggaツ%23Sage</th>\n",
       "      <th>defeat</th>\n",
       "      <td>77</td>\n",
       "    </tr>\n",
       "    <tr>\n",
       "      <th>tied</th>\n",
       "      <td>2</td>\n",
       "    </tr>\n",
       "    <tr>\n",
       "      <th>victory</th>\n",
       "      <td>101</td>\n",
       "    </tr>\n",
       "    <tr>\n",
       "      <th>100T Prado%231502</th>\n",
       "      <th>defeat</th>\n",
       "      <td>79</td>\n",
       "    </tr>\n",
       "  </tbody>\n",
       "</table>\n",
       "</div>"
      ],
      "text/plain": [
       "                                       count\n",
       "nickNameFull           metadataResult       \n",
       "  Z%232000             defeat             79\n",
       "                       tied                2\n",
       "                       victory            99\n",
       "00xampa%23HNDEK        defeat             78\n",
       "                       tied                2\n",
       "                       victory           100\n",
       "010 farewell%23RRR     defeat             79\n",
       "                       victory           101\n",
       "06 cAstAwAy 06%23YARGI defeat             80\n",
       "                       tied                2\n",
       "                       victory            98\n",
       "06 발로 프로지망%23USW       defeat             82\n",
       "                       tied                2\n",
       "                       victory            96\n",
       "0ki0h%23류영하            defeat             84\n",
       "                       tied                2\n",
       "                       victory            94\n",
       "100T Asuna%231111      defeat             60\n",
       "                       tied                2\n",
       "                       victory           118\n",
       "100T Cryo%2332122      defeat             58\n",
       "                       tied                2\n",
       "                       victory           120\n",
       "100T Derrek%23100      defeat             95\n",
       "                       tied                1\n",
       "                       victory            84\n",
       "100T Meggaツ%23Sage     defeat             77\n",
       "                       tied                2\n",
       "                       victory           101\n",
       "100T Prado%231502      defeat             79"
      ]
     },
     "execution_count": 124,
     "metadata": {},
     "output_type": "execute_result"
    }
   ],
   "source": [
    "players_result_plot = players_result.head(30)\n",
    "players_result_plot"
   ]
  }
 ],
 "metadata": {
  "kernelspec": {
   "display_name": "Python 3.9.7 ('base')",
   "language": "python",
   "name": "python3"
  },
  "language_info": {
   "codemirror_mode": {
    "name": "ipython",
    "version": 3
   },
   "file_extension": ".py",
   "mimetype": "text/x-python",
   "name": "python",
   "nbconvert_exporter": "python",
   "pygments_lexer": "ipython3",
   "version": "3.9.7"
  },
  "orig_nbformat": 4,
  "vscode": {
   "interpreter": {
    "hash": "277d713a2869ad522e0f58de96fa3cb2620734b34dd3b3afd7f1966d69d2580f"
   }
  }
 },
 "nbformat": 4,
 "nbformat_minor": 2
}
