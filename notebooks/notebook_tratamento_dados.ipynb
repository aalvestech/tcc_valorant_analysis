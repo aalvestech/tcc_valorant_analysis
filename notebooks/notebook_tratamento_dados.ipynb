{
 "cells": [
  {
   "cell_type": "code",
   "execution_count": null,
   "metadata": {},
   "outputs": [],
   "source": [
    "import pandas as pd\n",
    "from datetime import datetime\n",
    "import seaborn as sns\n",
    "import matplotlib.pyplot as plt\n",
    "import plotly.express as px\n",
    "import warnings\n",
    "warnings.filterwarnings(\"ignore\")"
   ]
  },
  {
   "cell_type": "markdown",
   "metadata": {},
   "source": [
    "Top 500 All Servers"
   ]
  },
  {
   "cell_type": "code",
   "execution_count": null,
   "metadata": {},
   "outputs": [],
   "source": [
    "df_top500_all_servers_raw = pd.read_csv('C:\\\\repos\\\\tcc_valorant_analysis\\\\data\\\\top_500\\\\top500_all_servers_17_11_2022_20_26.csv')\n",
    "df_top500_all_servers_raw.head(5)"
   ]
  },
  {
   "cell_type": "code",
   "execution_count": null,
   "metadata": {},
   "outputs": [],
   "source": [
    "qt_rows = df_top500_all_servers_raw.shape[0]\n",
    "qt_columns = df_top500_all_servers_raw.shape[1]\n",
    "print('Rows: {} Columns: {}'.format(qt_rows, qt_columns))"
   ]
  },
  {
   "cell_type": "code",
   "execution_count": null,
   "metadata": {},
   "outputs": [],
   "source": [
    "df_top500_all_servers = df_top500_all_servers_raw[['meta.shard', 'meta.updatedAt', 'leaderboards.gameName','leaderboards.tagLine',\n",
    "                                                  'leaderboards.full_nickname','leaderboards.leaderboardRank','leaderboards.rankedRating',\n",
    "                                                  'leaderboards.numberOfWins', 'leaderboards.competitiveTier','leaderboards.stat.winRatio',\n",
    "                                                  'leaderboards.stat.avgScore', 'leaderboards.stat.headshotRatio',]]\n",
    "\n",
    "df_top500_all_servers.head(5)"
   ]
  },
  {
   "cell_type": "code",
   "execution_count": null,
   "metadata": {},
   "outputs": [],
   "source": [
    "df_top500_all_servers = df_top500_all_servers.rename(columns={'meta.shard': 'server', 'meta.updatedAt': 'updatedAt',\n",
    "                                      'leaderboards.gameName': 'gameName', 'leaderboards.tagLine': 'tagLine',\n",
    "                                      'leaderboards.full_nickname': 'nickNameFull', 'leaderboards.leaderboardRank': 'leaderboardRank',\n",
    "                                      'leaderboards.rankedRating': 'rankedRating', 'leaderboards.numberOfWins': 'numberOfWins',\n",
    "                                      'leaderboards.competitiveTier': 'competitiveTier', 'leaderboards.stat.winRatio': 'winRatio',\n",
    "                                      'leaderboards.stat.avgScore': 'avgScore', 'leaderboards.stat.headshotRatio': 'headshotRatio',})\n",
    "\n",
    "df_top500_all_servers.head(5)"
   ]
  },
  {
   "cell_type": "code",
   "execution_count": null,
   "metadata": {},
   "outputs": [],
   "source": [
    "df_top500_all_servers = df_top500_all_servers.dropna().reset_index(drop=True)\n",
    "\n",
    "qt_rows = df_top500_all_servers.shape[0]\n",
    "qt_columns = df_top500_all_servers.shape[1]\n",
    "print('Rows: {} Columns: {}'.format(qt_rows, qt_columns))"
   ]
  },
  {
   "cell_type": "code",
   "execution_count": null,
   "metadata": {},
   "outputs": [],
   "source": [
    "df_top500_all_servers"
   ]
  },
  {
   "cell_type": "code",
   "execution_count": null,
   "metadata": {},
   "outputs": [],
   "source": [
    "df_top500_all_servers.to_csv('C:\\\\repos\\\\tcc_valorant_analysis\\\\data\\\\top_500\\\\top500_abt.csv')"
   ]
  },
  {
   "cell_type": "markdown",
   "metadata": {},
   "source": [
    "Matches"
   ]
  },
  {
   "cell_type": "code",
   "execution_count": null,
   "metadata": {},
   "outputs": [],
   "source": [
    "df_matches_raw = pd.read_csv('C:\\\\repos\\\\tcc_valorant_analysis\\\\data\\\\matches\\\\matches_summarized_202211111333.csv')\n",
    "df_matches_raw.head(5)"
   ]
  },
  {
   "cell_type": "code",
   "execution_count": null,
   "metadata": {},
   "outputs": [],
   "source": [
    "qt_rows = df_matches_raw.shape[0]\n",
    "qt_columns = df_matches_raw.shape[1]\n",
    "print('Rows: {} Columns: {}'.format(qt_rows, qt_columns))"
   ]
  },
  {
   "cell_type": "code",
   "execution_count": null,
   "metadata": {},
   "outputs": [],
   "source": [
    "df_matches = df_matches_raw[[\n",
    "    'player', 'matchId', 'mapId', 'modeId', 'modeKey',\n",
    "    'modeName', 'modeImageUrl', 'modeMaxRounds', 'isAvailable',\n",
    "    'timestamp', 'metadataResult', 'map', 'mapName', 'mapImageUrl',\n",
    "    'seasonName', 'userId', 'hasWon', 'result', 'agentName', 'playtimeValue',\n",
    "    'playtimeDisplayValue', 'playtimeDisplayType', 'roundsPlayedValue',\n",
    "    'roundsPlayedDisplayValue', 'roundsPlayedDisplayType', 'roundsWonValue',\n",
    "    'roundsWonDisplayValue', 'roundsWonDisplayType', 'roundsLostValue',\n",
    "    'roundsLostDisplayValue', 'roundsLostDisplayType', 'roundsDisconnectedValue',\n",
    "    'roundsDisconnectedDisplayValue', 'roundsDisconnectedDisplayType', 'placementValue',\n",
    "    'placementDisplayValue', 'placementDisplayType', 'scoreValue', 'scoreDisplayValue',\n",
    "    'scoreDisplayType', 'killsValue', 'killsDisplayValue', 'killsDisplayType', 'deathsValue',\n",
    "    'deathsDisplayValue', 'deathsDisplayType', 'assistsValue', 'assistsDisplayValue',\n",
    "    'assistsDisplayType', 'damageValue', 'damageDisplayValue', 'damageDisplayType',\n",
    "    'damageReceivedValue', 'damageReceivedDisplayValue', 'damageReceivedDisplayType',\n",
    "    'headshotsValue', 'headshotsDisplayValue', 'headshotsDisplayType', 'grenadeCastsValue',\n",
    "    'grenadeCastsDisplayValue', 'grenadeCastsDisplayType', 'ability1CastsValue',\n",
    "    'ability1CastsDisplayValue', 'ability1CastsDisplayType', 'ability2CastsValue',\n",
    "    'ability2CastsDisplayValue', 'ability2CastsDisplayType', 'ultimateCastsValue',\n",
    "    'ultimateCastsDisplayValue', 'ultimateCastsDisplayType', 'dealtHeadshotsValue',\n",
    "    'dealtHeadshotsDisplayValue', 'dealtHeadshotsDisplayType', 'dealtBodyshotsValue',\n",
    "    'dealtBodyshotsDisplayValue', 'dealtBodyshotsDisplayType', 'dealtLegshotsValue',\n",
    "    'dealtLegshotsDisplayValue', 'dealtLegshotsDisplayType', 'econRatingValue',\n",
    "    'econRatingDisplayValue', 'econRatingDisplayType', 'suicidesValue', 'suicidesDisplayValue',\n",
    "    'suicidesDisplayType', 'revivedValue', 'revivedDisplayValue', 'revivedDisplayType',\n",
    "    'firstBloodsValue', 'firstBloodsDisplayValue', 'firstBloodsDisplayType', 'firstDeathsValue',\n",
    "    'firstDeathsDisplayValue', 'firstDeathsDisplayType', 'lastDeathsValue', 'lastDeathsDisplayValue',\n",
    "    'lastDeathsDisplayType', 'survivedValue', 'survivedDisplayValue', 'survivedDisplayType', 'tradedValue',\n",
    "    'tradedDisplayValue', 'tradedDisplayType', 'kastedValue', 'kastedDisplayValue', 'kastedDisplayType',\n",
    "    'kASTValue', 'kASTDisplayValue', 'kASTDisplayType', 'flawlessValue', 'flawlessDisplayValue',\n",
    "    'flawlessDisplayType', 'thriftyValue', 'thriftyDisplayValue', 'thriftyDisplayType', 'acesValue',\n",
    "    'acesDisplayValue', 'acesDisplayType', 'teamAcesValue', 'teamAcesDisplayValue', 'teamAcesDisplayType',\n",
    "    'clutchesValue', 'clutchesDisplayValue', 'clutchesDisplayType', 'clutchesLostValue', 'clutchesLostDisplayValue',\n",
    "    'clutchesLostDisplayType', 'plantsValue', 'plantsDisplayValue', 'plantsDisplayType', 'defusesValue',\n",
    "    'defusesDisplayValue', 'defusesDisplayType', 'kdRatioValue', 'kdRatioDisplayValue', 'kdRatioDisplayType',\n",
    "    'scorePerRoundValue', 'scorePerRoundDisplayValue', 'scorePerRoundDisplayType', 'damagePerRoundValue',\n",
    "    'damagePerRoundDisplayValue', 'damagePerRoundDisplayType', 'headshotsPercentageValue', 'headshotsPercentageDisplayValue',\n",
    "]]\n",
    "\n",
    "df_matches.head(5)"
   ]
  },
  {
   "cell_type": "code",
   "execution_count": null,
   "metadata": {},
   "outputs": [],
   "source": [
    "df_matches = df_matches.rename(columns={'player': 'nickNameFull'})\n",
    "df_matches.head(5)"
   ]
  },
  {
   "cell_type": "code",
   "execution_count": null,
   "metadata": {},
   "outputs": [],
   "source": [
    "qt_rows = df_matches.shape[0]\n",
    "qt_columns = df_matches.shape[1]\n",
    "print('Rows: {} Columns: {}'.format(qt_rows, qt_columns))"
   ]
  },
  {
   "cell_type": "code",
   "execution_count": null,
   "metadata": {},
   "outputs": [],
   "source": [
    "df_matches_abt = df_matches.merge(df_top500_all_servers[[\"nickNameFull\", \"leaderboardRank\", 'competitiveTier', 'rankedRating','server']])\n",
    "df_matches_abt.head(5)"
   ]
  },
  {
   "cell_type": "code",
   "execution_count": null,
   "metadata": {},
   "outputs": [],
   "source": [
    "df_matches_abt.to_csv('C:\\\\repos\\\\tcc_valorant_analysis\\\\data\\\\matches\\\\matches_abt.csv')"
   ]
  },
  {
   "cell_type": "markdown",
   "metadata": {},
   "source": [
    "Weapons"
   ]
  },
  {
   "cell_type": "code",
   "execution_count": null,
   "metadata": {},
   "outputs": [],
   "source": [
    "df_weapons_raw = pd.read_csv('C:\\\\repos\\\\tcc_valorant_analysis\\\\data\\\\weapons\\\\weapons_summarized_20221172029.csv', low_memory=False)\n",
    "df_weapons_raw.head(5)"
   ]
  },
  {
   "cell_type": "code",
   "execution_count": null,
   "metadata": {},
   "outputs": [],
   "source": [
    "df_weapons = df_weapons_raw[[\n",
    "    'player','weaponName','matchesPlayedValue', 'matchesWonValue',\n",
    "    'matchesLostValue', 'matchesTiedValue','matchesWinPctValue','roundsPlayedValue',\n",
    "    'killsValue','killsPerRoundValue','killsPerMatchDisplayValue',\n",
    "    'secondaryKillsValue','headshotsValue','secondaryKillsPerRoundDisplayValue',\n",
    "    'secondaryKillsPerMatchDisplayValue','deathsValue','deathsPerRoundDisplayValue',\n",
    "    'deathsPerMatchDisplayValue','kDRatioValue','kDRatioDisplayValue','headshotsPercentageValue',\n",
    "    'damageValue','damagePerRoundValue','damagePerMatchValue','damageReceivedValue',\n",
    "    'dealtHeadshotsValue','dealtBodyshotsValue','dealtLegshotsValue','killDistanceValue',\n",
    "    'killDistanceDisplayValue','avgKillDistanceValue','avgKillDistanceDisplayValue',\n",
    "    'longestKillDistanceValue','longestKillDistanceDisplayValue',\n",
    "]]\n",
    "\n",
    "df_weapons_abt = df_weapons.rename(columns={'player': 'nickNameFull'})\n",
    "\n",
    "df_weapons_abt.head(5)"
   ]
  },
  {
   "cell_type": "code",
   "execution_count": null,
   "metadata": {},
   "outputs": [],
   "source": [
    "df_weapons_abt.to_csv('C:\\\\repos\\\\tcc_valorant_analysis\\\\data\\\\weapons\\\\weapons_abt.csv')"
   ]
  },
  {
   "cell_type": "markdown",
   "metadata": {},
   "source": [
    "EDA"
   ]
  },
  {
   "cell_type": "markdown",
   "metadata": {},
   "source": [
    "Matches"
   ]
  },
  {
   "cell_type": "code",
   "execution_count": null,
   "metadata": {},
   "outputs": [],
   "source": [
    "total_matches = df_matches_abt['matchId'].count()\n",
    "print(f'Total number of matches: {total_matches:,.0f}')"
   ]
  },
  {
   "cell_type": "code",
   "execution_count": null,
   "metadata": {},
   "outputs": [],
   "source": [
    "rounds_matches = (\n",
    "    df_matches_abt[['matchId','roundsPlayedValue',]]\n",
    "    .drop_duplicates()\n",
    "    .sort_values(by=['roundsPlayedValue'], ascending=False)\n",
    "    .reset_index(drop=True)\n",
    "    .head(5)\n",
    "    )\n",
    "rounds_matches"
   ]
  },
  {
   "cell_type": "code",
   "execution_count": null,
   "metadata": {},
   "outputs": [],
   "source": [
    "fig = px.bar(rounds_matches, y='matchId', x='roundsPlayedValue', text_auto='.2s',\n",
    "            title=\"Matches with the highest number of rounds\",\n",
    "            orientation='h')\n",
    "fig.update_traces(textfont_size=10, textangle=0, textposition=\"inside\", cliponaxis=False)\n",
    "fig.show()"
   ]
  },
  {
   "cell_type": "code",
   "execution_count": null,
   "metadata": {},
   "outputs": [],
   "source": [
    "matches_minutes = df_matches_abt[['matchId',]]\n",
    "matches_minutes['playtimeValueMinutes'] = df_matches_abt['playtimeValue']/60\n",
    "time_matches = (\n",
    "    matches_minutes\n",
    "    .drop_duplicates()\n",
    "    .sort_values(by=['playtimeValueMinutes'], ascending=False)\n",
    "    .reset_index(drop=True)\n",
    "    .head(5)\n",
    ")\n",
    "time_matches"
   ]
  },
  {
   "cell_type": "code",
   "execution_count": null,
   "metadata": {},
   "outputs": [],
   "source": [
    "fig = px.bar(matches_minutes, y='matchId', x='playtimeValueMinutes', text_auto='.5s',\n",
    "            title=\"Matches with the highest number of minutes played\",\n",
    "            orientation='h')\n",
    "fig.update_traces(textfont_size=10, textangle=0, textposition=\"inside\", cliponaxis=False)\n",
    "fig.show()"
   ]
  },
  {
   "cell_type": "code",
   "execution_count": null,
   "metadata": {},
   "outputs": [],
   "source": [
    "time_matches['date'] = df_matches_abt['timestamp'].apply(lambda x: pd.Timestamp(x).strftime('%Y-%m-%d'))\n",
    "time_matches['hour'] = df_matches_abt['timestamp'].apply(lambda x: pd.Timestamp(x).strftime('%H'))"
   ]
  },
  {
   "cell_type": "markdown",
   "metadata": {},
   "source": [
    "Maps"
   ]
  },
  {
   "cell_type": "code",
   "execution_count": null,
   "metadata": {},
   "outputs": [],
   "source": [
    "maps_list = df_matches_abt['mapName'].drop_duplicates().reset_index(drop=True)\n",
    "maps_list\n"
   ]
  },
  {
   "cell_type": "code",
   "execution_count": null,
   "metadata": {},
   "outputs": [],
   "source": [
    "matches_maps = df_matches_abt[['mapName',]].groupby(['mapName'])['mapName'] \\\n",
    "                             .count() \\\n",
    "                             .reset_index(name='count') \\\n",
    "                             .sort_values(['count'], ascending=False) \\\n",
    "                             \n",
    "matches_maps"
   ]
  },
  {
   "cell_type": "code",
   "execution_count": null,
   "metadata": {},
   "outputs": [],
   "source": [
    "fig = px.bar(matches_maps, y='count', x='mapName', text_auto='.5s',\n",
    "            title=\"Total number of matches per maps\")\n",
    "fig.update_traces(textfont_size=10, textangle=0, textposition=\"outside\", cliponaxis=False)\n",
    "fig.show()"
   ]
  },
  {
   "cell_type": "code",
   "execution_count": null,
   "metadata": {},
   "outputs": [],
   "source": []
  }
 ],
 "metadata": {
  "kernelspec": {
   "display_name": "Python 3.9.7 ('base')",
   "language": "python",
   "name": "python3"
  },
  "language_info": {
   "codemirror_mode": {
    "name": "ipython",
    "version": 3
   },
   "file_extension": ".py",
   "mimetype": "text/x-python",
   "name": "python",
   "nbconvert_exporter": "python",
   "pygments_lexer": "ipython3",
   "version": "3.9.7"
  },
  "orig_nbformat": 4,
  "vscode": {
   "interpreter": {
    "hash": "277d713a2869ad522e0f58de96fa3cb2620734b34dd3b3afd7f1966d69d2580f"
   }
  }
 },
 "nbformat": 4,
 "nbformat_minor": 2
}
