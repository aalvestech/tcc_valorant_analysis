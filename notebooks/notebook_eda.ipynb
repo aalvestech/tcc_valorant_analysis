{
 "cells": [
  {
   "cell_type": "markdown",
   "metadata": {},
   "source": [
    "Analise Exploratória"
   ]
  },
  {
   "cell_type": "code",
   "execution_count": null,
   "metadata": {},
   "outputs": [],
   "source": [
    "import pandas as pd"
   ]
  },
  {
   "cell_type": "markdown",
   "metadata": {},
   "source": [
    "Matches"
   ]
  },
  {
   "cell_type": "code",
   "execution_count": null,
   "metadata": {},
   "outputs": [],
   "source": [
    "df_matches = pd.read_csv('data/matches_summarized.csv')\n",
    "df_matches.head(5)"
   ]
  },
  {
   "cell_type": "code",
   "execution_count": null,
   "metadata": {},
   "outputs": [],
   "source": [
    "col_names = df_matches.columns\n",
    "col_names"
   ]
  },
  {
   "cell_type": "code",
   "execution_count": null,
   "metadata": {},
   "outputs": [],
   "source": [
    "row_num = df_matches.shape[0]\n",
    "row_num"
   ]
  },
  {
   "cell_type": "code",
   "execution_count": null,
   "metadata": {},
   "outputs": [],
   "source": [
    "col_num = df_matches.shape[1]\n",
    "col_num"
   ]
  },
  {
   "cell_type": "code",
   "execution_count": null,
   "metadata": {},
   "outputs": [],
   "source": [
    "nan_num = df_matches.isna().sum()\n",
    "nan_num"
   ]
  },
  {
   "cell_type": "code",
   "execution_count": null,
   "metadata": {},
   "outputs": [],
   "source": [
    "num_matches = df_matches['matchId'].nunique()\n",
    "num_matches"
   ]
  },
  {
   "cell_type": "code",
   "execution_count": null,
   "metadata": {},
   "outputs": [],
   "source": [
    "cat_features = df_matches[['player','matchId','mapId','modeId','modeKey','modeName','modeImageUrl','modeMaxRounds','isAvailable','timestamp','metadataResult','map','mapName','mapImageUrl','seasonName','userId',\n",
    "    'hasWon','result','agentName','playtimeDisplayType','roundsPlayedDisplayType','roundsWonDisplayType','roundsLostDisplayType','roundsDisconnectedDisplayType','placementDisplayType','scoreDisplayType',\n",
    "    'killsDisplayType','deathsDisplayType','assistsDisplayType','damageDisplayType','damageReceivedDisplayType','headshotsDisplayType','grenadeCastsDisplayType','ability1CastsDisplayType','ability2CastsDisplayType',\n",
    "    'ultimateCastsDisplayType','dealtHeadshotsDisplayType','dealtBodyshotsDisplayType','dealtLegshotsDisplayType','econRatingDisplayType','suicidesDisplayType','revivedDisplayType','firstBloodsDisplayType','firstDeathsDisplayType',\n",
    "    'lastDeathsDisplayType','survivedDisplayType','tradedDisplayType','kastedDisplayType','kASTDisplayType','flawlessDisplayType','thriftyDisplayType','acesDisplayType','teamAcesDisplayType','clutchesDisplayType','clutchesLostDisplayType',\n",
    "    'plantsDisplayType','defusesDisplayType','kdRatioDisplayType','scorePerRoundDisplayType','damagePerRoundDisplayType','headshotsPercentageDisplayType','rankDisplayType']]\n",
    "\n",
    "cat_features"
   ]
  },
  {
   "cell_type": "code",
   "execution_count": null,
   "metadata": {},
   "outputs": [],
   "source": [
    "num_features = df_matches[~['player','matchId','mapId','modeId','modeKey','modeName','modeImageUrl','modeMaxRounds','isAvailable','timestamp','metadataResult','map','mapName','mapImageUrl','seasonName','userId',\n",
    "    'hasWon','result','agentName','playtimeDisplayType','roundsPlayedDisplayType','roundsWonDisplayType','roundsLostDisplayType','roundsDisconnectedDisplayType','placementDisplayType','scoreDisplayType',\n",
    "    'killsDisplayType','deathsDisplayType','assistsDisplayType','damageDisplayType','damageReceivedDisplayType','headshotsDisplayType','grenadeCastsDisplayType','ability1CastsDisplayType','ability2CastsDisplayType',\n",
    "    'ultimateCastsDisplayType','dealtHeadshotsDisplayType','dealtBodyshotsDisplayType','dealtLegshotsDisplayType','econRatingDisplayType','suicidesDisplayType','revivedDisplayType','firstBloodsDisplayType','firstDeathsDisplayType',\n",
    "    'lastDeathsDisplayType','survivedDisplayType','tradedDisplayType','kastedDisplayType','kASTDisplayType','flawlessDisplayType','thriftyDisplayType','acesDisplayType','teamAcesDisplayType','clutchesDisplayType','clutchesLostDisplayType',\n",
    "    'plantsDisplayType','defusesDisplayType','kdRatioDisplayType','scorePerRoundDisplayType','damagePerRoundDisplayType','headshotsPercentageDisplayType','rankDisplayType']]\n",
    "\n",
    "num_features"
   ]
  },
  {
   "cell_type": "code",
   "execution_count": null,
   "metadata": {},
   "outputs": [],
   "source": [
    "wins_per_agent = df_matches.groupby(['agentName'],as_index=False)[['agentName','hasWon']].sum(numeric_only=True)\n",
    "wins_per_agent"
   ]
  },
  {
   "cell_type": "code",
   "execution_count": null,
   "metadata": {},
   "outputs": [],
   "source": [
    "highest_win_agent = wins_per_agent[wins_per_agent.hasWon == wins_per_agent.hasWon.max()]"
   ]
  }
 ],
 "metadata": {
  "kernelspec": {
   "display_name": "Python 3.10.8 64-bit (microsoft store)",
   "language": "python",
   "name": "python3"
  },
  "language_info": {
   "name": "python",
   "version": "3.10"
  },
  "orig_nbformat": 4,
  "vscode": {
   "interpreter": {
    "hash": "97cba5719d159acad27bb7f37d182d27b1d38df28115fbd0d331121e7aca3605"
   }
  }
 },
 "nbformat": 4,
 "nbformat_minor": 2
}
